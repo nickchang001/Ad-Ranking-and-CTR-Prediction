{
  "nbformat": 4,
  "nbformat_minor": 0,
  "metadata": {
    "colab": {
      "name": "Ad Ranking and CTR Prediction",
      "provenance": [],
      "collapsed_sections": [
        "8bi_FyHOd9oD",
        "5qND0soQpXud"
      ],
      "toc_visible": true,
      "authorship_tag": "ABX9TyMZmxzQHoMuYcxlsucSDKX6",
      "include_colab_link": true
    },
    "kernelspec": {
      "name": "python3",
      "display_name": "Python 3"
    },
    "accelerator": "GPU"
  },
  "cells": [
    {
      "cell_type": "markdown",
      "metadata": {
        "id": "view-in-github",
        "colab_type": "text"
      },
      "source": [
        "<a href=\"https://colab.research.google.com/github/nickchang001/Ad-Ranking-and-CTR-Prediction/blob/main/Ad_Ranking_and_CTR_Prediction.ipynb\" target=\"_parent\"><img src=\"https://colab.research.google.com/assets/colab-badge.svg\" alt=\"Open In Colab\"/></a>"
      ]
    },
    {
      "cell_type": "markdown",
      "metadata": {
        "id": "K5DwtJiRYsev"
      },
      "source": [
        "Task:\n",
        "Developed an ads recommendation system based on 11 days of ads click/no click impression dataset on mobile device to increased CTR by providing personalized ads\n"
      ]
    },
    {
      "cell_type": "markdown",
      "metadata": {
        "id": "t3I1eQLXG_jA"
      },
      "source": [
        "Problems Solved:\n",
        "1. Sparse feature:\n",
        " Feature embedding by GBDT+LR, FM.\n",
        " \n",
        " Consider userId as feature.(userid is important)\n",
        "2. Feature interation: DeepFM in crease model generability\n",
        "3. Label imbalance "
      ]
    },
    {
      "cell_type": "code",
      "metadata": {
        "id": "9CQgoMfNUrhk",
        "colab": {
          "base_uri": "https://localhost:8080/"
        },
        "outputId": "0550e353-ef09-4945-cad3-5f00f562607e"
      },
      "source": [
        "import pandas as pd\n",
        "import numpy as np\n",
        "import seaborn as sns\n",
        "import matplotlib.pyplot as plt\n",
        "import plotly.graph_objs as go\n",
        "\n",
        "import time\n",
        "import lightgbm as lgbm\n",
        "from sklearn.linear_model import LogisticRegression\n",
        "from sklearn import preprocessing\n",
        "from sklearn.model_selection import train_test_split\n",
        "from sklearn import metrics\n",
        "from sklearn.metrics import roc_curve,  roc_auc_score\n",
        "from sklearn.metrics import confusion_matrix\n",
        "from sklearn.metrics import classification_report\n",
        "from sklearn.model_selection import GridSearchCV\n",
        "from imblearn.over_sampling import SMOTE\n",
        "\n",
        "\n",
        "from plotly.offline import init_notebook_mode, iplot, plot, download_plotlyjs\n",
        "import warnings\n",
        "warnings.filterwarnings(\"ignore\")\n",
        "import sklearn\n",
        "import matplotlib.dates as mdates"
      ],
      "execution_count": null,
      "outputs": [
        {
          "output_type": "stream",
          "text": [
            "/usr/local/lib/python3.7/dist-packages/sklearn/externals/six.py:31: FutureWarning:\n",
            "\n",
            "The module is deprecated in version 0.21 and will be removed in version 0.23 since we've dropped support for Python 2.7. Please rely on the official version of six (https://pypi.org/project/six/).\n",
            "\n",
            "/usr/local/lib/python3.7/dist-packages/sklearn/utils/deprecation.py:144: FutureWarning:\n",
            "\n",
            "The sklearn.neighbors.base module is  deprecated in version 0.22 and will be removed in version 0.24. The corresponding classes / functions should instead be imported from sklearn.neighbors. Anything that cannot be imported from sklearn.neighbors is now part of the private API.\n",
            "\n"
          ],
          "name": "stderr"
        }
      ]
    },
    {
      "cell_type": "code",
      "metadata": {
        "colab": {
          "base_uri": "https://localhost:8080/"
        },
        "id": "9moD0akNWNGR",
        "outputId": "8b4ac3bd-3da2-4601-857c-2a437bc87842"
      },
      "source": [
        "from google.colab import drive\n",
        "drive.mount('/content/drive/')"
      ],
      "execution_count": null,
      "outputs": [
        {
          "output_type": "stream",
          "text": [
            "Mounted at /content/drive/\n"
          ],
          "name": "stdout"
        }
      ]
    },
    {
      "cell_type": "code",
      "metadata": {
        "id": "i3IOMr-kzuvb"
      },
      "source": [
        "#chunksize = 10 ** 6\n",
        "#num_of_chunk = 0\n",
        "#train = pd.DataFrame()\n",
        "\n",
        "#parse_date = lambda val : pd.datetime.strptime(val, '%y%m%d%H')   \n",
        "#for chunk in pd.read_csv('/content/drive/MyDrive/Projects/CTR/train.csv', engine='python', delimiter=',' ,parse_dates = ['hour'], date_parser = parse_date, chunksize=chunksize):\n",
        "#    num_of_chunk += 1\n",
        "#    train = pd.concat([train, chunk.sample(frac=.05, replace=False, random_state=123)], axis=0)\n",
        "#    print('Processing Chunk No. ' + str(num_of_chunk))     \n",
        "    \n",
        "#train.reset_index(inplace=True)\n",
        "\n",
        "# 備份train 資料長度，以便稍後df重新分割索引用途\n",
        "#train_len = len(train)\n",
        "#train_len\n",
        "#train.to_csv('/content/drive/MyDrive/Projects/sample_train.csv', index=False)"
      ],
      "execution_count": null,
      "outputs": []
    },
    {
      "cell_type": "code",
      "metadata": {
        "colab": {
          "base_uri": "https://localhost:8080/",
          "height": 391
        },
        "id": "8Eug6-hr6aEQ",
        "outputId": "6b59a180-f5ba-465b-daaa-3bdb2c5ca0aa"
      },
      "source": [
        "df = pd.read_csv('/content/drive/MyDrive/Projects/sample_train.csv')\n",
        "df.drop(labels=['index'], axis = 1, inplace=True)\n",
        "df.head()"
      ],
      "execution_count": null,
      "outputs": [
        {
          "output_type": "execute_result",
          "data": {
            "text/html": [
              "<div>\n",
              "<style scoped>\n",
              "    .dataframe tbody tr th:only-of-type {\n",
              "        vertical-align: middle;\n",
              "    }\n",
              "\n",
              "    .dataframe tbody tr th {\n",
              "        vertical-align: top;\n",
              "    }\n",
              "\n",
              "    .dataframe thead th {\n",
              "        text-align: right;\n",
              "    }\n",
              "</style>\n",
              "<table border=\"1\" class=\"dataframe\">\n",
              "  <thead>\n",
              "    <tr style=\"text-align: right;\">\n",
              "      <th></th>\n",
              "      <th>id</th>\n",
              "      <th>click</th>\n",
              "      <th>hour</th>\n",
              "      <th>C1</th>\n",
              "      <th>banner_pos</th>\n",
              "      <th>site_id</th>\n",
              "      <th>site_domain</th>\n",
              "      <th>site_category</th>\n",
              "      <th>app_id</th>\n",
              "      <th>app_domain</th>\n",
              "      <th>app_category</th>\n",
              "      <th>device_id</th>\n",
              "      <th>device_ip</th>\n",
              "      <th>device_model</th>\n",
              "      <th>device_type</th>\n",
              "      <th>device_conn_type</th>\n",
              "      <th>C14</th>\n",
              "      <th>C15</th>\n",
              "      <th>C16</th>\n",
              "      <th>C17</th>\n",
              "      <th>C18</th>\n",
              "      <th>C19</th>\n",
              "      <th>C20</th>\n",
              "      <th>C21</th>\n",
              "    </tr>\n",
              "  </thead>\n",
              "  <tbody>\n",
              "    <tr>\n",
              "      <th>0</th>\n",
              "      <td>2754752362988372739</td>\n",
              "      <td>1</td>\n",
              "      <td>2014-10-21 02:00:00</td>\n",
              "      <td>1005</td>\n",
              "      <td>1</td>\n",
              "      <td>d9750ee7</td>\n",
              "      <td>98572c79</td>\n",
              "      <td>f028772b</td>\n",
              "      <td>ecad2386</td>\n",
              "      <td>7801e8d9</td>\n",
              "      <td>07d7df22</td>\n",
              "      <td>a99f214a</td>\n",
              "      <td>a8536f3a</td>\n",
              "      <td>711ee120</td>\n",
              "      <td>1</td>\n",
              "      <td>0</td>\n",
              "      <td>17753</td>\n",
              "      <td>320</td>\n",
              "      <td>50</td>\n",
              "      <td>1993</td>\n",
              "      <td>2</td>\n",
              "      <td>1063</td>\n",
              "      <td>-1</td>\n",
              "      <td>33</td>\n",
              "    </tr>\n",
              "    <tr>\n",
              "      <th>1</th>\n",
              "      <td>9630799129494811181</td>\n",
              "      <td>0</td>\n",
              "      <td>2014-10-21 02:00:00</td>\n",
              "      <td>1005</td>\n",
              "      <td>0</td>\n",
              "      <td>1fbe01fe</td>\n",
              "      <td>f3845767</td>\n",
              "      <td>28905ebd</td>\n",
              "      <td>ecad2386</td>\n",
              "      <td>7801e8d9</td>\n",
              "      <td>07d7df22</td>\n",
              "      <td>a99f214a</td>\n",
              "      <td>210b723a</td>\n",
              "      <td>711ee120</td>\n",
              "      <td>1</td>\n",
              "      <td>0</td>\n",
              "      <td>15699</td>\n",
              "      <td>320</td>\n",
              "      <td>50</td>\n",
              "      <td>1722</td>\n",
              "      <td>0</td>\n",
              "      <td>35</td>\n",
              "      <td>100083</td>\n",
              "      <td>79</td>\n",
              "    </tr>\n",
              "    <tr>\n",
              "      <th>2</th>\n",
              "      <td>10482259799985475720</td>\n",
              "      <td>0</td>\n",
              "      <td>2014-10-21 02:00:00</td>\n",
              "      <td>1005</td>\n",
              "      <td>0</td>\n",
              "      <td>1fbe01fe</td>\n",
              "      <td>f3845767</td>\n",
              "      <td>28905ebd</td>\n",
              "      <td>ecad2386</td>\n",
              "      <td>7801e8d9</td>\n",
              "      <td>07d7df22</td>\n",
              "      <td>a99f214a</td>\n",
              "      <td>225af2a8</td>\n",
              "      <td>b78e6543</td>\n",
              "      <td>1</td>\n",
              "      <td>0</td>\n",
              "      <td>15703</td>\n",
              "      <td>320</td>\n",
              "      <td>50</td>\n",
              "      <td>1722</td>\n",
              "      <td>0</td>\n",
              "      <td>35</td>\n",
              "      <td>100083</td>\n",
              "      <td>79</td>\n",
              "    </tr>\n",
              "    <tr>\n",
              "      <th>3</th>\n",
              "      <td>18308563816330684401</td>\n",
              "      <td>0</td>\n",
              "      <td>2014-10-21 04:00:00</td>\n",
              "      <td>1005</td>\n",
              "      <td>1</td>\n",
              "      <td>b8eae5f9</td>\n",
              "      <td>1e334bd3</td>\n",
              "      <td>f028772b</td>\n",
              "      <td>ecad2386</td>\n",
              "      <td>7801e8d9</td>\n",
              "      <td>07d7df22</td>\n",
              "      <td>a99f214a</td>\n",
              "      <td>469c435d</td>\n",
              "      <td>8a4875bd</td>\n",
              "      <td>1</td>\n",
              "      <td>0</td>\n",
              "      <td>19950</td>\n",
              "      <td>320</td>\n",
              "      <td>50</td>\n",
              "      <td>1800</td>\n",
              "      <td>3</td>\n",
              "      <td>167</td>\n",
              "      <td>100077</td>\n",
              "      <td>23</td>\n",
              "    </tr>\n",
              "    <tr>\n",
              "      <th>4</th>\n",
              "      <td>3559389347669503524</td>\n",
              "      <td>0</td>\n",
              "      <td>2014-10-21 02:00:00</td>\n",
              "      <td>1005</td>\n",
              "      <td>0</td>\n",
              "      <td>1fbe01fe</td>\n",
              "      <td>f3845767</td>\n",
              "      <td>28905ebd</td>\n",
              "      <td>ecad2386</td>\n",
              "      <td>7801e8d9</td>\n",
              "      <td>07d7df22</td>\n",
              "      <td>a99f214a</td>\n",
              "      <td>d4e7897b</td>\n",
              "      <td>1f0bc64f</td>\n",
              "      <td>1</td>\n",
              "      <td>0</td>\n",
              "      <td>15701</td>\n",
              "      <td>320</td>\n",
              "      <td>50</td>\n",
              "      <td>1722</td>\n",
              "      <td>0</td>\n",
              "      <td>35</td>\n",
              "      <td>-1</td>\n",
              "      <td>79</td>\n",
              "    </tr>\n",
              "  </tbody>\n",
              "</table>\n",
              "</div>"
            ],
            "text/plain": [
              "                     id  click                 hour  ...   C19     C20 C21\n",
              "0   2754752362988372739      1  2014-10-21 02:00:00  ...  1063      -1  33\n",
              "1   9630799129494811181      0  2014-10-21 02:00:00  ...    35  100083  79\n",
              "2  10482259799985475720      0  2014-10-21 02:00:00  ...    35  100083  79\n",
              "3  18308563816330684401      0  2014-10-21 04:00:00  ...   167  100077  23\n",
              "4   3559389347669503524      0  2014-10-21 02:00:00  ...    35      -1  79\n",
              "\n",
              "[5 rows x 24 columns]"
            ]
          },
          "metadata": {
            "tags": []
          },
          "execution_count": 3
        }
      ]
    },
    {
      "cell_type": "code",
      "metadata": {
        "colab": {
          "base_uri": "https://localhost:8080/"
        },
        "id": "i7ii1yzh9o3R",
        "outputId": "c7601293-aa64-4473-c30b-09bd040cc241"
      },
      "source": [
        "print(df.shape)"
      ],
      "execution_count": null,
      "outputs": [
        {
          "output_type": "stream",
          "text": [
            "(2021448, 24)\n"
          ],
          "name": "stdout"
        }
      ]
    },
    {
      "cell_type": "markdown",
      "metadata": {
        "id": "7vHPserOTWeo"
      },
      "source": [
        "#Part1: EDA"
      ]
    },
    {
      "cell_type": "code",
      "metadata": {
        "colab": {
          "base_uri": "https://localhost:8080/"
        },
        "id": "_ruUpuTgTduV",
        "outputId": "03fc0373-7edb-435b-ac70-1483f3aa3cc1"
      },
      "source": [
        "#check missing value\n",
        "df.isnull().any()"
      ],
      "execution_count": null,
      "outputs": [
        {
          "output_type": "execute_result",
          "data": {
            "text/plain": [
              "id                  False\n",
              "click               False\n",
              "hour                False\n",
              "C1                  False\n",
              "banner_pos          False\n",
              "site_id             False\n",
              "site_domain         False\n",
              "site_category       False\n",
              "app_id              False\n",
              "app_domain          False\n",
              "app_category        False\n",
              "device_id           False\n",
              "device_ip           False\n",
              "device_model        False\n",
              "device_type         False\n",
              "device_conn_type    False\n",
              "C14                 False\n",
              "C15                 False\n",
              "C16                 False\n",
              "C17                 False\n",
              "C18                 False\n",
              "C19                 False\n",
              "C20                 False\n",
              "C21                 False\n",
              "dtype: bool"
            ]
          },
          "metadata": {
            "tags": []
          },
          "execution_count": 13
        }
      ]
    },
    {
      "cell_type": "markdown",
      "metadata": {
        "id": "-s_OOBd7TqeI"
      },
      "source": [
        "Note: No missing value."
      ]
    },
    {
      "cell_type": "code",
      "metadata": {
        "colab": {
          "base_uri": "https://localhost:8080/",
          "height": 317
        },
        "id": "YnvvORJJT2Ky",
        "outputId": "bd0ea42c-b0bd-43f5-afb4-ef0b41d83718"
      },
      "source": [
        "#distribution of each categorical feature\n",
        "df.describe()"
      ],
      "execution_count": null,
      "outputs": [
        {
          "output_type": "execute_result",
          "data": {
            "text/html": [
              "<div>\n",
              "<style scoped>\n",
              "    .dataframe tbody tr th:only-of-type {\n",
              "        vertical-align: middle;\n",
              "    }\n",
              "\n",
              "    .dataframe tbody tr th {\n",
              "        vertical-align: top;\n",
              "    }\n",
              "\n",
              "    .dataframe thead th {\n",
              "        text-align: right;\n",
              "    }\n",
              "</style>\n",
              "<table border=\"1\" class=\"dataframe\">\n",
              "  <thead>\n",
              "    <tr style=\"text-align: right;\">\n",
              "      <th></th>\n",
              "      <th>id</th>\n",
              "      <th>click</th>\n",
              "      <th>C1</th>\n",
              "      <th>banner_pos</th>\n",
              "      <th>device_type</th>\n",
              "      <th>device_conn_type</th>\n",
              "      <th>C14</th>\n",
              "      <th>C15</th>\n",
              "      <th>C16</th>\n",
              "      <th>C17</th>\n",
              "      <th>C18</th>\n",
              "      <th>C19</th>\n",
              "      <th>C20</th>\n",
              "      <th>C21</th>\n",
              "    </tr>\n",
              "  </thead>\n",
              "  <tbody>\n",
              "    <tr>\n",
              "      <th>count</th>\n",
              "      <td>2.021448e+06</td>\n",
              "      <td>2.021448e+06</td>\n",
              "      <td>2.021448e+06</td>\n",
              "      <td>2.021448e+06</td>\n",
              "      <td>2.021448e+06</td>\n",
              "      <td>2.021448e+06</td>\n",
              "      <td>2.021448e+06</td>\n",
              "      <td>2.021448e+06</td>\n",
              "      <td>2.021448e+06</td>\n",
              "      <td>2.021448e+06</td>\n",
              "      <td>2.021448e+06</td>\n",
              "      <td>2.021448e+06</td>\n",
              "      <td>2.021448e+06</td>\n",
              "      <td>2.021448e+06</td>\n",
              "    </tr>\n",
              "    <tr>\n",
              "      <th>mean</th>\n",
              "      <td>9.218109e+18</td>\n",
              "      <td>1.700731e-01</td>\n",
              "      <td>1.004969e+03</td>\n",
              "      <td>2.882340e-01</td>\n",
              "      <td>1.015307e+00</td>\n",
              "      <td>3.318859e-01</td>\n",
              "      <td>1.884284e+04</td>\n",
              "      <td>3.188822e+02</td>\n",
              "      <td>6.005369e+01</td>\n",
              "      <td>2.112584e+03</td>\n",
              "      <td>1.431725e+00</td>\n",
              "      <td>2.270127e+02</td>\n",
              "      <td>5.318717e+04</td>\n",
              "      <td>8.333984e+01</td>\n",
              "    </tr>\n",
              "    <tr>\n",
              "      <th>std</th>\n",
              "      <td>5.325791e+18</td>\n",
              "      <td>3.756971e-01</td>\n",
              "      <td>1.094232e+00</td>\n",
              "      <td>5.056662e-01</td>\n",
              "      <td>5.266572e-01</td>\n",
              "      <td>8.554913e-01</td>\n",
              "      <td>4.958722e+03</td>\n",
              "      <td>2.130750e+01</td>\n",
              "      <td>4.713234e+01</td>\n",
              "      <td>6.092307e+02</td>\n",
              "      <td>1.326632e+00</td>\n",
              "      <td>3.508460e+02</td>\n",
              "      <td>4.995869e+04</td>\n",
              "      <td>7.025499e+01</td>\n",
              "    </tr>\n",
              "    <tr>\n",
              "      <th>min</th>\n",
              "      <td>2.219877e+12</td>\n",
              "      <td>0.000000e+00</td>\n",
              "      <td>1.001000e+03</td>\n",
              "      <td>0.000000e+00</td>\n",
              "      <td>0.000000e+00</td>\n",
              "      <td>0.000000e+00</td>\n",
              "      <td>3.750000e+02</td>\n",
              "      <td>1.200000e+02</td>\n",
              "      <td>2.000000e+01</td>\n",
              "      <td>1.120000e+02</td>\n",
              "      <td>0.000000e+00</td>\n",
              "      <td>3.300000e+01</td>\n",
              "      <td>-1.000000e+00</td>\n",
              "      <td>1.000000e+00</td>\n",
              "    </tr>\n",
              "    <tr>\n",
              "      <th>25%</th>\n",
              "      <td>4.604298e+18</td>\n",
              "      <td>0.000000e+00</td>\n",
              "      <td>1.005000e+03</td>\n",
              "      <td>0.000000e+00</td>\n",
              "      <td>1.000000e+00</td>\n",
              "      <td>0.000000e+00</td>\n",
              "      <td>1.692000e+04</td>\n",
              "      <td>3.200000e+02</td>\n",
              "      <td>5.000000e+01</td>\n",
              "      <td>1.863000e+03</td>\n",
              "      <td>0.000000e+00</td>\n",
              "      <td>3.500000e+01</td>\n",
              "      <td>-1.000000e+00</td>\n",
              "      <td>2.300000e+01</td>\n",
              "    </tr>\n",
              "    <tr>\n",
              "      <th>50%</th>\n",
              "      <td>9.221590e+18</td>\n",
              "      <td>0.000000e+00</td>\n",
              "      <td>1.005000e+03</td>\n",
              "      <td>0.000000e+00</td>\n",
              "      <td>1.000000e+00</td>\n",
              "      <td>0.000000e+00</td>\n",
              "      <td>2.034600e+04</td>\n",
              "      <td>3.200000e+02</td>\n",
              "      <td>5.000000e+01</td>\n",
              "      <td>2.323000e+03</td>\n",
              "      <td>2.000000e+00</td>\n",
              "      <td>3.900000e+01</td>\n",
              "      <td>1.000480e+05</td>\n",
              "      <td>6.100000e+01</td>\n",
              "    </tr>\n",
              "    <tr>\n",
              "      <th>75%</th>\n",
              "      <td>1.382838e+19</td>\n",
              "      <td>0.000000e+00</td>\n",
              "      <td>1.005000e+03</td>\n",
              "      <td>1.000000e+00</td>\n",
              "      <td>1.000000e+00</td>\n",
              "      <td>0.000000e+00</td>\n",
              "      <td>2.189400e+04</td>\n",
              "      <td>3.200000e+02</td>\n",
              "      <td>5.000000e+01</td>\n",
              "      <td>2.526000e+03</td>\n",
              "      <td>3.000000e+00</td>\n",
              "      <td>1.710000e+02</td>\n",
              "      <td>1.000880e+05</td>\n",
              "      <td>1.010000e+02</td>\n",
              "    </tr>\n",
              "    <tr>\n",
              "      <th>max</th>\n",
              "      <td>1.844673e+19</td>\n",
              "      <td>1.000000e+00</td>\n",
              "      <td>1.012000e+03</td>\n",
              "      <td>7.000000e+00</td>\n",
              "      <td>5.000000e+00</td>\n",
              "      <td>5.000000e+00</td>\n",
              "      <td>2.405200e+04</td>\n",
              "      <td>1.024000e+03</td>\n",
              "      <td>1.024000e+03</td>\n",
              "      <td>2.758000e+03</td>\n",
              "      <td>3.000000e+00</td>\n",
              "      <td>1.839000e+03</td>\n",
              "      <td>1.002480e+05</td>\n",
              "      <td>2.550000e+02</td>\n",
              "    </tr>\n",
              "  </tbody>\n",
              "</table>\n",
              "</div>"
            ],
            "text/plain": [
              "                 id         click  ...           C20           C21\n",
              "count  2.021448e+06  2.021448e+06  ...  2.021448e+06  2.021448e+06\n",
              "mean   9.218109e+18  1.700731e-01  ...  5.318717e+04  8.333984e+01\n",
              "std    5.325791e+18  3.756971e-01  ...  4.995869e+04  7.025499e+01\n",
              "min    2.219877e+12  0.000000e+00  ... -1.000000e+00  1.000000e+00\n",
              "25%    4.604298e+18  0.000000e+00  ... -1.000000e+00  2.300000e+01\n",
              "50%    9.221590e+18  0.000000e+00  ...  1.000480e+05  6.100000e+01\n",
              "75%    1.382838e+19  0.000000e+00  ...  1.000880e+05  1.010000e+02\n",
              "max    1.844673e+19  1.000000e+00  ...  1.002480e+05  2.550000e+02\n",
              "\n",
              "[8 rows x 14 columns]"
            ]
          },
          "metadata": {
            "tags": []
          },
          "execution_count": 12
        }
      ]
    },
    {
      "cell_type": "markdown",
      "metadata": {
        "id": "TQA7gpZYUDTJ"
      },
      "source": [
        "Note: Click Through Rate is about 17%."
      ]
    },
    {
      "cell_type": "code",
      "metadata": {
        "colab": {
          "base_uri": "https://localhost:8080/",
          "height": 290
        },
        "id": "AjbkIUlOT_2y",
        "outputId": "9be8c30b-87f8-4348-aca5-10e7edfff0a7"
      },
      "source": [
        "sns.countplot(df['click'])\n",
        "plt.show()"
      ],
      "execution_count": null,
      "outputs": [
        {
          "output_type": "display_data",
          "data": {
            "image/png": "[encoded data removed]",
            "text/plain": [
              "<Figure size 432x288 with 1 Axes>"
            ]
          },
          "metadata": {
            "tags": [],
            "needs_background": "light"
          }
        }
      ]
    },
    {
      "cell_type": "code",
      "metadata": {
        "colab": {
          "base_uri": "https://localhost:8080/",
          "height": 291
        },
        "id": "WSVPLp_vUm_Q",
        "outputId": "2501645c-90e4-430d-c1f4-167d96283f48"
      },
      "source": [
        "#click distribution by banner positions\n",
        "sns.countplot(df['banner_pos'])\n",
        "plt.show()"
      ],
      "execution_count": null,
      "outputs": [
        {
          "output_type": "display_data",
          "data": {
            "image/png": "[encoded data removed]",
            "text/plain": [
              "<Figure size 432x288 with 1 Axes>"
            ]
          },
          "metadata": {
            "tags": [],
            "needs_background": "light"
          }
        }
      ]
    },
    {
      "cell_type": "markdown",
      "metadata": {
        "id": "FVM5qo0YU0ER"
      },
      "source": [
        "Note: Ad positions 0 and 1 have most user clicked."
      ]
    },
    {
      "cell_type": "markdown",
      "metadata": {
        "id": "-uqTkg7gVnMd"
      },
      "source": [
        "###Part: Correlation of each feature"
      ]
    },
    {
      "cell_type": "code",
      "metadata": {
        "colab": {
          "base_uri": "https://localhost:8080/",
          "height": 1000
        },
        "id": "IpcrxoMMWGQB",
        "outputId": "20983451-74eb-4a6a-b56f-86e4628022dc"
      },
      "source": [
        "#Label encode categorical feature which are object type\n",
        "for column in ['C1', 'site_id', 'site_domain',\n",
        "       'site_category', 'app_id', 'app_domain', 'app_category', 'device_id',\n",
        "       'device_ip', 'device_model']:\n",
        "    enc = preprocessing.LabelEncoder()\n",
        "    df[column] = enc.fit_transform(df[column])\n",
        "\n",
        "#Quick look the feature correlation, remove id, click.\n",
        "sub_train = df.iloc[:, 3:]\n",
        "plt.figure(figsize=(20, 18))\n",
        "sns.heatmap(sub_train.corr().abs(), annot=True)\n",
        "plt.show()"
      ],
      "execution_count": null,
      "outputs": [
        {
          "output_type": "error",
          "ename": "AttributeError",
          "evalue": "ignored",
          "traceback": [
            "\u001b[0;31m---------------------------------------------------------------------------\u001b[0m",
            "\u001b[0;31mAttributeError\u001b[0m                            Traceback (most recent call last)",
            "\u001b[0;32m<ipython-input-24-f355f5f5713a>\u001b[0m in \u001b[0;36m<module>\u001b[0;34m()\u001b[0m\n\u001b[1;32m     10\u001b[0m \u001b[0mplt\u001b[0m\u001b[0;34m.\u001b[0m\u001b[0mfigure\u001b[0m\u001b[0;34m(\u001b[0m\u001b[0mfigsize\u001b[0m\u001b[0;34m=\u001b[0m\u001b[0;34m(\u001b[0m\u001b[0;36m20\u001b[0m\u001b[0;34m,\u001b[0m \u001b[0;36m18\u001b[0m\u001b[0;34m)\u001b[0m\u001b[0;34m)\u001b[0m\u001b[0;34m\u001b[0m\u001b[0;34m\u001b[0m\u001b[0m\n\u001b[1;32m     11\u001b[0m \u001b[0msns\u001b[0m\u001b[0;34m.\u001b[0m\u001b[0mheatmap\u001b[0m\u001b[0;34m(\u001b[0m\u001b[0msub_train\u001b[0m\u001b[0;34m.\u001b[0m\u001b[0mcorr\u001b[0m\u001b[0;34m(\u001b[0m\u001b[0;34m)\u001b[0m\u001b[0;34m.\u001b[0m\u001b[0mabs\u001b[0m\u001b[0;34m(\u001b[0m\u001b[0;34m)\u001b[0m\u001b[0;34m,\u001b[0m \u001b[0mannot\u001b[0m\u001b[0;34m=\u001b[0m\u001b[0;32mTrue\u001b[0m\u001b[0;34m)\u001b[0m\u001b[0;34m\u001b[0m\u001b[0;34m\u001b[0m\u001b[0m\n\u001b[0;32m---> 12\u001b[0;31m \u001b[0mplot\u001b[0m\u001b[0;34m.\u001b[0m\u001b[0mshow\u001b[0m\u001b[0;34m(\u001b[0m\u001b[0;34m)\u001b[0m\u001b[0;34m\u001b[0m\u001b[0;34m\u001b[0m\u001b[0m\n\u001b[0m",
            "\u001b[0;31mAttributeError\u001b[0m: 'function' object has no attribute 'show'"
          ]
        },
        {
          "output_type": "display_data",
          "data": {
            "image/png": "[encoded data removed]",
            "text/plain": [
              "<Figure size 1440x1296 with 2 Axes>"
            ]
          },
          "metadata": {
            "tags": [],
            "needs_background": "light"
          }
        }
      ]
    },
    {
      "cell_type": "markdown",
      "metadata": {
        "id": "JCeLWHUWZhlO"
      },
      "source": [
        "Note: C14 and C17 have strong correlation. Also, C1 and device_type have strong correlatoin."
      ]
    },
    {
      "cell_type": "code",
      "metadata": {
        "colab": {
          "base_uri": "https://localhost:8080/"
        },
        "id": "isyKuUcnWtPg",
        "outputId": "6c8f8cd7-e1d4-4c82-a777-d700a581fdd1"
      },
      "source": [
        "#Ceck which feature has highest correlation with click\n",
        "corr_matrix = df.corr()\n",
        "corr_matrix[\"click\"].sort_values(ascending = False)"
      ],
      "execution_count": null,
      "outputs": [
        {
          "output_type": "execute_result",
          "data": {
            "text/plain": [
              "click               1.000000\n",
              "C16                 0.128689\n",
              "app_id              0.069924\n",
              "banner_pos          0.027128\n",
              "C18                 0.022445\n",
              "device_id           0.008817\n",
              "device_ip           0.001549\n",
              "id                 -0.000796\n",
              "device_model       -0.001694\n",
              "site_category      -0.003064\n",
              "C19                -0.003413\n",
              "site_id            -0.006014\n",
              "app_domain         -0.009369\n",
              "C15                -0.032237\n",
              "C1                 -0.035267\n",
              "device_type        -0.038104\n",
              "site_domain        -0.041123\n",
              "app_category       -0.051826\n",
              "C17                -0.055342\n",
              "C20                -0.057165\n",
              "C14                -0.059780\n",
              "C21                -0.070652\n",
              "device_conn_type   -0.084290\n",
              "Name: click, dtype: float64"
            ]
          },
          "metadata": {
            "tags": []
          },
          "execution_count": 25
        }
      ]
    },
    {
      "cell_type": "markdown",
      "metadata": {
        "id": "K_eH0yKxavEv"
      },
      "source": [
        "Note: C16 has highest correlation with click."
      ]
    },
    {
      "cell_type": "code",
      "metadata": {
        "colab": {
          "base_uri": "https://localhost:8080/",
          "height": 224
        },
        "id": "Xx_NhelcXFwy",
        "outputId": "f191cf57-5631-4612-e156-d9e8429b664b"
      },
      "source": [
        "#remove first 4 features\n",
        "sub_train = df.iloc[:, 3:]\n",
        "sub_train.head()"
      ],
      "execution_count": null,
      "outputs": [
        {
          "output_type": "execute_result",
          "data": {
            "text/html": [
              "<div>\n",
              "<style scoped>\n",
              "    .dataframe tbody tr th:only-of-type {\n",
              "        vertical-align: middle;\n",
              "    }\n",
              "\n",
              "    .dataframe tbody tr th {\n",
              "        vertical-align: top;\n",
              "    }\n",
              "\n",
              "    .dataframe thead th {\n",
              "        text-align: right;\n",
              "    }\n",
              "</style>\n",
              "<table border=\"1\" class=\"dataframe\">\n",
              "  <thead>\n",
              "    <tr style=\"text-align: right;\">\n",
              "      <th></th>\n",
              "      <th>C1</th>\n",
              "      <th>banner_pos</th>\n",
              "      <th>site_id</th>\n",
              "      <th>site_domain</th>\n",
              "      <th>site_category</th>\n",
              "      <th>app_id</th>\n",
              "      <th>app_domain</th>\n",
              "      <th>app_category</th>\n",
              "      <th>device_id</th>\n",
              "      <th>device_ip</th>\n",
              "      <th>device_model</th>\n",
              "      <th>device_type</th>\n",
              "      <th>device_conn_type</th>\n",
              "      <th>C14</th>\n",
              "      <th>C15</th>\n",
              "      <th>C16</th>\n",
              "      <th>C17</th>\n",
              "      <th>C18</th>\n",
              "      <th>C19</th>\n",
              "      <th>C20</th>\n",
              "      <th>C21</th>\n",
              "    </tr>\n",
              "  </thead>\n",
              "  <tbody>\n",
              "    <tr>\n",
              "      <th>0</th>\n",
              "      <td>2</td>\n",
              "      <td>1</td>\n",
              "      <td>2574</td>\n",
              "      <td>2109</td>\n",
              "      <td>21</td>\n",
              "      <td>3658</td>\n",
              "      <td>104</td>\n",
              "      <td>0</td>\n",
              "      <td>185771</td>\n",
              "      <td>637489</td>\n",
              "      <td>2564</td>\n",
              "      <td>1</td>\n",
              "      <td>0</td>\n",
              "      <td>17753</td>\n",
              "      <td>320</td>\n",
              "      <td>50</td>\n",
              "      <td>1993</td>\n",
              "      <td>2</td>\n",
              "      <td>1063</td>\n",
              "      <td>-1</td>\n",
              "      <td>33</td>\n",
              "    </tr>\n",
              "    <tr>\n",
              "      <th>1</th>\n",
              "      <td>2</td>\n",
              "      <td>0</td>\n",
              "      <td>372</td>\n",
              "      <td>3334</td>\n",
              "      <td>1</td>\n",
              "      <td>3658</td>\n",
              "      <td>104</td>\n",
              "      <td>0</td>\n",
              "      <td>185771</td>\n",
              "      <td>124684</td>\n",
              "      <td>2564</td>\n",
              "      <td>1</td>\n",
              "      <td>0</td>\n",
              "      <td>15699</td>\n",
              "      <td>320</td>\n",
              "      <td>50</td>\n",
              "      <td>1722</td>\n",
              "      <td>0</td>\n",
              "      <td>35</td>\n",
              "      <td>100083</td>\n",
              "      <td>79</td>\n",
              "    </tr>\n",
              "    <tr>\n",
              "      <th>2</th>\n",
              "      <td>2</td>\n",
              "      <td>0</td>\n",
              "      <td>372</td>\n",
              "      <td>3334</td>\n",
              "      <td>1</td>\n",
              "      <td>3658</td>\n",
              "      <td>104</td>\n",
              "      <td>0</td>\n",
              "      <td>185771</td>\n",
              "      <td>129527</td>\n",
              "      <td>4134</td>\n",
              "      <td>1</td>\n",
              "      <td>0</td>\n",
              "      <td>15703</td>\n",
              "      <td>320</td>\n",
              "      <td>50</td>\n",
              "      <td>1722</td>\n",
              "      <td>0</td>\n",
              "      <td>35</td>\n",
              "      <td>100083</td>\n",
              "      <td>79</td>\n",
              "    </tr>\n",
              "    <tr>\n",
              "      <th>3</th>\n",
              "      <td>2</td>\n",
              "      <td>1</td>\n",
              "      <td>2183</td>\n",
              "      <td>390</td>\n",
              "      <td>21</td>\n",
              "      <td>3658</td>\n",
              "      <td>104</td>\n",
              "      <td>0</td>\n",
              "      <td>185771</td>\n",
              "      <td>266814</td>\n",
              "      <td>3141</td>\n",
              "      <td>1</td>\n",
              "      <td>0</td>\n",
              "      <td>19950</td>\n",
              "      <td>320</td>\n",
              "      <td>50</td>\n",
              "      <td>1800</td>\n",
              "      <td>3</td>\n",
              "      <td>167</td>\n",
              "      <td>100077</td>\n",
              "      <td>23</td>\n",
              "    </tr>\n",
              "    <tr>\n",
              "      <th>4</th>\n",
              "      <td>2</td>\n",
              "      <td>0</td>\n",
              "      <td>372</td>\n",
              "      <td>3334</td>\n",
              "      <td>1</td>\n",
              "      <td>3658</td>\n",
              "      <td>104</td>\n",
              "      <td>0</td>\n",
              "      <td>185771</td>\n",
              "      <td>806168</td>\n",
              "      <td>673</td>\n",
              "      <td>1</td>\n",
              "      <td>0</td>\n",
              "      <td>15701</td>\n",
              "      <td>320</td>\n",
              "      <td>50</td>\n",
              "      <td>1722</td>\n",
              "      <td>0</td>\n",
              "      <td>35</td>\n",
              "      <td>-1</td>\n",
              "      <td>79</td>\n",
              "    </tr>\n",
              "  </tbody>\n",
              "</table>\n",
              "</div>"
            ],
            "text/plain": [
              "   C1  banner_pos  site_id  site_domain  ...  C18   C19     C20  C21\n",
              "0   2           1     2574         2109  ...    2  1063      -1   33\n",
              "1   2           0      372         3334  ...    0    35  100083   79\n",
              "2   2           0      372         3334  ...    0    35  100083   79\n",
              "3   2           1     2183          390  ...    3   167  100077   23\n",
              "4   2           0      372         3334  ...    0    35      -1   79\n",
              "\n",
              "[5 rows x 21 columns]"
            ]
          },
          "metadata": {
            "tags": []
          },
          "execution_count": 18
        }
      ]
    },
    {
      "cell_type": "code",
      "metadata": {
        "id": "8hUHr6ZwUzlR",
        "colab": {
          "base_uri": "https://localhost:8080/",
          "height": 232
        },
        "outputId": "e636ea7c-7bbd-4596-a37f-3333c94f6900"
      },
      "source": [
        "for column in ['C1', 'site_id', 'site_domain',\n",
        "       'site_category', 'app_id', 'app_domain', 'app_category', 'device_id',\n",
        "       'device_ip', 'device_model']:\n",
        "    enc = LabelEncoder()\n",
        "    train[column] = enc.fit_transform(train[column])\n",
        "    \n",
        "sub_train = train.iloc[:, 4:]\n",
        "plt.figure(figsize=(20, 18))\n",
        "sns.heatmap(sub_train.corr().abs(), annot=True)\n",
        "plot.show()"
      ],
      "execution_count": null,
      "outputs": [
        {
          "output_type": "error",
          "ename": "NameError",
          "evalue": "ignored",
          "traceback": [
            "\u001b[0;31m---------------------------------------------------------------------------\u001b[0m",
            "\u001b[0;31mNameError\u001b[0m                                 Traceback (most recent call last)",
            "\u001b[0;32m<ipython-input-14-c1800853b00d>\u001b[0m in \u001b[0;36m<module>\u001b[0;34m()\u001b[0m\n\u001b[1;32m      2\u001b[0m        \u001b[0;34m'site_category'\u001b[0m\u001b[0;34m,\u001b[0m \u001b[0;34m'app_id'\u001b[0m\u001b[0;34m,\u001b[0m \u001b[0;34m'app_domain'\u001b[0m\u001b[0;34m,\u001b[0m \u001b[0;34m'app_category'\u001b[0m\u001b[0;34m,\u001b[0m \u001b[0;34m'device_id'\u001b[0m\u001b[0;34m,\u001b[0m\u001b[0;34m\u001b[0m\u001b[0;34m\u001b[0m\u001b[0m\n\u001b[1;32m      3\u001b[0m        'device_ip', 'device_model']:\n\u001b[0;32m----> 4\u001b[0;31m     \u001b[0menc\u001b[0m \u001b[0;34m=\u001b[0m \u001b[0mLabelEncoder\u001b[0m\u001b[0;34m(\u001b[0m\u001b[0;34m)\u001b[0m\u001b[0;34m\u001b[0m\u001b[0;34m\u001b[0m\u001b[0m\n\u001b[0m\u001b[1;32m      5\u001b[0m     \u001b[0mtrain\u001b[0m\u001b[0;34m[\u001b[0m\u001b[0mcolumn\u001b[0m\u001b[0;34m]\u001b[0m \u001b[0;34m=\u001b[0m \u001b[0menc\u001b[0m\u001b[0;34m.\u001b[0m\u001b[0mfit_transform\u001b[0m\u001b[0;34m(\u001b[0m\u001b[0mtrain\u001b[0m\u001b[0;34m[\u001b[0m\u001b[0mcolumn\u001b[0m\u001b[0;34m]\u001b[0m\u001b[0;34m)\u001b[0m\u001b[0;34m\u001b[0m\u001b[0;34m\u001b[0m\u001b[0m\n\u001b[1;32m      6\u001b[0m \u001b[0;34m\u001b[0m\u001b[0m\n",
            "\u001b[0;31mNameError\u001b[0m: name 'LabelEncoder' is not defined"
          ]
        }
      ]
    },
    {
      "cell_type": "markdown",
      "metadata": {
        "id": "8bi_FyHOd9oD"
      },
      "source": [
        "#Part2: Feature Engineering"
      ]
    },
    {
      "cell_type": "markdown",
      "metadata": {
        "id": "JBBou1O-eQK0"
      },
      "source": [
        "**Ad id is very important feature. Recall increase 9% with including Ad id in our training data.**"
      ]
    },
    {
      "cell_type": "markdown",
      "metadata": {
        "id": "JkQctF2Ieze5"
      },
      "source": [
        "###Patr2.0: Numerical variable Bucketing\n",
        "\n",
        "\n",
        "*   Extracts the hour/day/month from the ''hour'' column.\n",
        "*    We will only keep the hour because the data only have 11 consecutive days, month and day might not be reliable. \n"
      ]
    },
    {
      "cell_type": "code",
      "metadata": {
        "colab": {
          "base_uri": "https://localhost:8080/"
        },
        "id": "AdldRN4gfB0w",
        "outputId": "408b9c46-a941-412b-dc34-c7f3f3d73bd2"
      },
      "source": [
        "#Extrac hour of day from hour(including month, day, hour) column\n",
        "df['hour_of_day'] = df['hour'].map(lambda x: int(str(x)[11:13]))\n",
        "\n",
        "#drop hour\n",
        "clean_df = df.drop(['hour'], axis=1)\n",
        "\n",
        "#count # of data each hour\n",
        "clean_df['hour_of_day'].value_counts()"
      ],
      "execution_count": null,
      "outputs": [
        {
          "output_type": "execute_result",
          "data": {
            "text/plain": [
              "13    119530\n",
              "9     113719\n",
              "12    110840\n",
              "14    110040\n",
              "10    107373\n",
              "8     104839\n",
              "15    103983\n",
              "11    102749\n",
              "16    102429\n",
              "17    101811\n",
              "5      99192\n",
              "4      95500\n",
              "7      92985\n",
              "6      88095\n",
              "18     87863\n",
              "3      70009\n",
              "19     65984\n",
              "2      61236\n",
              "20     56030\n",
              "21     49443\n",
              "1      49287\n",
              "22     45259\n",
              "0      42121\n",
              "23     41131\n",
              "Name: hour_of_day, dtype: int64"
            ]
          },
          "metadata": {
            "tags": []
          },
          "execution_count": 18
        }
      ]
    },
    {
      "cell_type": "markdown",
      "metadata": {
        "id": "7B6WWtOFmyqJ"
      },
      "source": [
        "**Note: The distribution of hour are quite balance, we will not bucketize the hour first."
      ]
    },
    {
      "cell_type": "markdown",
      "metadata": {
        "id": "z7B95ZPQYlPw"
      },
      "source": [
        "###Part2.1: Target Encoding\n",
        "\n",
        "**Fore target encoding, we must split train test data before encoding in order to avoid infomation leak.**"
      ]
    },
    {
      "cell_type": "code",
      "metadata": {
        "id": "NHc9tT-8MnbS",
        "colab": {
          "base_uri": "https://localhost:8080/"
        },
        "outputId": "d2164c92-dddb-40ff-c343-492ecee4b46e"
      },
      "source": [
        "#install sklearn category encoder for target encoding  \n",
        "!pip install category-encoders"
      ],
      "execution_count": null,
      "outputs": [
        {
          "output_type": "stream",
          "text": [
            "Installing collected packages: category-encoders\n",
            "Successfully installed category-encoders-2.2.2\n"
          ],
          "name": "stdout"
        }
      ]
    },
    {
      "cell_type": "code",
      "metadata": {
        "colab": {
          "base_uri": "https://localhost:8080/"
        },
        "id": "I9gGkF53t1d8",
        "outputId": "5a8387c3-6898-4f54-81e5-adc466cb18c6"
      },
      "source": [
        "#Drop hour because our sample data only just includ single day \n",
        "clean_df = df.drop(columns=['hour'])\n",
        "clean_df.columns"
      ],
      "execution_count": null,
      "outputs": [
        {
          "output_type": "execute_result",
          "data": {
            "text/plain": [
              "Index(['id', 'click', 'C1', 'banner_pos', 'site_id', 'site_domain',\n",
              "       'site_category', 'app_id', 'app_domain', 'app_category', 'device_id',\n",
              "       'device_ip', 'device_model', 'device_type', 'device_conn_type', 'C14',\n",
              "       'C15', 'C16', 'C17', 'C18', 'C19', 'C20', 'C21'],\n",
              "      dtype='object')"
            ]
          },
          "metadata": {
            "tags": []
          },
          "execution_count": 6
        }
      ]
    },
    {
      "cell_type": "code",
      "metadata": {
        "colab": {
          "base_uri": "https://localhost:8080/",
          "height": 224
        },
        "id": "pwRPry-hYRqc",
        "outputId": "d4594a7f-f67c-45ac-9990-dea578586092"
      },
      "source": [
        "#encoding include ad_id becasue ad_id is very import feature\n",
        "from category_encoders import TargetEncoder\n",
        "cat_feature = ['id','C1', 'banner_pos', 'site_id', 'site_domain', 'site_category',\n",
        "       'app_id', 'app_domain', 'app_category', 'device_id', 'device_ip',\n",
        "       'device_model', 'device_type', 'device_conn_type', 'C14', 'C15', 'C16',\n",
        "       'C17', 'C18', 'C19', 'C20', 'C21']\n",
        "\n",
        "encoder = TargetEncoder(cols = cat_feature)\n",
        "\n",
        "#Train test Split 80% training, 20% test data\n",
        "x_train, x_test, y_train, y_test = train_test_split(clean_df, clean_df['click'], test_size=0.2, random_state=99)\n",
        "\n",
        "x_train_te = encoder.fit_transform(x_train[cat_feature], y_train)\n",
        "x_test_te = encoder.transform(x_test[cat_feature], y_test)\n",
        "\n",
        "x_train_te.head()"
      ],
      "execution_count": null,
      "outputs": [
        {
          "output_type": "execute_result",
          "data": {
            "text/html": [
              "<div>\n",
              "<style scoped>\n",
              "    .dataframe tbody tr th:only-of-type {\n",
              "        vertical-align: middle;\n",
              "    }\n",
              "\n",
              "    .dataframe tbody tr th {\n",
              "        vertical-align: top;\n",
              "    }\n",
              "\n",
              "    .dataframe thead th {\n",
              "        text-align: right;\n",
              "    }\n",
              "</style>\n",
              "<table border=\"1\" class=\"dataframe\">\n",
              "  <thead>\n",
              "    <tr style=\"text-align: right;\">\n",
              "      <th></th>\n",
              "      <th>id</th>\n",
              "      <th>C1</th>\n",
              "      <th>banner_pos</th>\n",
              "      <th>site_id</th>\n",
              "      <th>site_domain</th>\n",
              "      <th>site_category</th>\n",
              "      <th>app_id</th>\n",
              "      <th>app_domain</th>\n",
              "      <th>app_category</th>\n",
              "      <th>device_id</th>\n",
              "      <th>device_ip</th>\n",
              "      <th>device_model</th>\n",
              "      <th>device_type</th>\n",
              "      <th>device_conn_type</th>\n",
              "      <th>C14</th>\n",
              "      <th>C15</th>\n",
              "      <th>C16</th>\n",
              "      <th>C17</th>\n",
              "      <th>C18</th>\n",
              "      <th>C19</th>\n",
              "      <th>C20</th>\n",
              "      <th>C21</th>\n",
              "    </tr>\n",
              "  </thead>\n",
              "  <tbody>\n",
              "    <tr>\n",
              "      <th>1576628</th>\n",
              "      <td>0.170079</td>\n",
              "      <td>0.169576</td>\n",
              "      <td>0.184575</td>\n",
              "      <td>0.118474</td>\n",
              "      <td>0.122474</td>\n",
              "      <td>0.128339</td>\n",
              "      <td>0.117633</td>\n",
              "      <td>0.137814</td>\n",
              "      <td>0.108004</td>\n",
              "      <td>0.411271</td>\n",
              "      <td>0.107143</td>\n",
              "      <td>0.138155</td>\n",
              "      <td>0.169436</td>\n",
              "      <td>0.181517</td>\n",
              "      <td>0.097561</td>\n",
              "      <td>0.358079</td>\n",
              "      <td>0.158723</td>\n",
              "      <td>0.163502</td>\n",
              "      <td>0.146430</td>\n",
              "      <td>0.244237</td>\n",
              "      <td>0.19311</td>\n",
              "      <td>0.213761</td>\n",
              "    </tr>\n",
              "    <tr>\n",
              "      <th>852922</th>\n",
              "      <td>0.170079</td>\n",
              "      <td>0.169576</td>\n",
              "      <td>0.164256</td>\n",
              "      <td>0.205593</td>\n",
              "      <td>0.205593</td>\n",
              "      <td>0.208395</td>\n",
              "      <td>0.199108</td>\n",
              "      <td>0.195356</td>\n",
              "      <td>0.199623</td>\n",
              "      <td>0.174397</td>\n",
              "      <td>0.170079</td>\n",
              "      <td>0.253545</td>\n",
              "      <td>0.169436</td>\n",
              "      <td>0.181517</td>\n",
              "      <td>0.200556</td>\n",
              "      <td>0.158985</td>\n",
              "      <td>0.158723</td>\n",
              "      <td>0.189787</td>\n",
              "      <td>0.158279</td>\n",
              "      <td>0.167393</td>\n",
              "      <td>0.19311</td>\n",
              "      <td>0.188010</td>\n",
              "    </tr>\n",
              "    <tr>\n",
              "      <th>937869</th>\n",
              "      <td>0.170079</td>\n",
              "      <td>0.169576</td>\n",
              "      <td>0.164256</td>\n",
              "      <td>0.205593</td>\n",
              "      <td>0.205593</td>\n",
              "      <td>0.208395</td>\n",
              "      <td>0.199108</td>\n",
              "      <td>0.195356</td>\n",
              "      <td>0.199623</td>\n",
              "      <td>0.174397</td>\n",
              "      <td>0.181818</td>\n",
              "      <td>0.242350</td>\n",
              "      <td>0.169436</td>\n",
              "      <td>0.181517</td>\n",
              "      <td>0.208524</td>\n",
              "      <td>0.158985</td>\n",
              "      <td>0.158723</td>\n",
              "      <td>0.189787</td>\n",
              "      <td>0.158279</td>\n",
              "      <td>0.167393</td>\n",
              "      <td>0.19311</td>\n",
              "      <td>0.188010</td>\n",
              "    </tr>\n",
              "    <tr>\n",
              "      <th>774147</th>\n",
              "      <td>0.170079</td>\n",
              "      <td>0.169576</td>\n",
              "      <td>0.184575</td>\n",
              "      <td>0.282137</td>\n",
              "      <td>0.276313</td>\n",
              "      <td>0.180002</td>\n",
              "      <td>0.199108</td>\n",
              "      <td>0.195356</td>\n",
              "      <td>0.199623</td>\n",
              "      <td>0.174397</td>\n",
              "      <td>0.249999</td>\n",
              "      <td>0.209614</td>\n",
              "      <td>0.169436</td>\n",
              "      <td>0.181517</td>\n",
              "      <td>0.368708</td>\n",
              "      <td>0.158985</td>\n",
              "      <td>0.158723</td>\n",
              "      <td>0.363208</td>\n",
              "      <td>0.296003</td>\n",
              "      <td>0.358371</td>\n",
              "      <td>0.19311</td>\n",
              "      <td>0.394130</td>\n",
              "    </tr>\n",
              "    <tr>\n",
              "      <th>166590</th>\n",
              "      <td>0.170079</td>\n",
              "      <td>0.169576</td>\n",
              "      <td>0.164256</td>\n",
              "      <td>0.017843</td>\n",
              "      <td>0.024465</td>\n",
              "      <td>0.180002</td>\n",
              "      <td>0.199108</td>\n",
              "      <td>0.195356</td>\n",
              "      <td>0.199623</td>\n",
              "      <td>0.174397</td>\n",
              "      <td>0.045741</td>\n",
              "      <td>0.291039</td>\n",
              "      <td>0.169436</td>\n",
              "      <td>0.181517</td>\n",
              "      <td>0.098807</td>\n",
              "      <td>0.158985</td>\n",
              "      <td>0.158723</td>\n",
              "      <td>0.109084</td>\n",
              "      <td>0.158279</td>\n",
              "      <td>0.109084</td>\n",
              "      <td>0.19311</td>\n",
              "      <td>0.101929</td>\n",
              "    </tr>\n",
              "  </tbody>\n",
              "</table>\n",
              "</div>"
            ],
            "text/plain": [
              "               id        C1  banner_pos  ...       C19      C20       C21\n",
              "1576628  0.170079  0.169576    0.184575  ...  0.244237  0.19311  0.213761\n",
              "852922   0.170079  0.169576    0.164256  ...  0.167393  0.19311  0.188010\n",
              "937869   0.170079  0.169576    0.164256  ...  0.167393  0.19311  0.188010\n",
              "774147   0.170079  0.169576    0.184575  ...  0.358371  0.19311  0.394130\n",
              "166590   0.170079  0.169576    0.164256  ...  0.109084  0.19311  0.101929\n",
              "\n",
              "[5 rows x 22 columns]"
            ]
          },
          "metadata": {
            "tags": []
          },
          "execution_count": 7
        }
      ]
    },
    {
      "cell_type": "markdown",
      "metadata": {
        "id": "o5xzbVn6asbK"
      },
      "source": [
        "###Patr2.2 Up sampling using SMOTE \n",
        "\n",
        "Notes: We must split data into train and test before SMOTE inorder to keep testing data as close as reality. "
      ]
    },
    {
      "cell_type": "code",
      "metadata": {
        "id": "znL-wHW2asAD",
        "colab": {
          "base_uri": "https://localhost:8080/"
        },
        "outputId": "903fdb54-6612-4c1f-de55-50e616d01abb"
      },
      "source": [
        "#Upsampling target encoded train and test data by using SMOTE technique\n",
        "smote = SMOTE(random_state=12)\n",
        "x_train_sm, y_train_sm = smote.fit_sample(x_train_te, y_train)\n",
        "\n",
        "unique, counts = np.unique(y_train_sm, return_counts=True)\n",
        "print(np.asarray((unique, counts)).T)"
      ],
      "execution_count": null,
      "outputs": [
        {
          "output_type": "stream",
          "text": [
            "[[      0 1342113]\n",
            " [      1 1342113]]\n"
          ],
          "name": "stdout"
        }
      ]
    },
    {
      "cell_type": "code",
      "metadata": {
        "colab": {
          "base_uri": "https://localhost:8080/"
        },
        "id": "-Cw80ocgj-iv",
        "outputId": "77a28e48-67f7-432c-8c13-9d53fc660ece"
      },
      "source": [
        "unique, counts = np.unique(y_train_sm, return_counts=True)\n",
        "print(np.asarray((unique, counts)).T)"
      ],
      "execution_count": null,
      "outputs": [
        {
          "output_type": "stream",
          "text": [
            "[[      0 1342113]\n",
            " [      1 1342113]]\n"
          ],
          "name": "stdout"
        }
      ]
    },
    {
      "cell_type": "markdown",
      "metadata": {
        "id": "5qND0soQpXud"
      },
      "source": [
        "###Part2.3: Label Encoding for LightGMB+LR\n",
        "LightGBM expects categorical features as interger type.\n",
        "\n",
        "Convert categorical feature to interger by using label encoding."
      ]
    },
    {
      "cell_type": "code",
      "metadata": {
        "id": "mCVK8c8BpVld",
        "colab": {
          "base_uri": "https://localhost:8080/"
        },
        "outputId": "0182cf84-2f11-42a2-bbf0-6b5206db625c"
      },
      "source": [
        "#Build a label encoding function\n",
        "from sklearn import preprocessing\n",
        "def label_encode(df, target_col_name):\n",
        "  le = preprocessing.LabelEncoder()\n",
        "\n",
        "  features = []\n",
        "  categorical_features = []\n",
        "  num_of_columns = df.shape[1]\n",
        "\n",
        "  #Loop through each col and label encode if the col is object\n",
        "  for i in range(0, num_of_columns):\n",
        "    column_name = df.columns[i]\n",
        "    column_type = df[column_name].dtypes\n",
        "  \n",
        "    if column_name != target_col_name:\n",
        "      features.append(column_name)\n",
        "    \n",
        "    if column_type == 'object':\n",
        "      le.fit(df[column_name])\n",
        "      feature_classes = list(le.classes_)\n",
        "      encoded_feature = le.transform(df[column_name])\n",
        "      df[column_name] = pd.DataFrame(encoded_feature)\n",
        "    \n",
        "      if column_name != target_col_name:\n",
        "        categorical_features.append(column_name)\n",
        "  return df, features, categorical_features\n",
        "\n",
        "#Label encode categorical features\n",
        "le_df, featues, cate_features = label_encode(clean_df, 'click')\n",
        "le_df.info()"
      ],
      "execution_count": null,
      "outputs": [
        {
          "output_type": "stream",
          "text": [
            "<class 'pandas.core.frame.DataFrame'>\n",
            "RangeIndex: 2021448 entries, 0 to 2021447\n",
            "Data columns (total 23 columns):\n",
            " #   Column            Dtype \n",
            "---  ------            ----- \n",
            " 0   id                uint64\n",
            " 1   click             int64 \n",
            " 2   C1                int64 \n",
            " 3   banner_pos        int64 \n",
            " 4   site_id           int64 \n",
            " 5   site_domain       int64 \n",
            " 6   site_category     int64 \n",
            " 7   app_id            int64 \n",
            " 8   app_domain        int64 \n",
            " 9   app_category      int64 \n",
            " 10  device_id         int64 \n",
            " 11  device_ip         int64 \n",
            " 12  device_model      int64 \n",
            " 13  device_type       int64 \n",
            " 14  device_conn_type  int64 \n",
            " 15  C14               int64 \n",
            " 16  C15               int64 \n",
            " 17  C16               int64 \n",
            " 18  C17               int64 \n",
            " 19  C18               int64 \n",
            " 20  C19               int64 \n",
            " 21  C20               int64 \n",
            " 22  C21               int64 \n",
            "dtypes: int64(22), uint64(1)\n",
            "memory usage: 354.7 MB\n"
          ],
          "name": "stdout"
        }
      ]
    },
    {
      "cell_type": "code",
      "metadata": {
        "id": "H7tylFP1SZZJ"
      },
      "source": [
        "#from sklearn.feature_extraction import FeatureHasher\n",
        "#featureHasher = FeatureHasher(n_feaures=) \n",
        "\n",
        "#OHE\n",
        "def one_hot_features(data_frame, feature_set):\n",
        "    new_data_frame = pd.get_dummies(data_frame,\n",
        "                                    columns = feature_set,\n",
        "                                    sparse = True)\n",
        "\n",
        "    return new_data_frame\n",
        "\n",
        "#Hash Trick\n",
        "def convert_obj_to_int(self):\n",
        "    object_list_columns = self.columns\n",
        "    object_list_dtypes = self.dtypes\n",
        "    new_col_suffix = '_int'\n",
        "    for index in range(0,len(object_list_columns)):\n",
        "        if object_list_dtypes[index] == object :\n",
        "            self[object_list_columns[index]+new_col_suffix] = self[object_list_columns[index]].map( lambda  x: hash(x))\n",
        "            self.drop([object_list_columns[index]],inplace=True,axis=1)\n",
        "    return self\n",
        "\n",
        "ohe_features= ['C1','banner_pos','site_id','site_domain','site_category','app_id','app_domain',\n",
        "              'app_category', 'device_id', 'device_ip', 'device_model', 'device_type', 'device_conn_type',\n",
        "              'C14', 'C15', 'C16', 'C17', 'C18', 'C19', 'C20', 'C21']\n",
        "#Remove userid b/c its too sparse\n",
        "ohe_train = x_train.drop(labels=['id'], axis=1)\n",
        "ohe_test  = x_test.drop(labels=['id'], axis=1 )\n",
        "\n",
        "#One hot encoded categorical feature\n",
        "hash_train = one_hot_features(ohe_train, ohe_features)\n",
        "hash_test = one_hot_features(ohe_test, ohe_features)"
      ],
      "execution_count": null,
      "outputs": []
    },
    {
      "cell_type": "code",
      "metadata": {
        "colab": {
          "base_uri": "https://localhost:8080/",
          "height": 164
        },
        "id": "1iio7RbRzEzm",
        "outputId": "f4c912d3-a00a-43cf-8c0b-b9914319ed82"
      },
      "source": [
        "hash_train.columns()"
      ],
      "execution_count": null,
      "outputs": [
        {
          "output_type": "error",
          "ename": "TypeError",
          "evalue": "ignored",
          "traceback": [
            "\u001b[0;31m---------------------------------------------------------------------------\u001b[0m",
            "\u001b[0;31mTypeError\u001b[0m                                 Traceback (most recent call last)",
            "\u001b[0;32m<ipython-input-15-cf55d46987fa>\u001b[0m in \u001b[0;36m<module>\u001b[0;34m()\u001b[0m\n\u001b[0;32m----> 1\u001b[0;31m \u001b[0mhash_train\u001b[0m\u001b[0;34m.\u001b[0m\u001b[0mcolumns\u001b[0m\u001b[0;34m(\u001b[0m\u001b[0;34m)\u001b[0m\u001b[0;34m\u001b[0m\u001b[0;34m\u001b[0m\u001b[0m\n\u001b[0m",
            "\u001b[0;31mTypeError\u001b[0m: 'Index' object is not callable"
          ]
        }
      ]
    },
    {
      "cell_type": "markdown",
      "metadata": {
        "id": "S0DQxeT5Qhlc"
      },
      "source": [
        "#Part3: Model Training"
      ]
    },
    {
      "cell_type": "markdown",
      "metadata": {
        "id": "znsqJkuSQrbN"
      },
      "source": [
        "###Part3.0: Train Test Split\n",
        "\n",
        "Only split label encoding data since target encoding data already split."
      ]
    },
    {
      "cell_type": "code",
      "metadata": {
        "colab": {
          "base_uri": "https://localhost:8080/"
        },
        "id": "mCwpkz8wY6Vh",
        "outputId": "778acae5-b8d4-46ca-e351-a432b7a8b494"
      },
      "source": [
        "#For LightGBM+LR stacking model we use label encoded data\n",
        "from sklearn.model_selection import train_test_split\n",
        "\n",
        "#Split tain and test data \n",
        "le_x_train, le_x_test, le_y_train, le_y_test = train_test_split(le_df, clean_df['click'], test_size=0.2, random_state=99)\n",
        "\n",
        "#drop target column in training data\n",
        "le_x_train.drop('click', axis=1 , inplace=True)\n",
        "le_x_test.drop('click', axis=1, inplace=True )\n",
        "\n",
        "#separate training data between GBDT and LR to avoid overfitting  \n",
        "lgb_x_train, lr_x_train, lgb_y_train, lr_y_train = train_test_split(le_x_train, le_y_train, test_size=0.5)\n",
        "\n",
        "lgb_x_train.shape"
      ],
      "execution_count": null,
      "outputs": [
        {
          "output_type": "execute_result",
          "data": {
            "text/plain": [
              "(808579, 22)"
            ]
          },
          "metadata": {
            "tags": []
          },
          "execution_count": 12
        }
      ]
    },
    {
      "cell_type": "markdown",
      "metadata": {
        "id": "Il4_qIFTSFuJ"
      },
      "source": [
        "###Part3.1: Logistic Regression"
      ]
    },
    {
      "cell_type": "code",
      "metadata": {
        "id": "abbtXhusckO2"
      },
      "source": [
        "from sklearn import metrics\n",
        "from sklearn.metrics import roc_curve,  roc_auc_score\n",
        "\n",
        "#Confusion Matirx report function\n",
        "def cf_report(y_true, y_pred):\n",
        "  cm = metrics.confusion_matrix(y_true, y_pred)\n",
        "  cmDF = pd.DataFrame(cm, columns=['pred_0', 'pred_1'], index=['true_0', 'true_1'])\n",
        "\n",
        "  print(cmDF)\n",
        "  auc = roc_auc_score(y_true, y_pred)\n",
        "  print('AUC score:',auc)\n",
        "  print('recall =', float(cm[1,1])/(cm[1,0]+cm[1,1]))\n",
        "  print('precision =', float(cm[1,1])/(cm[1,1] + cm[0,1]))#1.0\n",
        "  return \n"
      ],
      "execution_count": null,
      "outputs": []
    },
    {
      "cell_type": "code",
      "metadata": {
        "colab": {
          "base_uri": "https://localhost:8080/"
        },
        "id": "WznyVovkGAN3",
        "outputId": "daa6a0ae-3f31-471d-d2a8-91be9219b259"
      },
      "source": [
        "#Train a Logistic Regression\n",
        "import time\n",
        "start = time.time()\n",
        "#Build Logistic Regression Model\n",
        "lr = LogisticRegression()\n",
        "\n",
        "#lr_param_grid = {'C':[0.05, 0.3, 0.5, 1],\n",
        "#              'max_iter':[10, 100, 500],\n",
        "#              'class_weight':['balanced'],\n",
        "#              'solver':['sag']\n",
        "#              }\n",
        "\n",
        "#optimized hyper parameter\n",
        "lr_param_grid = {'C':[0.05, 0.3, 1],\n",
        "              'max_iter':[10],\n",
        "              'class_weight':['balanced'],\n",
        "              'solver':['sag']\n",
        "              }\n",
        "\n",
        "# tune hyperparameters with GridSearch cross-validation\n",
        "lr_clf = GridSearchCV(lr, param_grid=lr_param_grid, cv=5, scoring='auc')\n",
        "lr_clf.fit(x_train_te, y_train)\n",
        "\n",
        "#save best model\n",
        "optimised_lr = lr_clf.best_estimator_\n",
        "\n",
        "#get prediction value from best model\n",
        "y_pred_train = optimised_lr.predict(x_train_te)\n",
        "y_pred_test = optimised_lr.predict(x_test_te)\n",
        "\n",
        "end = time.time()\n",
        "print('Logistic Regression Cost %3.2f s.' %(end-start))\n",
        "\n",
        "#get the optimized parameters\n",
        "print(\"Best parameters set:\")\n",
        "lr_best_parameters = optimised_lr.get_params()\n",
        "for param_name in sorted(lr_param_grid.keys()):\n",
        "    print(\"\\t%s: %r\" % (param_name, lr_best_parameters[param_name]))\n",
        "\n",
        "\n",
        "#Confusion Matirx of training data\n",
        "print('Confusion Matrix for train data:')\n",
        "report1=cf_report(y_train, y_pred_train)\n",
        "print(report1)\n",
        "\n",
        "#Confusion matrix of Testing data\n",
        "print('Confusion Matrix for test data:')\n",
        "report2=cf_report(y_test, y_pred_test)\n",
        "print(report2)"
      ],
      "execution_count": null,
      "outputs": [
        {
          "output_type": "stream",
          "text": [
            "Logistic Regression Cost 76.58 s.\n",
            "Best parameters set:\n",
            "\tC: 1\n",
            "\tclass_weight: 'balanced'\n",
            "\tmax_iter: 10\n",
            "\tsolver: 'sag'\n",
            "Confusion Matrix for train data:\n",
            "        pred_0  pred_1\n",
            "true_0  964137  377976\n",
            "true_1   72265  202780\n",
            "AUC score: 0.7278168112367206\n",
            "recall = 0.7372611754440183\n",
            "precision = 0.3491655703944514\n",
            "None\n",
            "Confusion Matrix for test data:\n",
            "        pred_0  pred_1\n",
            "true_0  232925  102616\n",
            "true_1   26744   42005\n",
            "AUC score: 0.6525840839920607\n",
            "recall = 0.6109907053193501\n",
            "precision = 0.2904488283167728\n",
            "None\n"
          ],
          "name": "stdout"
        }
      ]
    },
    {
      "cell_type": "markdown",
      "metadata": {
        "id": "lpYNkUIwA5Oa"
      },
      "source": [
        "*Notes: LR is quite fast. It only took about 1 min to run 2M row of dataset. And the result is quite good with 65% AUC."
      ]
    },
    {
      "cell_type": "code",
      "metadata": {
        "colab": {
          "base_uri": "https://localhost:8080/"
        },
        "id": "8CZjdjpRfEpk",
        "outputId": "62518439-4591-44d3-ed36-a4cbcfa080cc"
      },
      "source": [
        "#Train a Logistic Regression\n",
        "import time\n",
        "start = time.time()\n",
        "#Build Logistic Regression Model\n",
        "lr = LogisticRegression()\n",
        "\n",
        "#lr_param_grid = {'C':[0.05, 0.3, 0.5, 1],\n",
        "#              'max_iter':[10, 100, 500],\n",
        "#              'class_weight':['balanced'],\n",
        "#              'solver':['sag']\n",
        "#              }\n",
        "\n",
        "#optimized hyper parameter\n",
        "lr_param_grid = {'C':[1],\n",
        "              'max_iter':[10],\n",
        "              'class_weight':['balanced'],\n",
        "              'solver':['sag']\n",
        "              }\n",
        "\n",
        "# tune hyperparameters with GridSearch cross-validation\n",
        "lr_clf = GridSearchCV(lr, param_grid=lr_param_grid, cv=5, scoring='neg_log_loss')\n",
        "lr_clf.fit(x_train_sm, y_train)\n",
        "\n",
        "#save best model\n",
        "optimised_lr = lr_clf.best_estimator_\n",
        "\n",
        "#get prediction value from best model\n",
        "y_pred_train = optimised_lr.predict(x_train_sm)\n",
        "y_pred_test = optimised_lr.predict(x_test_te)\n",
        "\n",
        "end = time.time()\n",
        "print('Logistic Regression Cost %3.2f s.' %(end-start))\n",
        "\n",
        "#get the optimized parameters\n",
        "print(\"Best parameters set:\")\n",
        "lr_best_parameters = optimised_lr.get_params()\n",
        "for param_name in sorted(lr_param_grid.keys()):\n",
        "    print(\"\\t%s: %r\" % (param_name, lr_best_parameters[param_name]))\n",
        "\n",
        "\n",
        "#Confusion Matirx of training data\n",
        "print('Confusion Matrix for train data:')\n",
        "report1=cf_report(y_train, y_pred_train)\n",
        "print(report1)\n",
        "\n",
        "#Confusion matrix of Testing data\n",
        "print('Confusion Matrix for test data:')\n",
        "report2=cf_report(y_test, y_pred_test)\n",
        "print(report2)"
      ],
      "execution_count": null,
      "outputs": [
        {
          "output_type": "stream",
          "text": [
            "Logistic Regression Cost 141.23 s.\n",
            "Best parameters set:\n",
            "\tC: 1\n",
            "\tclass_weight: 'balanced'\n",
            "\tmax_iter: 10\n",
            "\tsolver: 'sag'\n",
            "Confusion Matrix for train data:\n",
            "        pred_0  pred_1\n",
            "true_0  983735  358378\n",
            "true_1  378524  963589\n",
            "AUC score: 0.7254694649407315\n",
            "recall = 0.7179641356577278\n",
            "precision = 0.7289054870507358\n",
            "None\n",
            "Confusion Matrix for test data:\n",
            "        pred_0  pred_1\n",
            "true_0  238536   97005\n",
            "true_1   28314   40435\n",
            "AUC score: 0.6495268603627522\n",
            "recall = 0.5881540095128657\n",
            "precision = 0.2942011059371362\n",
            "None\n"
          ],
          "name": "stdout"
        }
      ]
    },
    {
      "cell_type": "markdown",
      "metadata": {
        "id": "sRI1o93HixtY"
      },
      "source": [
        "*Notes: The result after SMOTE upsampling is a bit worse. It may because the data after upsampling introduce some noise."
      ]
    },
    {
      "cell_type": "markdown",
      "metadata": {
        "id": "S4pGTuagDkAV"
      },
      "source": [
        "###Part3.4 Degree-2 Polynominal (Poly2)"
      ]
    },
    {
      "cell_type": "code",
      "metadata": {
        "colab": {
          "base_uri": "https://localhost:8080/"
        },
        "id": "34dMhgEoDsm5",
        "outputId": "b58c041a-11c0-4ef9-93ca-d114e68e91e5"
      },
      "source": [
        "from sklearn.preprocessing import PolynomialFeatures\n",
        "import time\n",
        "start = time.time()\n",
        "\n",
        "#buid a 2nd degree feature transformer\n",
        "poly2 = PolynomialFeatures(degree=2)\n",
        "\n",
        "#transform label encoded data to 2nd degree poly\n",
        "#!!Both X_train and X_test need to do the same transformation b/c model will only acept the same demesion of input data\n",
        "x_train_poly = poly2.fit_transform(x_train_te)\n",
        "x_test_poly = poly2.fit_transform(x_test_te)\n",
        "poly_lr = LogisticRegression()\n",
        "\n",
        "#poly parameters for grid search CV\n",
        "#poly_param_grid = {'C':[0.05, 0.3, 0.5, 1],\n",
        "#              'max_iter':[10, 100, 500],\n",
        "#              'class_weight':['balanced'],\n",
        "#              'solver':['sag']\n",
        "#              }\n",
        "\n",
        "#optmized poly parameters for grid search CV\n",
        "\n",
        "#poly_param_grid = {\n",
        "#              'C':[1],\n",
        "#              'max_iter':[10],\n",
        "#              'class_weight':['balanced'],\n",
        "#              'solver':['sag']\n",
        "#              }\n",
        "\n",
        "# tune hyperparameters with GridSearch cross-validation\n",
        "#poly_clf = GridSearchCV(poly_lr, param_grid=poly_param_grid, cv=5, scoring='neg_log_loss')\n",
        "#poly_clf.fit(x_train_poly, y_train)\n",
        "\n",
        "#save best model\n",
        "#optimised_poly = poly_clf.best_estimator_\n",
        "\n",
        "#get prediction value from best model\n",
        "#y_pred_train_poly = optimised_poly.predict(x_train_poly)\n",
        "#y_pred_test_poly = optimised_poly.predict(x_test_poly)\n",
        "\n",
        "#end = time.time()\n",
        "#print('Poly2 Logistic Regression Cost %3.2f s.' %(end-start))\n",
        "\n",
        "#get the optimized parameters\n",
        "#print(\"Best parameters set:\")\n",
        "#poly_best_parameters = optimised_poly.get_params()\n",
        "#for param_name in sorted(poly_param_grid.keys()):\n",
        "#    print(\"\\t%s: %r\" % (param_name, poly_best_parameters[param_name]))\n",
        "\n",
        "\n",
        "#Confusion Matirx of training data\n",
        "print('Confusion Matrix for train data:')\n",
        "report1=cf_report(y_train, y_pred_train_poly)\n",
        "print(report1)\n",
        "\n",
        "#Confusion matrix of Testing data\n",
        "print('Confusion Matrix for test data:')\n",
        "report2=cf_report(y_test, y_pred_test_poly)\n",
        "print(report2)"
      ],
      "execution_count": null,
      "outputs": [
        {
          "output_type": "stream",
          "text": [
            "Confusion Matrix for train data:\n",
            "        pred_0  pred_1\n",
            "true_0  931246  410867\n",
            "true_1   61657  213388\n",
            "AUC score: 0.7348474892147392\n",
            "recall = 0.7758294097329528\n",
            "precision = 0.3418282592850678\n",
            "None\n",
            "Confusion Matrix for test data:\n",
            "        pred_0  pred_1\n",
            "true_0  222155  113386\n",
            "true_1   23910   44839\n",
            "AUC score: 0.6571465834847126\n",
            "recall = 0.6522131230999724\n",
            "precision = 0.28338758097645755\n",
            "None\n"
          ],
          "name": "stdout"
        }
      ]
    },
    {
      "cell_type": "markdown",
      "metadata": {
        "id": "GQQJIpLAM67G"
      },
      "source": [
        "*Note: Poly2 spent 4 times longer run time to get the result. And has only imporve 0.5% higher AUC and 4% higher recall than Logistic Regression. However, overfitting issue when using Poly2 model is even worse even we use L2 regulorization.  AUC of training has 12% higher than testing. When we use L1 regularization, the overfitting issue get much worse. "
      ]
    },
    {
      "cell_type": "markdown",
      "metadata": {
        "id": "WEs_FcWOSOii"
      },
      "source": [
        "###Part3.2: LightGBM"
      ]
    },
    {
      "cell_type": "code",
      "metadata": {
        "colab": {
          "base_uri": "https://localhost:8080/"
        },
        "id": "CXYchSFyMW3a",
        "outputId": "bc5edb80-2995-4234-e056-c8e75fc08a7e"
      },
      "source": [
        "#Train LightGBM with Target encode data\n",
        "#define number of tree and leaf\n",
        "n_estimators = 32\n",
        "num_leaves = 64\n",
        "\n",
        "# build model\n",
        "lgb_clf = lgbm.sklearn.LGBMClassifier(boosting_type='gbdt',\n",
        "                         objective = 'binary',\n",
        "                         metric = 'auc',\n",
        "                         verbose = 0,\n",
        "                         learning_rate = 0.1,\n",
        "                         num_leaves = num_leaves,\n",
        "                         n_estimators=n_estimators,\n",
        "                         feature_fraction=0.8,\n",
        "                         bagging_fraction= 0.9,\n",
        "                         bagging_freq= 8,\n",
        "                         lambda_l1= 0,\n",
        "                         lambda_l2= 0.8)\n",
        "\n",
        "start = time.time()\n",
        "\n",
        "#param_grid = {\n",
        "#    'min_data_in_leaf': [5,10,15],\n",
        "#    'max_depth': [15,20,30],\n",
        "#    'learning_rate': [0.1, 0.05],\n",
        "#    'min_data_per_group': [5],\n",
        "#    'num_leaves': [64],   # <= 2**max_depth\n",
        "#    'regression_l2': [0],\n",
        "#    'scale_pos_weight': [1]\n",
        "#    }\n",
        "\n",
        "#Best parameters\n",
        "param_grid = {\n",
        "    'min_data_in_leaf': [15],\n",
        "    'max_depth': [64],\n",
        "    'learning_rate': [0.5],\n",
        "    'min_data_per_group': [5],\n",
        "    'num_leaves': [128],   \n",
        "    'regression_l2': [0],\n",
        "    'scale_pos_weight': [1],\n",
        "    'lambda_l2': [0.6],\n",
        "    'n_estimators': [64]\n",
        "    }\n",
        "\n",
        "# tune hyperparameters with cross-validation\n",
        "clf = GridSearchCV(lgb_clf, param_grid=param_grid, cv=5, scoring='neg_log_loss')\n",
        "\n",
        "clf.fit(x_train_te, y_train)\n",
        "#get the optimized model\n",
        "optimised_lgbm = clf.best_estimator_\n",
        "y_pred_train = optimised_lgbm.predict(x_train_te)\n",
        "y_pred_test = optimised_lgbm.predict(x_test_te)\n",
        "\n",
        "end = time.time()\n",
        "print('LoghtGBM Cost %3.2f s.' %(end-start))\n",
        "\n",
        "print(\"Best score: %0.3f\" % clf.best_score_)\n",
        "print(\"Best parameters set:\")\n",
        "best_parameters = optimised_lgbm.get_params()\n",
        "for param_name in sorted(param_grid.keys()):\n",
        "    print(\"\\t%s: %r\" % (param_name, best_parameters[param_name]))\n",
        "\n",
        "#Confusion Matirx of training data\n",
        "print('Confusion Matrix for train data:')\n",
        "lgbm_report1=cf_report(y_train, y_pred_train)\n",
        "print(lgbm_report1)\n",
        "\n",
        "#Confusion matrix of Testing data\n",
        "print('Confusion Matrix for test data:')\n",
        "lgbm_report2=cf_report(y_test, y_pred_test)\n",
        "print(lgbm_report2)"
      ],
      "execution_count": null,
      "outputs": [
        {
          "output_type": "stream",
          "text": [
            "LoghtGBM Cost 1373.20 s.\n",
            "Best score: -0.362\n",
            "Best parameters set:\n",
            "\tlambda_l2: 0.6\n",
            "\tlearning_rate: 0.01\n",
            "\tmax_depth: 64\n",
            "\tmin_data_in_leaf: 15\n",
            "\tmin_data_per_group: 5\n",
            "\tn_estimators: 128\n",
            "\tnum_leaves: 256\n",
            "\tregression_l2: 0\n",
            "\tscale_pos_weight: 1\n",
            "Confusion Matrix for train data:\n",
            "         pred_0  pred_1\n",
            "true_0  1336670    5443\n",
            "true_1   248691   26354\n",
            "AUC score: 0.5458807514354866\n",
            "recall = 0.09581704811939865\n",
            "precision = 0.8288203289618518\n",
            "None\n",
            "Confusion Matrix for test data:\n",
            "        pred_0  pred_1\n",
            "true_0  333249    2292\n",
            "true_1   65937    2812\n",
            "AUC score: 0.5170358266243384\n",
            "recall = 0.040902413126009105\n",
            "precision = 0.5509404388714734\n",
            "None\n"
          ],
          "name": "stdout"
        }
      ]
    },
    {
      "cell_type": "markdown",
      "metadata": {
        "id": "TwezV_syVMpA"
      },
      "source": [
        "*Note: LightGBM has worse AUC than poly2. "
      ]
    },
    {
      "cell_type": "code",
      "metadata": {
        "colab": {
          "base_uri": "https://localhost:8080/"
        },
        "id": "0Rd-lAnuTURq",
        "outputId": "7362c13e-5bc8-41b2-91de-cda8f4c0df4d"
      },
      "source": [
        "#Use Label encoding data to fead LightGBM\n",
        "n_estimators = 32\n",
        "num_leaves = 64\n",
        "\n",
        "# build model\n",
        "lgb = lgbm.sklearn.LGBMClassifier(boosting_type='gbdt',\n",
        "                         objective = 'binary',\n",
        "                         metric = 'auc',\n",
        "                         verbose = 0,\n",
        "                         learning_rate = 0.1,\n",
        "                         num_leaves = num_leaves,\n",
        "                         n_estimators=n_estimators,\n",
        "                         feature_fraction=0.8,\n",
        "                         bagging_fraction= 0.9,\n",
        "                         bagging_freq= 8,\n",
        "                         lambda_l1= 0,\n",
        "                         lambda_l2= 0.8)\n",
        "\n",
        "start = time.time()\n",
        "\n",
        "#param_grid = {\n",
        "#    'min_data_in_leaf': [5,10,15],\n",
        "#    'max_depth': [15,20,30],\n",
        "#    'learning_rate': [0.1, 0.05],\n",
        "#    'min_data_per_group': [5],\n",
        "#    'num_leaves': [64],   # <= 2**max_depth\n",
        "#    'regression_l2': [0],\n",
        "#    'scale_pos_weight': [1]\n",
        "#    }\n",
        "\n",
        "#Best parameters\n",
        "param_grid = {\n",
        "    'min_data_in_leaf': [15],\n",
        "    'max_depth': [15],\n",
        "    'learning_rate': [0.1],\n",
        "    'min_data_per_group': [5],\n",
        "    'num_leaves': [64],   \n",
        "    'regression_l2': [0],\n",
        "    'scale_pos_weight': [1],\n",
        "    'lambda_l2': [0.6],\n",
        "    'num_leaves' : [64],\n",
        "    'n_estimators': [64],\n",
        "    }\n",
        "\n",
        "# tune hyperparameters with cross-validation\n",
        "clf = GridSearchCV(lgb, param_grid=param_grid, cv=5, scoring='neg_log_loss')\n",
        "\n",
        "clf.fit(le_x_train, le_y_train)\n",
        "#get the optimized model\n",
        "optimised_lgbm = clf.best_estimator_\n",
        "y_pred_train = optimised_lgbm.predict(le_x_train)\n",
        "y_pred_test = optimised_lgbm.predict(le_x_test)\n",
        "\n",
        "end = time.time()\n",
        "print('LoghtGBM Cost %3.2f s.' %(end-start))\n",
        "\n",
        "print(\"Best score: %0.3f\" % clf.best_score_)\n",
        "print(\"Best parameters set:\")\n",
        "best_parameters = optimised_lgbm.get_params()\n",
        "for param_name in sorted(param_grid.keys()):\n",
        "    print(\"\\t%s: %r\" % (param_name, best_parameters[param_name]))\n",
        "\n",
        "#Confusion Matirx of training data\n",
        "print('Confusion Matrix for train data:')\n",
        "lgbm_report1=cf_report(le_y_train, y_pred_train)\n",
        "print(lgbm_report1)\n",
        "\n",
        "#Confusion matrix of Testing data\n",
        "print('Confusion Matrix for test data:')\n",
        "lgbm_report2=cf_report(le_y_test, y_pred_test)\n",
        "print(lgbm_report2)"
      ],
      "execution_count": null,
      "outputs": [
        {
          "output_type": "stream",
          "text": [
            "LoghtGBM Cost 165.96 s.\n",
            "Best score: -0.403\n",
            "Best parameters set:\n",
            "\tlambda_l2: 0.6\n",
            "\tlearning_rate: 0.1\n",
            "\tmax_depth: 15\n",
            "\tmin_data_in_leaf: 15\n",
            "\tmin_data_per_group: 5\n",
            "\tn_estimators: 64\n",
            "\tnum_leaves: 64\n",
            "\tregression_l2: 0\n",
            "\tscale_pos_weight: 1\n",
            "Confusion Matrix for train data:\n",
            "         pred_0  pred_1\n",
            "true_0  1333238    8875\n",
            "true_1   259836   15209\n",
            "AUC score: 0.5243418495324595\n",
            "recall = 0.055296406042647565\n",
            "precision = 0.6314980900182694\n",
            "None\n",
            "Confusion Matrix for test data:\n",
            "        pred_0  pred_1\n",
            "true_0  333427    2114\n",
            "true_1   65057    3692\n",
            "AUC score: 0.5237011630102675\n",
            "recall = 0.05370259931053543\n",
            "precision = 0.6358939028591113\n",
            "None\n"
          ],
          "name": "stdout"
        }
      ]
    },
    {
      "cell_type": "markdown",
      "metadata": {
        "id": "uE7myExrULxK"
      },
      "source": [
        "**Note:\n",
        "Logist Regression has better perofrmance than LightGBM with 6% higher AUC. In addition, we use both target encode and label encoded data to train LightGBM model. The target encoded data has 4% higher auc than using lebel encoding data."
      ]
    },
    {
      "cell_type": "markdown",
      "metadata": {
        "id": "NEZCMuNXQ83c"
      },
      "source": [
        "###Part3.3: Build and Tune LightGBM + LR with GridSearch Cross-Validation"
      ]
    },
    {
      "cell_type": "code",
      "metadata": {
        "id": "WTom_1ncPQku",
        "colab": {
          "base_uri": "https://localhost:8080/"
        },
        "outputId": "6f1b4887-f717-40da-bd2b-91b7062a7ec5"
      },
      "source": [
        "import lightgbm as lgbm\n",
        "from sklearn.linear_model import LogisticRegression\n",
        "from sklearn.metrics import roc_curve,  roc_auc_score\n",
        "from datetime import datetime\n",
        "from sklearn.model_selection import GridSearchCV\n",
        "\n",
        "#define number of tree and leaf\n",
        "n_estimators = 32\n",
        "num_leaves = 64\n",
        "\n",
        "# build model\n",
        "lgb = lgbm.sklearn.LGBMClassifier(boosting_type='gbdt',\n",
        "                         objective = 'binary',\n",
        "                         metric = 'auc',\n",
        "                         verbose = 0,\n",
        "                         learning_rate = 0.1,\n",
        "                         num_leaves = num_leaves,\n",
        "                         n_estimators=n_estimators,\n",
        "                         feature_fraction=0.8,\n",
        "                         bagging_fraction= 0.9,\n",
        "                         bagging_freq= 8,\n",
        "                         lambda_l1= 0.6,\n",
        "                         lambda_l2= 0)\n",
        "\n",
        "start_time = datetime.now()\n",
        "\n",
        "#param_grid = {\n",
        "#    'min_data_in_leaf': [15,30],\n",
        "#    'max_depth': [5, 10,15],\n",
        "#    'learning_rate': [0.1, 0.05],\n",
        "#    'min_data_per_group': [5, 10],\n",
        "#    'num_leaves': [64],   # <= 2**max_depth\n",
        "#    'regression_l2': [0],\n",
        "#    'scale_pos_weight': [1, 1.2, 1.5]\n",
        "#    }\n",
        "\n",
        "#Best parameters\n",
        "param_grid = {\n",
        "    'min_data_in_leaf': [30],\n",
        "    'max_depth': [10],\n",
        "    'learning_rate': [0.1],\n",
        "    'min_data_per_group': [5],\n",
        "    'num_leaves': [64],   \n",
        "    'regression_l2': [0],\n",
        "    'scale_pos_weight': [1]\n",
        "    }\n",
        "\n",
        "# tune hyperparameters with cross-validation\n",
        "clf = GridSearchCV(lgb, param_grid=param_grid, cv=5, scoring='neg_log_loss')\n",
        "\n",
        "clf.fit(lgb_x_train, lgb_y_train)\n",
        "#get the optimized model\n",
        "optimised_lgbm = clf.best_estimator_\n",
        "\n",
        "print('time for CV: ',datetime.now()-start_time)\n",
        "\n",
        "print(\"Best score: %0.3f\" % clf.best_score_)\n",
        "print(\"Best parameters set:\")\n",
        "best_parameters = clf.best_estimator_.get_params()\n",
        "for param_name in sorted(param_grid.keys()):\n",
        "    print(\"\\t%s: %r\" % (param_name, best_parameters[param_name]))"
      ],
      "execution_count": null,
      "outputs": [
        {
          "output_type": "stream",
          "text": [
            "time for CV:  0:00:41.174026\n",
            "Best score: -0.407\n",
            "Best parameters set:\n",
            "\tlearning_rate: 0.1\n",
            "\tmax_depth: 10\n",
            "\tmin_data_in_leaf: 30\n",
            "\tmin_data_per_group: 5\n",
            "\tnum_leaves: 64\n",
            "\tregression_l2: 0\n",
            "\tscale_pos_weight: 1\n"
          ],
          "name": "stdout"
        }
      ]
    },
    {
      "cell_type": "code",
      "metadata": {
        "colab": {
          "base_uri": "https://localhost:8080/"
        },
        "id": "jrNN1BxbLWFY",
        "outputId": "55b743f0-80a2-448e-a304-a0db02c8223e"
      },
      "source": [
        "#Get leaves index of each training sample\n",
        "gbdt_feats_train = optimised_lgbm.predict(lgb_x_train, pred_leaf = True)\n",
        "\n",
        "#Predict test data and get the index of leaf\n",
        "gbdt_feats_test = optimised_lgbm.predict(le_x_test, pred_leaf = True)\n",
        "\n",
        "\n",
        "print('Shape of the leaves index output:', gbdt_feats_train.shape)\n",
        "\n",
        "#print the first 5 samples\n",
        "print('Have a peak of first 5 rows:\\n' ,gbdt_feats_train[:5])"
      ],
      "execution_count": null,
      "outputs": [
        {
          "output_type": "stream",
          "text": [
            "Shape of the leaves index output: (808579, 32)\n",
            "Have a peak of first 5 rows:\n",
            " [[48  0 32 31 60 33  5 32 31 58 19 27 61 26 51 30 54 46 21  2 59 13 63 21\n",
            "  27 25 39 10 29 16 36 13]\n",
            " [48  0 32 31 60 33  5 32 50 58 63 27 61 26 51 30 54 46 21  2 59 14 63 21\n",
            "  27 35 43 10 29 16 33 13]\n",
            " [ 7 44 23 54  8 51 28 52 34 56 27 11 46 30 29  3  3  3 55 12  3 36 39 52\n",
            "   5 52 33 35 53 49 35 38]\n",
            " [31 48 44 25 39  8 35 25  6 34 35  9 27  6 20 45 56 24  0 60 23 14 45 62\n",
            "  13 28 29 10 29 20 46 23]\n",
            " [14  5  4 62 11  8 46  5 18 50 56  5 38 22 30  1 39 48 22  2 41 58 61 46\n",
            "  47 62 11 14 51 55 35 62]]\n"
          ],
          "name": "stdout"
        }
      ]
    },
    {
      "cell_type": "code",
      "metadata": {
        "id": "8xRydwzhdVc0"
      },
      "source": [
        "#Define a function to convert leaf index to dummy data\n",
        "def leaf_idx_to_dummy(data, n_estimators):\n",
        "  #build a dataframe\n",
        "  gbdt_feats_name = ['gbdt_leaf_' + str(i) for i in range(n_estimators)]\n",
        "  data = pd.DataFrame(data, columns = gbdt_feats_name)\n",
        "\n",
        "  #One-Hot Encoding for leaf index\n",
        "  for col in gbdt_feats_name:\n",
        "    onehot_feats = pd.get_dummies(data[col], prefix = col)\n",
        "    data.drop([col], axis = 1, inplace = True)\n",
        "    data = pd.concat([data, onehot_feats], axis = 1)\n",
        "  return data\n",
        "\n",
        "dummy_lr_x_train = leaf_idx_to_dummy(gbdt_feats_train, n_estimators)\n",
        "#Save the GBDT index data  because RAM will crash\n",
        "#dummy_lr_x_train.to_csv('/content/drive/MyDrive/Projects/dummy_lr_x_train.csv', index=False)\n",
        "\n",
        "dummy_lr_x_test = leaf_idx_to_dummy(gbdt_feats_test, n_estimators)\n",
        "#dummy_lr_x_test.to_csv('/content/drive/MyDrive/Projects/dummy_lr_x_test.csv', index=False)"
      ],
      "execution_count": null,
      "outputs": []
    },
    {
      "cell_type": "code",
      "metadata": {
        "id": "zk3fXkcBXUV6"
      },
      "source": [
        "#Train a Logistic Regression\n",
        "import time\n",
        "\n",
        "start = time.time()\n",
        "#Build Logistic Regression Model\n",
        "lr = LogisticRegression()\n",
        "\n",
        "#lr_param_grid = {'C':[0.05, 0.3, 0.5, 1],\n",
        "#              'max_iter':[10, 100, 500],\n",
        "#              'class_weight':['balanced'],\n",
        "#              'solver':['sag']\n",
        "#              }\n",
        "\n",
        "#optimized hyper parameter\n",
        "lr_param_grid = {'C':[ 1],\n",
        "              'max_iter':[100],\n",
        "              'class_weight':['balanced'],\n",
        "              'solver':['sag']\n",
        "              }\n",
        "\n",
        "# tune hyperparameters with GridSearch cross-validation\n",
        "lr_clf = GridSearchCV(lr, param_grid=lr_param_grid, cv=5, scoring='neg_log_loss')\n",
        "\n",
        "lr_clf.fit(dummy_lr_x_train, lr_y_train)\n",
        "end = time.time()\n",
        "print('Logistic Regression Cost %3.2f s.' %(end-start))\n",
        "#get the optimized model\n",
        "optimised_lr = lr_clf.best_estimator_\n",
        "optimised_lr"
      ],
      "execution_count": null,
      "outputs": []
    },
    {
      "cell_type": "code",
      "metadata": {
        "id": "XYTJmMJjKbPg"
      },
      "source": [
        "from sklearn import metrics\n",
        "from sklearn.metrics import roc_auc_score\n",
        "from sklearn.metrics import roc_curve\n",
        "\n",
        "#Confusion Matirx of training data\n",
        "def cf_report(y_true, y_pred):\n",
        "  cm = metrics.confusion_matrix(y_true, y_pred)\n",
        "  cmDF = pd.DataFrame(cm, columns=['pred_0', 'pred_1'], index=['true_0', 'true_1'])\n",
        "\n",
        "  print(cmDF)\n",
        "  auc = roc_auc_score(y_true, y_pred)\n",
        "  print('AUC score of logist regreesion:',auc)\n",
        "  print('recall =', float(cm[1,1])/(cm[1,0]+cm[1,1]))\n",
        "  print('precision =', float(cm[1,1])/(cm[1,1] + cm[0,1]))#1.0\n",
        "\n",
        "#Print out test data result\n",
        "lr_y_pred = optimised_lr.predict(dummy_lr_x_test)\n",
        "cf_report(y_test, lr_y_pred)"
      ],
      "execution_count": null,
      "outputs": []
    },
    {
      "cell_type": "markdown",
      "metadata": {
        "id": "mfpWij0WWfZY"
      },
      "source": [
        "*Notes: BGDT+LR even worse than just use LightGBM."
      ]
    },
    {
      "cell_type": "markdown",
      "metadata": {
        "id": "ztcZn4MCTmQj"
      },
      "source": [
        "###Part3.4: DeepFM"
      ]
    },
    {
      "cell_type": "code",
      "metadata": {
        "id": "nMwl8F4sb_nA"
      },
      "source": [
        "!pip install -U deepctr-torch"
      ],
      "execution_count": null,
      "outputs": []
    },
    {
      "cell_type": "code",
      "metadata": {
        "colab": {
          "base_uri": "https://localhost:8080/",
          "height": 224
        },
        "id": "8nxMl_7rC2pQ",
        "outputId": "837a2522-1767-4e61-f7eb-fb240c44063d"
      },
      "source": [
        "#Drop hour column\n",
        "df_no_hr = df.drop(['hour'], axis=1)\n",
        "df_no_hr.head()"
      ],
      "execution_count": null,
      "outputs": [
        {
          "output_type": "execute_result",
          "data": {
            "text/html": [
              "<div>\n",
              "<style scoped>\n",
              "    .dataframe tbody tr th:only-of-type {\n",
              "        vertical-align: middle;\n",
              "    }\n",
              "\n",
              "    .dataframe tbody tr th {\n",
              "        vertical-align: top;\n",
              "    }\n",
              "\n",
              "    .dataframe thead th {\n",
              "        text-align: right;\n",
              "    }\n",
              "</style>\n",
              "<table border=\"1\" class=\"dataframe\">\n",
              "  <thead>\n",
              "    <tr style=\"text-align: right;\">\n",
              "      <th></th>\n",
              "      <th>id</th>\n",
              "      <th>click</th>\n",
              "      <th>C1</th>\n",
              "      <th>banner_pos</th>\n",
              "      <th>site_id</th>\n",
              "      <th>site_domain</th>\n",
              "      <th>site_category</th>\n",
              "      <th>app_id</th>\n",
              "      <th>app_domain</th>\n",
              "      <th>app_category</th>\n",
              "      <th>device_id</th>\n",
              "      <th>device_ip</th>\n",
              "      <th>device_model</th>\n",
              "      <th>device_type</th>\n",
              "      <th>device_conn_type</th>\n",
              "      <th>C14</th>\n",
              "      <th>C15</th>\n",
              "      <th>C16</th>\n",
              "      <th>C17</th>\n",
              "      <th>C18</th>\n",
              "      <th>C19</th>\n",
              "      <th>C20</th>\n",
              "      <th>C21</th>\n",
              "    </tr>\n",
              "  </thead>\n",
              "  <tbody>\n",
              "    <tr>\n",
              "      <th>0</th>\n",
              "      <td>2754752362988372739</td>\n",
              "      <td>1</td>\n",
              "      <td>1005</td>\n",
              "      <td>1</td>\n",
              "      <td>d9750ee7</td>\n",
              "      <td>98572c79</td>\n",
              "      <td>f028772b</td>\n",
              "      <td>ecad2386</td>\n",
              "      <td>7801e8d9</td>\n",
              "      <td>07d7df22</td>\n",
              "      <td>a99f214a</td>\n",
              "      <td>a8536f3a</td>\n",
              "      <td>711ee120</td>\n",
              "      <td>1</td>\n",
              "      <td>0</td>\n",
              "      <td>17753</td>\n",
              "      <td>320</td>\n",
              "      <td>50</td>\n",
              "      <td>1993</td>\n",
              "      <td>2</td>\n",
              "      <td>1063</td>\n",
              "      <td>-1</td>\n",
              "      <td>33</td>\n",
              "    </tr>\n",
              "    <tr>\n",
              "      <th>1</th>\n",
              "      <td>9630799129494811181</td>\n",
              "      <td>0</td>\n",
              "      <td>1005</td>\n",
              "      <td>0</td>\n",
              "      <td>1fbe01fe</td>\n",
              "      <td>f3845767</td>\n",
              "      <td>28905ebd</td>\n",
              "      <td>ecad2386</td>\n",
              "      <td>7801e8d9</td>\n",
              "      <td>07d7df22</td>\n",
              "      <td>a99f214a</td>\n",
              "      <td>210b723a</td>\n",
              "      <td>711ee120</td>\n",
              "      <td>1</td>\n",
              "      <td>0</td>\n",
              "      <td>15699</td>\n",
              "      <td>320</td>\n",
              "      <td>50</td>\n",
              "      <td>1722</td>\n",
              "      <td>0</td>\n",
              "      <td>35</td>\n",
              "      <td>100083</td>\n",
              "      <td>79</td>\n",
              "    </tr>\n",
              "    <tr>\n",
              "      <th>2</th>\n",
              "      <td>10482259799985475720</td>\n",
              "      <td>0</td>\n",
              "      <td>1005</td>\n",
              "      <td>0</td>\n",
              "      <td>1fbe01fe</td>\n",
              "      <td>f3845767</td>\n",
              "      <td>28905ebd</td>\n",
              "      <td>ecad2386</td>\n",
              "      <td>7801e8d9</td>\n",
              "      <td>07d7df22</td>\n",
              "      <td>a99f214a</td>\n",
              "      <td>225af2a8</td>\n",
              "      <td>b78e6543</td>\n",
              "      <td>1</td>\n",
              "      <td>0</td>\n",
              "      <td>15703</td>\n",
              "      <td>320</td>\n",
              "      <td>50</td>\n",
              "      <td>1722</td>\n",
              "      <td>0</td>\n",
              "      <td>35</td>\n",
              "      <td>100083</td>\n",
              "      <td>79</td>\n",
              "    </tr>\n",
              "    <tr>\n",
              "      <th>3</th>\n",
              "      <td>18308563816330684401</td>\n",
              "      <td>0</td>\n",
              "      <td>1005</td>\n",
              "      <td>1</td>\n",
              "      <td>b8eae5f9</td>\n",
              "      <td>1e334bd3</td>\n",
              "      <td>f028772b</td>\n",
              "      <td>ecad2386</td>\n",
              "      <td>7801e8d9</td>\n",
              "      <td>07d7df22</td>\n",
              "      <td>a99f214a</td>\n",
              "      <td>469c435d</td>\n",
              "      <td>8a4875bd</td>\n",
              "      <td>1</td>\n",
              "      <td>0</td>\n",
              "      <td>19950</td>\n",
              "      <td>320</td>\n",
              "      <td>50</td>\n",
              "      <td>1800</td>\n",
              "      <td>3</td>\n",
              "      <td>167</td>\n",
              "      <td>100077</td>\n",
              "      <td>23</td>\n",
              "    </tr>\n",
              "    <tr>\n",
              "      <th>4</th>\n",
              "      <td>3559389347669503524</td>\n",
              "      <td>0</td>\n",
              "      <td>1005</td>\n",
              "      <td>0</td>\n",
              "      <td>1fbe01fe</td>\n",
              "      <td>f3845767</td>\n",
              "      <td>28905ebd</td>\n",
              "      <td>ecad2386</td>\n",
              "      <td>7801e8d9</td>\n",
              "      <td>07d7df22</td>\n",
              "      <td>a99f214a</td>\n",
              "      <td>d4e7897b</td>\n",
              "      <td>1f0bc64f</td>\n",
              "      <td>1</td>\n",
              "      <td>0</td>\n",
              "      <td>15701</td>\n",
              "      <td>320</td>\n",
              "      <td>50</td>\n",
              "      <td>1722</td>\n",
              "      <td>0</td>\n",
              "      <td>35</td>\n",
              "      <td>-1</td>\n",
              "      <td>79</td>\n",
              "    </tr>\n",
              "  </tbody>\n",
              "</table>\n",
              "</div>"
            ],
            "text/plain": [
              "                     id  click    C1  banner_pos  ... C18   C19     C20 C21\n",
              "0   2754752362988372739      1  1005           1  ...   2  1063      -1  33\n",
              "1   9630799129494811181      0  1005           0  ...   0    35  100083  79\n",
              "2  10482259799985475720      0  1005           0  ...   0    35  100083  79\n",
              "3  18308563816330684401      0  1005           1  ...   3   167  100077  23\n",
              "4   3559389347669503524      0  1005           0  ...   0    35      -1  79\n",
              "\n",
              "[5 rows x 23 columns]"
            ]
          },
          "metadata": {
            "tags": []
          },
          "execution_count": 13
        }
      ]
    },
    {
      "cell_type": "code",
      "metadata": {
        "id": "Lq6ambgtCkre",
        "colab": {
          "base_uri": "https://localhost:8080/",
          "height": 232
        },
        "outputId": "66349635-0526-4be4-8a77-9376ade62627"
      },
      "source": [
        "import pandas as pd\n",
        "from sklearn.metrics import log_loss, roc_auc_score\n",
        "from sklearn.model_selection import train_test_split\n",
        "from sklearn.preprocessing import LabelEncoder, MinMaxScaler\n",
        "from deepctr_torch.models import *\n",
        "from deepctr_torch.inputs import SparseFeat, DenseFeat, get_feature_names\n",
        "import torch\n",
        "import time\n",
        "time = time.time()\n",
        "\n",
        "# 1.Prepare input data\n",
        "#Sparse feature name \n",
        "sparse_features = ['id', 'C1', 'banner_pos', 'site_id', 'site_domain',\n",
        "       'site_category', 'app_id', 'app_domain', 'app_category', 'device_id',\n",
        "       'device_ip', 'device_model', 'device_type', 'device_conn_type'] + ['C' + str(i) for i in range(14, 22)]\n",
        "#set label column\n",
        "target = ['click']\n",
        "\n",
        "#label encode categorical features\n",
        "for feat in sparse_features:\n",
        "    lbe = LabelEncoder()\n",
        "    df_no_hr[feat] = lbe.fit_transform(df_no_hr[feat])\n",
        "\n",
        "# 3.count #unique features for each sparse field,and record dense feature field name\n",
        "#by default embedding_dim=4 , k=4\n",
        "fixlen_feature_columns = [SparseFeat(feat, df_no_hr[feat].nunique()) for feat in sparse_features]\n",
        "\n",
        "dnn_feature_columns = fixlen_feature_columns\n",
        "linear_feature_columns = fixlen_feature_columns\n",
        "\n",
        "feature_names = get_feature_names(linear_feature_columns + dnn_feature_columns)\n",
        "\n",
        "# 4.generate input data for model.  (idctionary format)\n",
        "train, test = train_test_split(df_no_hr, test_size=0.2, random_state=2020)\n",
        "train_model_input = {name: train[name] for name in feature_names}\n",
        "test_model_input = {name: test[name] for name in feature_names}\n",
        "\n",
        "# 5.Define Model,train,predict and evaluate\n",
        "device = 'cpu'\n",
        "use_cuda = True\n",
        "if use_cuda and torch.cuda.is_available():\n",
        "  print('cuda ready...')\n",
        "  device = 'cuda:0'\n",
        "  #learning rate bt default=0.01\n",
        "  model = DeepFM(linear_feature_columns=linear_feature_columns, dnn_feature_columns=dnn_feature_columns,\n",
        "                   task='binary',\n",
        "                   l2_reg_embedding=1e-5, device=device)\n",
        "\n",
        "  model.compile(\"adagrad\", \"binary_crossentropy\",\n",
        "                metrics=[\"binary_crossentropy\", \"auc\"], )\n",
        "\n",
        "  history = model.fit(train_model_input, train[target].values, batch_size=64, epochs=3, verbose=2,\n",
        "                        validation_split=0.2)\n",
        "  pred_ans = model.predict(test_model_input, 64)\n",
        "  end = time.time()\n",
        "  print('DeepFM Cost %3.2f s.' %(end-start))\n",
        "  print(\"\")\n",
        "  print(\"test LogLoss\", round(log_loss(test[target].values, pred_ans), 4))\n",
        "  print(\"test AUC\", round(roc_auc_score(test[target].values, pred_ans), 4))\n"
      ],
      "execution_count": null,
      "outputs": [
        {
          "output_type": "error",
          "ename": "NameError",
          "evalue": "ignored",
          "traceback": [
            "\u001b[0;31m---------------------------------------------------------------------------\u001b[0m",
            "\u001b[0;31mNameError\u001b[0m                                 Traceback (most recent call last)",
            "\u001b[0;32m<ipython-input-36-ab601f511d1c>\u001b[0m in \u001b[0;36m<module>\u001b[0;34m()\u001b[0m\n\u001b[1;32m     20\u001b[0m \u001b[0;32mfor\u001b[0m \u001b[0mfeat\u001b[0m \u001b[0;32min\u001b[0m \u001b[0msparse_features\u001b[0m\u001b[0;34m:\u001b[0m\u001b[0;34m\u001b[0m\u001b[0;34m\u001b[0m\u001b[0m\n\u001b[1;32m     21\u001b[0m     \u001b[0mlbe\u001b[0m \u001b[0;34m=\u001b[0m \u001b[0mLabelEncoder\u001b[0m\u001b[0;34m(\u001b[0m\u001b[0;34m)\u001b[0m\u001b[0;34m\u001b[0m\u001b[0;34m\u001b[0m\u001b[0m\n\u001b[0;32m---> 22\u001b[0;31m     \u001b[0mdf_no_hr\u001b[0m\u001b[0;34m[\u001b[0m\u001b[0mfeat\u001b[0m\u001b[0;34m]\u001b[0m \u001b[0;34m=\u001b[0m \u001b[0mlbe\u001b[0m\u001b[0;34m.\u001b[0m\u001b[0mfit_transform\u001b[0m\u001b[0;34m(\u001b[0m\u001b[0mdf_no_hr\u001b[0m\u001b[0;34m[\u001b[0m\u001b[0mfeat\u001b[0m\u001b[0;34m]\u001b[0m\u001b[0;34m)\u001b[0m\u001b[0;34m\u001b[0m\u001b[0;34m\u001b[0m\u001b[0m\n\u001b[0m\u001b[1;32m     23\u001b[0m \u001b[0;34m\u001b[0m\u001b[0m\n\u001b[1;32m     24\u001b[0m \u001b[0;31m# 3.count #unique features for each sparse field,and record dense feature field name\u001b[0m\u001b[0;34m\u001b[0m\u001b[0;34m\u001b[0m\u001b[0;34m\u001b[0m\u001b[0m\n",
            "\u001b[0;31mNameError\u001b[0m: name 'df_no_hr' is not defined"
          ]
        }
      ]
    },
    {
      "cell_type": "markdown",
      "metadata": {
        "id": "K8ZBWp9hEXx4"
      },
      "source": [
        "DeepFM with hour\n"
      ]
    },
    {
      "cell_type": "code",
      "metadata": {
        "colab": {
          "base_uri": "https://localhost:8080/",
          "height": 460
        },
        "id": "oG5ZjcLGET_e",
        "outputId": "2a9da9a2-a113-4fa9-cf29-99d4f5fa682e"
      },
      "source": [
        "import pandas as pd\n",
        "from sklearn.metrics import log_loss, roc_auc_score\n",
        "from sklearn.model_selection import train_test_split\n",
        "from sklearn.preprocessing import LabelEncoder, MinMaxScaler\n",
        "from deepctr_torch.models import *\n",
        "from deepctr_torch.inputs import SparseFeat, DenseFeat, get_feature_names\n",
        "import torch\n",
        "import time\n",
        "start = time.time()\n",
        "\n",
        "# 1.Prepare input data\n",
        "#Sparse feature name \n",
        "sparse_features = ['id', 'C1', 'hour_of_day', 'banner_pos', 'site_id', 'site_domain',\n",
        "       'site_category', 'app_id', 'app_domain', 'app_category', 'device_id',\n",
        "       'device_ip', 'device_model', 'device_type', 'device_conn_type'] + ['C' + str(i) for i in range(14, 22)]\n",
        "#set label column\n",
        "target = ['click']\n",
        "\n",
        "#label encode categorical features\n",
        "for feat in sparse_features:\n",
        "    lbe = LabelEncoder()\n",
        "    clean_df[feat] = lbe.fit_transform(clean_df[feat])\n",
        "\n",
        "# 3.count #unique features for each sparse field,and record dense feature field name\n",
        "#by default embedding_dim=4 , k=4\n",
        "fixlen_feature_columns = [SparseFeat(feat, clean_df[feat].nunique()) for feat in sparse_features]\n",
        "\n",
        "dnn_feature_columns = fixlen_feature_columns\n",
        "linear_feature_columns = fixlen_feature_columns\n",
        "\n",
        "feature_names = get_feature_names(linear_feature_columns + dnn_feature_columns)\n",
        "\n",
        "# 4.generate input data for model.  (idctionary format)\n",
        "train, test = train_test_split(clean_df, test_size=0.2, random_state=2020)\n",
        "train_model_input = {name: train[name] for name in feature_names}\n",
        "test_model_input = {name: test[name] for name in feature_names}\n",
        "\n",
        "# 5.Define Model,train,predict and evaluate\n",
        "device = 'gpu'\n",
        "use_cuda = True\n",
        "if use_cuda and torch.cuda.is_available():\n",
        "  print('cuda ready...')\n",
        "  device = 'cuda:0'\n",
        "  #learning rate bt default=0.01, dnn_hidden_units=(256, 128), dnn_dropout=0, dnn_activation\n",
        "  model = DeepFM(linear_feature_columns=linear_feature_columns, dnn_feature_columns=dnn_feature_columns,\n",
        "                  dnn_hidden_units=(256,128),\n",
        "                  dnn_use_bn= True, dnn_dropout=0.2, task='binary',\n",
        "                  l2_reg_embedding=1e-5, device=device)\n",
        "\n",
        "  model.compile(\"adagrad\", \"binary_crossentropy\",\n",
        "                metrics=[\"binary_crossentropy\", \"auc\"], )\n",
        "\n",
        "  history = model.fit(train_model_input, train[target].values, batch_size=1000, epochs=2, verbose=2,\n",
        "                        validation_split=0.2)\n",
        "  pred_ans = model.predict(test_model_input, 64)\n",
        "  \n",
        "  end = time.time()\n",
        "  print('DeepFM Cost %3.2f s.' %(end-start))\n",
        "  print(\"\")\n",
        "  print(\"test LogLoss\", round(log_loss(test[target].values, pred_ans), 4))\n",
        "  print(\"test AUC\", round(roc_auc_score(test[target].values, pred_ans), 4))\n"
      ],
      "execution_count": null,
      "outputs": [
        {
          "output_type": "stream",
          "text": [
            "cuda ready...\n",
            "cuda:0\n",
            "Train on 1293726 samples, validate on 323432 samples, 1294 steps per epoch\n",
            "Epoch 1/2\n",
            "52s - loss:  0.3999 - binary_crossentropy:  0.3999 - auc:  0.7431 - val_binary_crossentropy:  0.3953 - val_auc:  0.7537\n"
          ],
          "name": "stdout"
        },
        {
          "output_type": "error",
          "ename": "KeyboardInterrupt",
          "evalue": "ignored",
          "traceback": [
            "\u001b[0;31m---------------------------------------------------------------------------\u001b[0m",
            "\u001b[0;31mKeyboardInterrupt\u001b[0m                         Traceback (most recent call last)",
            "\u001b[0;32m<ipython-input-38-42e0002dcafb>\u001b[0m in \u001b[0;36m<module>\u001b[0;34m()\u001b[0m\n\u001b[1;32m     52\u001b[0m \u001b[0;34m\u001b[0m\u001b[0m\n\u001b[1;32m     53\u001b[0m   history = model.fit(train_model_input, train[target].values, batch_size=1000, epochs=2, verbose=2,\n\u001b[0;32m---> 54\u001b[0;31m                         validation_split=0.2)\n\u001b[0m\u001b[1;32m     55\u001b[0m   \u001b[0mpred_ans\u001b[0m \u001b[0;34m=\u001b[0m \u001b[0mmodel\u001b[0m\u001b[0;34m.\u001b[0m\u001b[0mpredict\u001b[0m\u001b[0;34m(\u001b[0m\u001b[0mtest_model_input\u001b[0m\u001b[0;34m,\u001b[0m \u001b[0;36m64\u001b[0m\u001b[0;34m)\u001b[0m\u001b[0;34m\u001b[0m\u001b[0;34m\u001b[0m\u001b[0m\n\u001b[1;32m     56\u001b[0m \u001b[0;34m\u001b[0m\u001b[0m\n",
            "\u001b[0;32m/usr/local/lib/python3.6/dist-packages/deepctr_torch/models/basemodel.py\u001b[0m in \u001b[0;36mfit\u001b[0;34m(self, x, y, batch_size, epochs, verbose, initial_epoch, validation_split, validation_data, shuffle, callbacks)\u001b[0m\n\u001b[1;32m    225\u001b[0m             \u001b[0;32mtry\u001b[0m\u001b[0;34m:\u001b[0m\u001b[0;34m\u001b[0m\u001b[0;34m\u001b[0m\u001b[0m\n\u001b[1;32m    226\u001b[0m                 \u001b[0;32mwith\u001b[0m \u001b[0mtqdm\u001b[0m\u001b[0;34m(\u001b[0m\u001b[0menumerate\u001b[0m\u001b[0;34m(\u001b[0m\u001b[0mtrain_loader\u001b[0m\u001b[0;34m)\u001b[0m\u001b[0;34m,\u001b[0m \u001b[0mdisable\u001b[0m\u001b[0;34m=\u001b[0m\u001b[0mverbose\u001b[0m \u001b[0;34m!=\u001b[0m \u001b[0;36m1\u001b[0m\u001b[0;34m)\u001b[0m \u001b[0;32mas\u001b[0m \u001b[0mt\u001b[0m\u001b[0;34m:\u001b[0m\u001b[0;34m\u001b[0m\u001b[0;34m\u001b[0m\u001b[0m\n\u001b[0;32m--> 227\u001b[0;31m                     \u001b[0;32mfor\u001b[0m \u001b[0mindex\u001b[0m\u001b[0;34m,\u001b[0m \u001b[0;34m(\u001b[0m\u001b[0mx_train\u001b[0m\u001b[0;34m,\u001b[0m \u001b[0my_train\u001b[0m\u001b[0;34m)\u001b[0m \u001b[0;32min\u001b[0m \u001b[0mt\u001b[0m\u001b[0;34m:\u001b[0m\u001b[0;34m\u001b[0m\u001b[0;34m\u001b[0m\u001b[0m\n\u001b[0m\u001b[1;32m    228\u001b[0m                         \u001b[0mx\u001b[0m \u001b[0;34m=\u001b[0m \u001b[0mx_train\u001b[0m\u001b[0;34m.\u001b[0m\u001b[0mto\u001b[0m\u001b[0;34m(\u001b[0m\u001b[0mself\u001b[0m\u001b[0;34m.\u001b[0m\u001b[0mdevice\u001b[0m\u001b[0;34m)\u001b[0m\u001b[0;34m.\u001b[0m\u001b[0mfloat\u001b[0m\u001b[0;34m(\u001b[0m\u001b[0;34m)\u001b[0m\u001b[0;34m\u001b[0m\u001b[0;34m\u001b[0m\u001b[0m\n\u001b[1;32m    229\u001b[0m                         \u001b[0my\u001b[0m \u001b[0;34m=\u001b[0m \u001b[0my_train\u001b[0m\u001b[0;34m.\u001b[0m\u001b[0mto\u001b[0m\u001b[0;34m(\u001b[0m\u001b[0mself\u001b[0m\u001b[0;34m.\u001b[0m\u001b[0mdevice\u001b[0m\u001b[0;34m)\u001b[0m\u001b[0;34m.\u001b[0m\u001b[0mfloat\u001b[0m\u001b[0;34m(\u001b[0m\u001b[0;34m)\u001b[0m\u001b[0;34m\u001b[0m\u001b[0;34m\u001b[0m\u001b[0m\n",
            "\u001b[0;32m/usr/local/lib/python3.6/dist-packages/tqdm/std.py\u001b[0m in \u001b[0;36m__iter__\u001b[0;34m(self)\u001b[0m\n\u001b[1;32m   1081\u001b[0m         \u001b[0;31m# (note: keep this check outside the loop for performance)\u001b[0m\u001b[0;34m\u001b[0m\u001b[0;34m\u001b[0m\u001b[0;34m\u001b[0m\u001b[0m\n\u001b[1;32m   1082\u001b[0m         \u001b[0;32mif\u001b[0m \u001b[0mself\u001b[0m\u001b[0;34m.\u001b[0m\u001b[0mdisable\u001b[0m\u001b[0;34m:\u001b[0m\u001b[0;34m\u001b[0m\u001b[0;34m\u001b[0m\u001b[0m\n\u001b[0;32m-> 1083\u001b[0;31m             \u001b[0;32mfor\u001b[0m \u001b[0mobj\u001b[0m \u001b[0;32min\u001b[0m \u001b[0miterable\u001b[0m\u001b[0;34m:\u001b[0m\u001b[0;34m\u001b[0m\u001b[0;34m\u001b[0m\u001b[0m\n\u001b[0m\u001b[1;32m   1084\u001b[0m                 \u001b[0;32myield\u001b[0m \u001b[0mobj\u001b[0m\u001b[0;34m\u001b[0m\u001b[0;34m\u001b[0m\u001b[0m\n\u001b[1;32m   1085\u001b[0m             \u001b[0;32mreturn\u001b[0m\u001b[0;34m\u001b[0m\u001b[0;34m\u001b[0m\u001b[0m\n",
            "\u001b[0;32m/usr/local/lib/python3.6/dist-packages/torch/utils/data/dataloader.py\u001b[0m in \u001b[0;36m__next__\u001b[0;34m(self)\u001b[0m\n\u001b[1;32m    433\u001b[0m         \u001b[0;32mif\u001b[0m \u001b[0mself\u001b[0m\u001b[0;34m.\u001b[0m\u001b[0m_sampler_iter\u001b[0m \u001b[0;32mis\u001b[0m \u001b[0;32mNone\u001b[0m\u001b[0;34m:\u001b[0m\u001b[0;34m\u001b[0m\u001b[0;34m\u001b[0m\u001b[0m\n\u001b[1;32m    434\u001b[0m             \u001b[0mself\u001b[0m\u001b[0;34m.\u001b[0m\u001b[0m_reset\u001b[0m\u001b[0;34m(\u001b[0m\u001b[0;34m)\u001b[0m\u001b[0;34m\u001b[0m\u001b[0;34m\u001b[0m\u001b[0m\n\u001b[0;32m--> 435\u001b[0;31m         \u001b[0mdata\u001b[0m \u001b[0;34m=\u001b[0m \u001b[0mself\u001b[0m\u001b[0;34m.\u001b[0m\u001b[0m_next_data\u001b[0m\u001b[0;34m(\u001b[0m\u001b[0;34m)\u001b[0m\u001b[0;34m\u001b[0m\u001b[0;34m\u001b[0m\u001b[0m\n\u001b[0m\u001b[1;32m    436\u001b[0m         \u001b[0mself\u001b[0m\u001b[0;34m.\u001b[0m\u001b[0m_num_yielded\u001b[0m \u001b[0;34m+=\u001b[0m \u001b[0;36m1\u001b[0m\u001b[0;34m\u001b[0m\u001b[0;34m\u001b[0m\u001b[0m\n\u001b[1;32m    437\u001b[0m         \u001b[0;32mif\u001b[0m \u001b[0mself\u001b[0m\u001b[0;34m.\u001b[0m\u001b[0m_dataset_kind\u001b[0m \u001b[0;34m==\u001b[0m \u001b[0m_DatasetKind\u001b[0m\u001b[0;34m.\u001b[0m\u001b[0mIterable\u001b[0m \u001b[0;32mand\u001b[0m\u001b[0;31m \u001b[0m\u001b[0;31m\\\u001b[0m\u001b[0;34m\u001b[0m\u001b[0;34m\u001b[0m\u001b[0m\n",
            "\u001b[0;32m/usr/local/lib/python3.6/dist-packages/torch/utils/data/dataloader.py\u001b[0m in \u001b[0;36m_next_data\u001b[0;34m(self)\u001b[0m\n\u001b[1;32m    473\u001b[0m     \u001b[0;32mdef\u001b[0m \u001b[0m_next_data\u001b[0m\u001b[0;34m(\u001b[0m\u001b[0mself\u001b[0m\u001b[0;34m)\u001b[0m\u001b[0;34m:\u001b[0m\u001b[0;34m\u001b[0m\u001b[0;34m\u001b[0m\u001b[0m\n\u001b[1;32m    474\u001b[0m         \u001b[0mindex\u001b[0m \u001b[0;34m=\u001b[0m \u001b[0mself\u001b[0m\u001b[0;34m.\u001b[0m\u001b[0m_next_index\u001b[0m\u001b[0;34m(\u001b[0m\u001b[0;34m)\u001b[0m  \u001b[0;31m# may raise StopIteration\u001b[0m\u001b[0;34m\u001b[0m\u001b[0;34m\u001b[0m\u001b[0m\n\u001b[0;32m--> 475\u001b[0;31m         \u001b[0mdata\u001b[0m \u001b[0;34m=\u001b[0m \u001b[0mself\u001b[0m\u001b[0;34m.\u001b[0m\u001b[0m_dataset_fetcher\u001b[0m\u001b[0;34m.\u001b[0m\u001b[0mfetch\u001b[0m\u001b[0;34m(\u001b[0m\u001b[0mindex\u001b[0m\u001b[0;34m)\u001b[0m  \u001b[0;31m# may raise StopIteration\u001b[0m\u001b[0;34m\u001b[0m\u001b[0;34m\u001b[0m\u001b[0m\n\u001b[0m\u001b[1;32m    476\u001b[0m         \u001b[0;32mif\u001b[0m \u001b[0mself\u001b[0m\u001b[0;34m.\u001b[0m\u001b[0m_pin_memory\u001b[0m\u001b[0;34m:\u001b[0m\u001b[0;34m\u001b[0m\u001b[0;34m\u001b[0m\u001b[0m\n\u001b[1;32m    477\u001b[0m             \u001b[0mdata\u001b[0m \u001b[0;34m=\u001b[0m \u001b[0m_utils\u001b[0m\u001b[0;34m.\u001b[0m\u001b[0mpin_memory\u001b[0m\u001b[0;34m.\u001b[0m\u001b[0mpin_memory\u001b[0m\u001b[0;34m(\u001b[0m\u001b[0mdata\u001b[0m\u001b[0;34m)\u001b[0m\u001b[0;34m\u001b[0m\u001b[0;34m\u001b[0m\u001b[0m\n",
            "\u001b[0;32m/usr/local/lib/python3.6/dist-packages/torch/utils/data/_utils/fetch.py\u001b[0m in \u001b[0;36mfetch\u001b[0;34m(self, possibly_batched_index)\u001b[0m\n\u001b[1;32m     42\u001b[0m     \u001b[0;32mdef\u001b[0m \u001b[0mfetch\u001b[0m\u001b[0;34m(\u001b[0m\u001b[0mself\u001b[0m\u001b[0;34m,\u001b[0m \u001b[0mpossibly_batched_index\u001b[0m\u001b[0;34m)\u001b[0m\u001b[0;34m:\u001b[0m\u001b[0;34m\u001b[0m\u001b[0;34m\u001b[0m\u001b[0m\n\u001b[1;32m     43\u001b[0m         \u001b[0;32mif\u001b[0m \u001b[0mself\u001b[0m\u001b[0;34m.\u001b[0m\u001b[0mauto_collation\u001b[0m\u001b[0;34m:\u001b[0m\u001b[0;34m\u001b[0m\u001b[0;34m\u001b[0m\u001b[0m\n\u001b[0;32m---> 44\u001b[0;31m             \u001b[0mdata\u001b[0m \u001b[0;34m=\u001b[0m \u001b[0;34m[\u001b[0m\u001b[0mself\u001b[0m\u001b[0;34m.\u001b[0m\u001b[0mdataset\u001b[0m\u001b[0;34m[\u001b[0m\u001b[0midx\u001b[0m\u001b[0;34m]\u001b[0m \u001b[0;32mfor\u001b[0m \u001b[0midx\u001b[0m \u001b[0;32min\u001b[0m \u001b[0mpossibly_batched_index\u001b[0m\u001b[0;34m]\u001b[0m\u001b[0;34m\u001b[0m\u001b[0;34m\u001b[0m\u001b[0m\n\u001b[0m\u001b[1;32m     45\u001b[0m         \u001b[0;32melse\u001b[0m\u001b[0;34m:\u001b[0m\u001b[0;34m\u001b[0m\u001b[0;34m\u001b[0m\u001b[0m\n\u001b[1;32m     46\u001b[0m             \u001b[0mdata\u001b[0m \u001b[0;34m=\u001b[0m \u001b[0mself\u001b[0m\u001b[0;34m.\u001b[0m\u001b[0mdataset\u001b[0m\u001b[0;34m[\u001b[0m\u001b[0mpossibly_batched_index\u001b[0m\u001b[0;34m]\u001b[0m\u001b[0;34m\u001b[0m\u001b[0;34m\u001b[0m\u001b[0m\n",
            "\u001b[0;32m/usr/local/lib/python3.6/dist-packages/torch/utils/data/_utils/fetch.py\u001b[0m in \u001b[0;36m<listcomp>\u001b[0;34m(.0)\u001b[0m\n\u001b[1;32m     42\u001b[0m     \u001b[0;32mdef\u001b[0m \u001b[0mfetch\u001b[0m\u001b[0;34m(\u001b[0m\u001b[0mself\u001b[0m\u001b[0;34m,\u001b[0m \u001b[0mpossibly_batched_index\u001b[0m\u001b[0;34m)\u001b[0m\u001b[0;34m:\u001b[0m\u001b[0;34m\u001b[0m\u001b[0;34m\u001b[0m\u001b[0m\n\u001b[1;32m     43\u001b[0m         \u001b[0;32mif\u001b[0m \u001b[0mself\u001b[0m\u001b[0;34m.\u001b[0m\u001b[0mauto_collation\u001b[0m\u001b[0;34m:\u001b[0m\u001b[0;34m\u001b[0m\u001b[0;34m\u001b[0m\u001b[0m\n\u001b[0;32m---> 44\u001b[0;31m             \u001b[0mdata\u001b[0m \u001b[0;34m=\u001b[0m \u001b[0;34m[\u001b[0m\u001b[0mself\u001b[0m\u001b[0;34m.\u001b[0m\u001b[0mdataset\u001b[0m\u001b[0;34m[\u001b[0m\u001b[0midx\u001b[0m\u001b[0;34m]\u001b[0m \u001b[0;32mfor\u001b[0m \u001b[0midx\u001b[0m \u001b[0;32min\u001b[0m \u001b[0mpossibly_batched_index\u001b[0m\u001b[0;34m]\u001b[0m\u001b[0;34m\u001b[0m\u001b[0;34m\u001b[0m\u001b[0m\n\u001b[0m\u001b[1;32m     45\u001b[0m         \u001b[0;32melse\u001b[0m\u001b[0;34m:\u001b[0m\u001b[0;34m\u001b[0m\u001b[0;34m\u001b[0m\u001b[0m\n\u001b[1;32m     46\u001b[0m             \u001b[0mdata\u001b[0m \u001b[0;34m=\u001b[0m \u001b[0mself\u001b[0m\u001b[0;34m.\u001b[0m\u001b[0mdataset\u001b[0m\u001b[0;34m[\u001b[0m\u001b[0mpossibly_batched_index\u001b[0m\u001b[0;34m]\u001b[0m\u001b[0;34m\u001b[0m\u001b[0;34m\u001b[0m\u001b[0m\n",
            "\u001b[0;32m/usr/local/lib/python3.6/dist-packages/torch/utils/data/dataset.py\u001b[0m in \u001b[0;36m__getitem__\u001b[0;34m(self, index)\u001b[0m\n\u001b[1;32m    168\u001b[0m \u001b[0;34m\u001b[0m\u001b[0m\n\u001b[1;32m    169\u001b[0m     \u001b[0;32mdef\u001b[0m \u001b[0m__getitem__\u001b[0m\u001b[0;34m(\u001b[0m\u001b[0mself\u001b[0m\u001b[0;34m,\u001b[0m \u001b[0mindex\u001b[0m\u001b[0;34m)\u001b[0m\u001b[0;34m:\u001b[0m\u001b[0;34m\u001b[0m\u001b[0;34m\u001b[0m\u001b[0m\n\u001b[0;32m--> 170\u001b[0;31m         \u001b[0;32mreturn\u001b[0m \u001b[0mtuple\u001b[0m\u001b[0;34m(\u001b[0m\u001b[0mtensor\u001b[0m\u001b[0;34m[\u001b[0m\u001b[0mindex\u001b[0m\u001b[0;34m]\u001b[0m \u001b[0;32mfor\u001b[0m \u001b[0mtensor\u001b[0m \u001b[0;32min\u001b[0m \u001b[0mself\u001b[0m\u001b[0;34m.\u001b[0m\u001b[0mtensors\u001b[0m\u001b[0;34m)\u001b[0m\u001b[0;34m\u001b[0m\u001b[0;34m\u001b[0m\u001b[0m\n\u001b[0m\u001b[1;32m    171\u001b[0m \u001b[0;34m\u001b[0m\u001b[0m\n\u001b[1;32m    172\u001b[0m     \u001b[0;32mdef\u001b[0m \u001b[0m__len__\u001b[0m\u001b[0;34m(\u001b[0m\u001b[0mself\u001b[0m\u001b[0;34m)\u001b[0m\u001b[0;34m:\u001b[0m\u001b[0;34m\u001b[0m\u001b[0;34m\u001b[0m\u001b[0m\n",
            "\u001b[0;32m/usr/local/lib/python3.6/dist-packages/torch/utils/data/dataset.py\u001b[0m in \u001b[0;36m<genexpr>\u001b[0;34m(.0)\u001b[0m\n\u001b[1;32m    168\u001b[0m \u001b[0;34m\u001b[0m\u001b[0m\n\u001b[1;32m    169\u001b[0m     \u001b[0;32mdef\u001b[0m \u001b[0m__getitem__\u001b[0m\u001b[0;34m(\u001b[0m\u001b[0mself\u001b[0m\u001b[0;34m,\u001b[0m \u001b[0mindex\u001b[0m\u001b[0;34m)\u001b[0m\u001b[0;34m:\u001b[0m\u001b[0;34m\u001b[0m\u001b[0;34m\u001b[0m\u001b[0m\n\u001b[0;32m--> 170\u001b[0;31m         \u001b[0;32mreturn\u001b[0m \u001b[0mtuple\u001b[0m\u001b[0;34m(\u001b[0m\u001b[0mtensor\u001b[0m\u001b[0;34m[\u001b[0m\u001b[0mindex\u001b[0m\u001b[0;34m]\u001b[0m \u001b[0;32mfor\u001b[0m \u001b[0mtensor\u001b[0m \u001b[0;32min\u001b[0m \u001b[0mself\u001b[0m\u001b[0;34m.\u001b[0m\u001b[0mtensors\u001b[0m\u001b[0;34m)\u001b[0m\u001b[0;34m\u001b[0m\u001b[0;34m\u001b[0m\u001b[0m\n\u001b[0m\u001b[1;32m    171\u001b[0m \u001b[0;34m\u001b[0m\u001b[0m\n\u001b[1;32m    172\u001b[0m     \u001b[0;32mdef\u001b[0m \u001b[0m__len__\u001b[0m\u001b[0;34m(\u001b[0m\u001b[0mself\u001b[0m\u001b[0;34m)\u001b[0m\u001b[0;34m:\u001b[0m\u001b[0;34m\u001b[0m\u001b[0;34m\u001b[0m\u001b[0m\n",
            "\u001b[0;31mKeyboardInterrupt\u001b[0m: "
          ]
        }
      ]
    },
    {
      "cell_type": "markdown",
      "metadata": {
        "id": "iMLwds-e2n6E"
      },
      "source": [
        "**Notes** \n",
        "\n",
        "*  By using the DeepFM model, we have the best AUC scroe. For batch size=64, the auc reaches 75.37% and  different between training auc is less than 0.5%.\n",
        "\n",
        "*  After hour feature added into traing data, AUC incresing 0.1%.\n",
        "\n",
        "\n",
        "*   Batch Size cannot be too small. If the batch size is too small, some batch are without true label which arrise error (moel cannnot learn)."
      ]
    },
    {
      "cell_type": "markdown",
      "metadata": {
        "id": "2w7Cn3N7k1V4"
      },
      "source": [
        "#Part4: Result and Business Recommandation"
      ]
    },
    {
      "cell_type": "markdown",
      "metadata": {
        "id": "jAt29MJrk-00"
      },
      "source": [
        "###Part4.1: Feature importance from Logistic Regression , Poly2 and LightGBM "
      ]
    },
    {
      "cell_type": "code",
      "metadata": {
        "id": "rOhJDZTRdH29"
      },
      "source": [
        "import lightgbm as lgb\n",
        "#record training result\n",
        "evals_result = {}\n",
        "\n",
        "lgb_params = {\n",
        "    'boosting_type': 'gbdt',\n",
        "    'objective': 'binary',\n",
        "    'metric': 'auc',\n",
        "    'num_leaves': 15,\n",
        "    'num_round': 50,\n",
        "    'max_depth':15,\n",
        "    'learning_rate': 0.1,\n",
        "    'feature_fraction': 0.5,\n",
        "    'bagging_fraction': 0.8,\n",
        "    'bagging_freq': 12,\n",
        "    'n_estimators': 64,\n",
        "}\n",
        "#feed data into model\n",
        "lgb_train = lgb.Dataset(x_train_te, y_train)\n",
        "lgb_test = lgb.Dataset(x_test_te, y_test, reference=lgb_train)\n",
        "\n",
        "#train model\n",
        "optimised_lgbm = lgb.train(lgb_params, lgb_train, evals_result=evals_result)\n"
      ],
      "execution_count": null,
      "outputs": []
    },
    {
      "cell_type": "markdown",
      "metadata": {
        "id": "YPNryGaMrIMn"
      },
      "source": [
        "###Part4.1: Feature Importance Visualization"
      ]
    },
    {
      "cell_type": "code",
      "metadata": {
        "colab": {
          "base_uri": "https://localhost:8080/",
          "height": 712
        },
        "id": "79OzgUERn4gm",
        "outputId": "2ba5d3f9-271e-4704-a833-fd3f05944f52"
      },
      "source": [
        "# sorted(zip(clf.feature_importances_, X.columns), reverse=True)\n",
        "feature_imp = pd.DataFrame(sorted(zip(optimised_lgbm.feature_importances_, x_train_te.columns)), columns=['Value','Feature'])\n",
        "\n",
        "plt.figure(figsize=(20, 10))\n",
        "sns.barplot(x=\"Value\", y=\"Feature\", data=feature_imp.sort_values(by=\"Value\", ascending=False))\n",
        "plt.title('LightGBM Features (avg over folds)')\n",
        "plt.tight_layout()\n",
        "plt.show()\n",
        "plt.savefig('lgbm_importances-01.png')"
      ],
      "execution_count": null,
      "outputs": [
        {
          "output_type": "display_data",
          "data": {
            "image/png": "[encoded data removed]",
            "text/plain": [
              "<Figure size 1440x720 with 1 Axes>"
            ]
          },
          "metadata": {
            "tags": [],
            "needs_background": "light"
          }
        },
        {
          "output_type": "display_data",
          "data": {
            "text/plain": [
              "<Figure size 432x288 with 0 Axes>"
            ]
          },
          "metadata": {
            "tags": []
          }
        }
      ]
    },
    {
      "cell_type": "markdown",
      "metadata": {
        "id": "Px93hcQkthuw"
      },
      "source": [
        "*Note: The top 5 important feature are device_ip, app_id, device_id, C14, site_id. However device_ip is much more importan than other features."
      ]
    },
    {
      "cell_type": "markdown",
      "metadata": {
        "id": "JnxPB7iLtWg3"
      },
      "source": [
        "###Part4.2: LightGBM tree Visualization"
      ]
    },
    {
      "cell_type": "code",
      "metadata": {
        "colab": {
          "base_uri": "https://localhost:8080/",
          "height": 1000
        },
        "id": "uKE7wwY7fS0R",
        "outputId": "c5a1cf04-6cb3-4296-f208-05fb8038c010"
      },
      "source": [
        "lgb.create_tree_digraph(optimised_lgbm, tree_index=1)"
      ],
      "execution_count": null,
      "outputs": [
        {
          "output_type": "execute_result",
          "data": {
            "text/plain": [
              "<graphviz.dot.Digraph at 0x7f0f2792cd30>"
            ],
            "image/svg+xml": "<?xml version=\"1.0\" encoding=\"UTF-8\" standalone=\"no\"?>\n<!DOCTYPE svg PUBLIC \"-//W3C//DTD SVG 1.1//EN\"\n \"http://www.w3.org/Graphics/SVG/1.1/DTD/svg11.dtd\">\n<!-- Generated by graphviz version 2.40.1 (20161225.0304)\n -->\n<!-- Title: %3 Pages: 1 -->\n<svg width=\"3559pt\" height=\"1214pt\"\n viewBox=\"0.00 0.00 3559.08 1213.88\" xmlns=\"http://www.w3.org/2000/svg\" xmlns:xlink=\"http://www.w3.org/1999/xlink\">\n<g id=\"graph0\" class=\"graph\" transform=\"scale(1 1) rotate(0) translate(4 1209.8814)\">\n<title>%3</title>\n<polygon fill=\"#ffffff\" stroke=\"transparent\" points=\"-4,4 -4,-1209.8814 3555.0767,-1209.8814 3555.0767,4 -4,4\"/>\n<!-- split0 -->\n<g id=\"node1\" class=\"node\">\n<title>split0</title>\n<ellipse fill=\"none\" stroke=\"#000000\" cx=\"1192.8061\" cy=\"-1179.0113\" rx=\"152.9705\" ry=\"26.7407\"/>\n<text text-anchor=\"middle\" x=\"1192.8061\" y=\"-1182.8113\" font-family=\"Times,serif\" font-size=\"14.00\" fill=\"#000000\">split_feature_name: device_ip</text>\n<text text-anchor=\"middle\" x=\"1192.8061\" y=\"-1167.8113\" font-family=\"Times,serif\" font-size=\"14.00\" fill=\"#000000\">threshold: 0.12286832541235673</text>\n</g>\n<!-- split6 -->\n<g id=\"node2\" class=\"node\">\n<title>split6</title>\n<ellipse fill=\"none\" stroke=\"#000000\" cx=\"1031.8061\" cy=\"-1074.2712\" rx=\"147.5709\" ry=\"26.7407\"/>\n<text text-anchor=\"middle\" x=\"1031.8061\" y=\"-1078.0712\" font-family=\"Times,serif\" font-size=\"14.00\" fill=\"#000000\">split_feature_name: device_ip</text>\n<text text-anchor=\"middle\" x=\"1031.8061\" y=\"-1063.0712\" font-family=\"Times,serif\" font-size=\"14.00\" fill=\"#000000\">threshold: 0.0458591817233484</text>\n</g>\n<!-- split0&#45;&gt;split6 -->\n<g id=\"edge5\" class=\"edge\">\n<title>split0&#45;&gt;split6</title>\n<path fill=\"none\" stroke=\"#000000\" d=\"M1152.5943,-1152.8512C1130.7085,-1138.6131 1103.4697,-1120.8927 1080.4012,-1105.8852\"/>\n<polygon fill=\"#000000\" stroke=\"#000000\" points=\"1082.075,-1102.7987 1071.7841,-1100.2792 1078.2577,-1108.6663 1082.075,-1102.7987\"/>\n<text text-anchor=\"middle\" x=\"1131.3061\" y=\"-1122.9413\" font-family=\"Times,serif\" font-size=\"14.00\" fill=\"#000000\">&lt;=</text>\n</g>\n<!-- split1 -->\n<g id=\"node7\" class=\"node\">\n<title>split1</title>\n<ellipse fill=\"none\" stroke=\"#000000\" cx=\"1509.8061\" cy=\"-1074.2712\" rx=\"147.5709\" ry=\"26.7407\"/>\n<text text-anchor=\"middle\" x=\"1509.8061\" y=\"-1078.0712\" font-family=\"Times,serif\" font-size=\"14.00\" fill=\"#000000\">split_feature_name: device_ip</text>\n<text text-anchor=\"middle\" x=\"1509.8061\" y=\"-1063.0712\" font-family=\"Times,serif\" font-size=\"14.00\" fill=\"#000000\">threshold: 0.3636319700224876</text>\n</g>\n<!-- split0&#45;&gt;split1 -->\n<g id=\"edge62\" class=\"edge\">\n<title>split0&#45;&gt;split1</title>\n<path fill=\"none\" stroke=\"#000000\" d=\"M1264.7383,-1155.2442C1313.562,-1139.1123 1378.194,-1117.7572 1428.8252,-1101.0282\"/>\n<polygon fill=\"#000000\" stroke=\"#000000\" points=\"1430.035,-1104.3146 1438.4321,-1097.8539 1427.8389,-1097.668 1430.035,-1104.3146\"/>\n<text text-anchor=\"middle\" x=\"1375.3061\" y=\"-1122.9413\" font-family=\"Times,serif\" font-size=\"14.00\" fill=\"#000000\">&gt;</text>\n</g>\n<!-- leaf0 -->\n<g id=\"node3\" class=\"node\">\n<title>leaf0</title>\n<ellipse fill=\"none\" stroke=\"#000000\" cx=\"706.8061\" cy=\"-969.5311\" rx=\"159.1981\" ry=\"26.7407\"/>\n<text text-anchor=\"middle\" x=\"706.8061\" y=\"-973.3311\" font-family=\"Times,serif\" font-size=\"14.00\" fill=\"#000000\">leaf_index: 0</text>\n<text text-anchor=\"middle\" x=\"706.8061\" y=\"-958.3311\" font-family=\"Times,serif\" font-size=\"14.00\" fill=\"#000000\">leaf_value: &#45;0.11707369172494944</text>\n</g>\n<!-- split6&#45;&gt;leaf0 -->\n<g id=\"edge1\" class=\"edge\">\n<title>split6&#45;&gt;leaf0</title>\n<path fill=\"none\" stroke=\"#000000\" d=\"M958.8698,-1050.7655C908.9216,-1034.6683 842.5555,-1013.28 790.4597,-996.4907\"/>\n<polygon fill=\"#000000\" stroke=\"#000000\" points=\"791.497,-993.1478 780.9055,-993.4116 789.3498,-999.8104 791.497,-993.1478\"/>\n<text text-anchor=\"middle\" x=\"897.3061\" y=\"-1018.2012\" font-family=\"Times,serif\" font-size=\"14.00\" fill=\"#000000\">&lt;=</text>\n</g>\n<!-- split30 -->\n<g id=\"node4\" class=\"node\">\n<title>split30</title>\n<ellipse fill=\"none\" stroke=\"#000000\" cx=\"1031.8061\" cy=\"-969.5311\" rx=\"147.5709\" ry=\"26.7407\"/>\n<text text-anchor=\"middle\" x=\"1031.8061\" y=\"-973.3311\" font-family=\"Times,serif\" font-size=\"14.00\" fill=\"#000000\">split_feature_name: site_id</text>\n<text text-anchor=\"middle\" x=\"1031.8061\" y=\"-958.3311\" font-family=\"Times,serif\" font-size=\"14.00\" fill=\"#000000\">threshold: 0.2990172144766207</text>\n</g>\n<!-- split6&#45;&gt;split30 -->\n<g id=\"edge4\" class=\"edge\">\n<title>split6&#45;&gt;split30</title>\n<path fill=\"none\" stroke=\"#000000\" d=\"M1031.8061,-1047.298C1031.8061,-1034.9586 1031.8061,-1020.1371 1031.8061,-1006.7582\"/>\n<polygon fill=\"#000000\" stroke=\"#000000\" points=\"1035.3062,-1006.4128 1031.8061,-996.4129 1028.3062,-1006.4129 1035.3062,-1006.4128\"/>\n<text text-anchor=\"middle\" x=\"1036.3061\" y=\"-1018.2012\" font-family=\"Times,serif\" font-size=\"14.00\" fill=\"#000000\">&gt;</text>\n</g>\n<!-- leaf7 -->\n<g id=\"node5\" class=\"node\">\n<title>leaf7</title>\n<ellipse fill=\"none\" stroke=\"#000000\" cx=\"703.8061\" cy=\"-864.791\" rx=\"154.2987\" ry=\"26.7407\"/>\n<text text-anchor=\"middle\" x=\"703.8061\" y=\"-868.591\" font-family=\"Times,serif\" font-size=\"14.00\" fill=\"#000000\">leaf_index: 7</text>\n<text text-anchor=\"middle\" x=\"703.8061\" y=\"-853.591\" font-family=\"Times,serif\" font-size=\"14.00\" fill=\"#000000\">leaf_value: &#45;0.0572894112217071</text>\n</g>\n<!-- split30&#45;&gt;leaf7 -->\n<g id=\"edge2\" class=\"edge\">\n<title>split30&#45;&gt;leaf7</title>\n<path fill=\"none\" stroke=\"#000000\" d=\"M958.6048,-946.1557C907.9478,-929.9795 840.4136,-908.4138 787.6009,-891.5491\"/>\n<polygon fill=\"#000000\" stroke=\"#000000\" points=\"788.5091,-888.1651 777.9183,-888.4572 786.3797,-894.8333 788.5091,-888.1651\"/>\n<text text-anchor=\"middle\" x=\"896.3061\" y=\"-913.461\" font-family=\"Times,serif\" font-size=\"14.00\" fill=\"#000000\">&lt;=</text>\n</g>\n<!-- leaf31 -->\n<g id=\"node6\" class=\"node\">\n<title>leaf31</title>\n<ellipse fill=\"none\" stroke=\"#000000\" cx=\"1031.8061\" cy=\"-864.791\" rx=\"156.0415\" ry=\"26.7407\"/>\n<text text-anchor=\"middle\" x=\"1031.8061\" y=\"-868.591\" font-family=\"Times,serif\" font-size=\"14.00\" fill=\"#000000\">leaf_index: 31</text>\n<text text-anchor=\"middle\" x=\"1031.8061\" y=\"-853.591\" font-family=\"Times,serif\" font-size=\"14.00\" fill=\"#000000\">leaf_value: 0.06104721312901397</text>\n</g>\n<!-- split30&#45;&gt;leaf31 -->\n<g id=\"edge3\" class=\"edge\">\n<title>split30&#45;&gt;leaf31</title>\n<path fill=\"none\" stroke=\"#000000\" d=\"M1031.8061,-942.5579C1031.8061,-930.2185 1031.8061,-915.397 1031.8061,-902.0181\"/>\n<polygon fill=\"#000000\" stroke=\"#000000\" points=\"1035.3062,-901.6727 1031.8061,-891.6728 1028.3062,-901.6728 1035.3062,-901.6727\"/>\n<text text-anchor=\"middle\" x=\"1036.3061\" y=\"-913.461\" font-family=\"Times,serif\" font-size=\"14.00\" fill=\"#000000\">&gt;</text>\n</g>\n<!-- split2 -->\n<g id=\"node8\" class=\"node\">\n<title>split2</title>\n<ellipse fill=\"none\" stroke=\"#000000\" cx=\"1509.8061\" cy=\"-969.5311\" rx=\"152.9705\" ry=\"26.7407\"/>\n<text text-anchor=\"middle\" x=\"1509.8061\" y=\"-973.3311\" font-family=\"Times,serif\" font-size=\"14.00\" fill=\"#000000\">split_feature_name: site_id</text>\n<text text-anchor=\"middle\" x=\"1509.8061\" y=\"-958.3311\" font-family=\"Times,serif\" font-size=\"14.00\" fill=\"#000000\">threshold: 0.22892090139140958</text>\n</g>\n<!-- split1&#45;&gt;split2 -->\n<g id=\"edge50\" class=\"edge\">\n<title>split1&#45;&gt;split2</title>\n<path fill=\"none\" stroke=\"#000000\" d=\"M1509.8061,-1047.298C1509.8061,-1034.9586 1509.8061,-1020.1371 1509.8061,-1006.7582\"/>\n<polygon fill=\"#000000\" stroke=\"#000000\" points=\"1513.3062,-1006.4128 1509.8061,-996.4129 1506.3062,-1006.4129 1513.3062,-1006.4128\"/>\n<text text-anchor=\"middle\" x=\"1518.3061\" y=\"-1018.2012\" font-family=\"Times,serif\" font-size=\"14.00\" fill=\"#000000\">&lt;=</text>\n</g>\n<!-- split5 -->\n<g id=\"node53\" class=\"node\">\n<title>split5</title>\n<ellipse fill=\"none\" stroke=\"#000000\" cx=\"2569.8061\" cy=\"-969.5311\" rx=\"147.5709\" ry=\"26.7407\"/>\n<text text-anchor=\"middle\" x=\"2569.8061\" y=\"-973.3311\" font-family=\"Times,serif\" font-size=\"14.00\" fill=\"#000000\">split_feature_name: device_ip</text>\n<text text-anchor=\"middle\" x=\"2569.8061\" y=\"-958.3311\" font-family=\"Times,serif\" font-size=\"14.00\" fill=\"#000000\">threshold: 0.6871766076517009</text>\n</g>\n<!-- split1&#45;&gt;split5 -->\n<g id=\"edge61\" class=\"edge\">\n<title>split1&#45;&gt;split5</title>\n<path fill=\"none\" stroke=\"#000000\" d=\"M1639.7829,-1061.428C1840.2193,-1041.6226 2223.1435,-1003.7853 2429.5972,-983.3853\"/>\n<polygon fill=\"#000000\" stroke=\"#000000\" points=\"2429.9897,-986.8637 2439.5971,-982.3972 2429.3013,-979.8976 2429.9897,-986.8637\"/>\n<text text-anchor=\"middle\" x=\"2108.3061\" y=\"-1018.2012\" font-family=\"Times,serif\" font-size=\"14.00\" fill=\"#000000\">&gt;</text>\n</g>\n<!-- split3 -->\n<g id=\"node9\" class=\"node\">\n<title>split3</title>\n<ellipse fill=\"none\" stroke=\"#000000\" cx=\"1353.8061\" cy=\"-864.791\" rx=\"147.5709\" ry=\"26.7407\"/>\n<text text-anchor=\"middle\" x=\"1353.8061\" y=\"-868.591\" font-family=\"Times,serif\" font-size=\"14.00\" fill=\"#000000\">split_feature_name: C14</text>\n<text text-anchor=\"middle\" x=\"1353.8061\" y=\"-853.591\" font-family=\"Times,serif\" font-size=\"14.00\" fill=\"#000000\">threshold: 0.1585967720421502</text>\n</g>\n<!-- split2&#45;&gt;split3 -->\n<g id=\"edge36\" class=\"edge\">\n<title>split2&#45;&gt;split3</title>\n<path fill=\"none\" stroke=\"#000000\" d=\"M1470.8432,-943.3709C1449.637,-929.1329 1423.2442,-911.4124 1400.8921,-896.405\"/>\n<polygon fill=\"#000000\" stroke=\"#000000\" points=\"1402.7958,-893.4675 1392.5425,-890.799 1398.8938,-899.2791 1402.7958,-893.4675\"/>\n<text text-anchor=\"middle\" x=\"1450.3061\" y=\"-913.461\" font-family=\"Times,serif\" font-size=\"14.00\" fill=\"#000000\">&lt;=</text>\n</g>\n<!-- split4 -->\n<g id=\"node40\" class=\"node\">\n<title>split4</title>\n<ellipse fill=\"none\" stroke=\"#000000\" cx=\"1756.8061\" cy=\"-864.791\" rx=\"152.0559\" ry=\"26.7407\"/>\n<text text-anchor=\"middle\" x=\"1756.8061\" y=\"-868.591\" font-family=\"Times,serif\" font-size=\"14.00\" fill=\"#000000\">split_feature_name: site_id</text>\n<text text-anchor=\"middle\" x=\"1756.8061\" y=\"-853.591\" font-family=\"Times,serif\" font-size=\"14.00\" fill=\"#000000\">threshold: 0.36713735407371134</text>\n</g>\n<!-- split2&#45;&gt;split4 -->\n<g id=\"edge49\" class=\"edge\">\n<title>split2&#45;&gt;split4</title>\n<path fill=\"none\" stroke=\"#000000\" d=\"M1568.3417,-944.7092C1604.5079,-929.3729 1651.0649,-909.6304 1688.8559,-893.6052\"/>\n<polygon fill=\"#000000\" stroke=\"#000000\" points=\"1690.4232,-896.7423 1698.2632,-889.616 1687.6904,-890.2978 1690.4232,-896.7423\"/>\n<text text-anchor=\"middle\" x=\"1653.3061\" y=\"-913.461\" font-family=\"Times,serif\" font-size=\"14.00\" fill=\"#000000\">&gt;</text>\n</g>\n<!-- split7 -->\n<g id=\"node10\" class=\"node\">\n<title>split7</title>\n<ellipse fill=\"none\" stroke=\"#000000\" cx=\"602.8061\" cy=\"-760.0509\" rx=\"152.0559\" ry=\"26.7407\"/>\n<text text-anchor=\"middle\" x=\"602.8061\" y=\"-763.8509\" font-family=\"Times,serif\" font-size=\"14.00\" fill=\"#000000\">split_feature_name: app_id</text>\n<text text-anchor=\"middle\" x=\"602.8061\" y=\"-748.8509\" font-family=\"Times,serif\" font-size=\"14.00\" fill=\"#000000\">threshold: 0.19928472638501185</text>\n</g>\n<!-- split3&#45;&gt;split7 -->\n<g id=\"edge18\" class=\"edge\">\n<title>split3&#45;&gt;split7</title>\n<path fill=\"none\" stroke=\"#000000\" d=\"M1247.4867,-846.0153C1230.5518,-843.1918 1213.212,-840.3992 1196.8061,-837.9209 1040.0114,-814.2353 859.2903,-791.1421 738.7563,-776.3369\"/>\n<polygon fill=\"#000000\" stroke=\"#000000\" points=\"739.0871,-772.8513 728.7354,-775.1081 738.235,-779.7993 739.0871,-772.8513\"/>\n<text text-anchor=\"middle\" x=\"1076.3061\" y=\"-808.7209\" font-family=\"Times,serif\" font-size=\"14.00\" fill=\"#000000\">&lt;=</text>\n</g>\n<!-- split8 -->\n<g id=\"node23\" class=\"node\">\n<title>split8</title>\n<ellipse fill=\"none\" stroke=\"#000000\" cx=\"1267.8061\" cy=\"-760.0509\" rx=\"152.0559\" ry=\"26.7407\"/>\n<text text-anchor=\"middle\" x=\"1267.8061\" y=\"-763.8509\" font-family=\"Times,serif\" font-size=\"14.00\" fill=\"#000000\">split_feature_name: site_id</text>\n<text text-anchor=\"middle\" x=\"1267.8061\" y=\"-748.8509\" font-family=\"Times,serif\" font-size=\"14.00\" fill=\"#000000\">threshold: 0.11835013446148646</text>\n</g>\n<!-- split3&#45;&gt;split8 -->\n<g id=\"edge35\" class=\"edge\">\n<title>split3&#45;&gt;split8</title>\n<path fill=\"none\" stroke=\"#000000\" d=\"M1331.8822,-838.0896C1321.0661,-824.9166 1307.8863,-808.8649 1296.2988,-794.7523\"/>\n<polygon fill=\"#000000\" stroke=\"#000000\" points=\"1298.7409,-792.211 1289.69,-786.7035 1293.3309,-796.6531 1298.7409,-792.211\"/>\n<text text-anchor=\"middle\" x=\"1321.3061\" y=\"-808.7209\" font-family=\"Times,serif\" font-size=\"14.00\" fill=\"#000000\">&gt;</text>\n</g>\n<!-- split11 -->\n<g id=\"node11\" class=\"node\">\n<title>split11</title>\n<ellipse fill=\"none\" stroke=\"#000000\" cx=\"275.8061\" cy=\"-655.3107\" rx=\"152.9705\" ry=\"26.7407\"/>\n<text text-anchor=\"middle\" x=\"275.8061\" y=\"-659.1107\" font-family=\"Times,serif\" font-size=\"14.00\" fill=\"#000000\">split_feature_name: site_id</text>\n<text text-anchor=\"middle\" x=\"275.8061\" y=\"-644.1107\" font-family=\"Times,serif\" font-size=\"14.00\" fill=\"#000000\">threshold: 0.07640690258780698</text>\n</g>\n<!-- split7&#45;&gt;split11 -->\n<g id=\"edge16\" class=\"edge\">\n<title>split7&#45;&gt;split11</title>\n<path fill=\"none\" stroke=\"#000000\" d=\"M529.0132,-736.4145C478.5622,-720.2548 411.6061,-698.8083 359.2182,-682.0281\"/>\n<polygon fill=\"#000000\" stroke=\"#000000\" points=\"360.2041,-678.6688 349.613,-678.9515 358.0687,-685.3352 360.2041,-678.6688\"/>\n<text text-anchor=\"middle\" x=\"468.3061\" y=\"-703.9808\" font-family=\"Times,serif\" font-size=\"14.00\" fill=\"#000000\">&lt;=</text>\n</g>\n<!-- leaf8 -->\n<g id=\"node22\" class=\"node\">\n<title>leaf8</title>\n<ellipse fill=\"none\" stroke=\"#000000\" cx=\"602.8061\" cy=\"-655.3107\" rx=\"156.0415\" ry=\"26.7407\"/>\n<text text-anchor=\"middle\" x=\"602.8061\" y=\"-659.1107\" font-family=\"Times,serif\" font-size=\"14.00\" fill=\"#000000\">leaf_index: 8</text>\n<text text-anchor=\"middle\" x=\"602.8061\" y=\"-644.1107\" font-family=\"Times,serif\" font-size=\"14.00\" fill=\"#000000\">leaf_value: 0.05192282199266684</text>\n</g>\n<!-- split7&#45;&gt;leaf8 -->\n<g id=\"edge17\" class=\"edge\">\n<title>split7&#45;&gt;leaf8</title>\n<path fill=\"none\" stroke=\"#000000\" d=\"M602.8061,-733.0777C602.8061,-720.7382 602.8061,-705.9168 602.8061,-692.5379\"/>\n<polygon fill=\"#000000\" stroke=\"#000000\" points=\"606.3062,-692.1925 602.8061,-682.1925 599.3062,-692.1926 606.3062,-692.1925\"/>\n<text text-anchor=\"middle\" x=\"607.3061\" y=\"-703.9808\" font-family=\"Times,serif\" font-size=\"14.00\" fill=\"#000000\">&gt;</text>\n</g>\n<!-- leaf1 -->\n<g id=\"node12\" class=\"node\">\n<title>leaf1</title>\n<ellipse fill=\"none\" stroke=\"#000000\" cx=\"195.8061\" cy=\"-550.5706\" rx=\"154.2987\" ry=\"26.7407\"/>\n<text text-anchor=\"middle\" x=\"195.8061\" y=\"-554.3706\" font-family=\"Times,serif\" font-size=\"14.00\" fill=\"#000000\">leaf_index: 1</text>\n<text text-anchor=\"middle\" x=\"195.8061\" y=\"-539.3706\" font-family=\"Times,serif\" font-size=\"14.00\" fill=\"#000000\">leaf_value: &#45;0.0872183702580898</text>\n</g>\n<!-- split11&#45;&gt;leaf1 -->\n<g id=\"edge6\" class=\"edge\">\n<title>split11&#45;&gt;leaf1</title>\n<path fill=\"none\" stroke=\"#000000\" d=\"M255.4118,-628.6094C245.3503,-615.4364 233.0901,-599.3847 222.3109,-585.272\"/>\n<polygon fill=\"#000000\" stroke=\"#000000\" points=\"225.0147,-583.0458 216.1633,-577.2232 219.4518,-587.2948 225.0147,-583.0458\"/>\n<text text-anchor=\"middle\" x=\"249.3061\" y=\"-599.2407\" font-family=\"Times,serif\" font-size=\"14.00\" fill=\"#000000\">&lt;=</text>\n</g>\n<!-- split12 -->\n<g id=\"node13\" class=\"node\">\n<title>split12</title>\n<ellipse fill=\"none\" stroke=\"#000000\" cx=\"520.8061\" cy=\"-550.5706\" rx=\"152.9705\" ry=\"26.7407\"/>\n<text text-anchor=\"middle\" x=\"520.8061\" y=\"-554.3706\" font-family=\"Times,serif\" font-size=\"14.00\" fill=\"#000000\">split_feature_name: app_id</text>\n<text text-anchor=\"middle\" x=\"520.8061\" y=\"-539.3706\" font-family=\"Times,serif\" font-size=\"14.00\" fill=\"#000000\">threshold: 0.06728517083681597</text>\n</g>\n<!-- split11&#45;&gt;split12 -->\n<g id=\"edge15\" class=\"edge\">\n<title>split11&#45;&gt;split12</title>\n<path fill=\"none\" stroke=\"#000000\" d=\"M334.1785,-630.356C369.9293,-615.0721 415.8286,-595.4497 453.1614,-579.4895\"/>\n<polygon fill=\"#000000\" stroke=\"#000000\" points=\"454.6377,-582.6648 462.4569,-575.5156 451.886,-576.2283 454.6377,-582.6648\"/>\n<text text-anchor=\"middle\" x=\"418.3061\" y=\"-599.2407\" font-family=\"Times,serif\" font-size=\"14.00\" fill=\"#000000\">&gt;</text>\n</g>\n<!-- leaf12 -->\n<g id=\"node14\" class=\"node\">\n<title>leaf12</title>\n<ellipse fill=\"none\" stroke=\"#000000\" cx=\"249.8061\" cy=\"-445.8305\" rx=\"159.6125\" ry=\"26.7407\"/>\n<text text-anchor=\"middle\" x=\"249.8061\" y=\"-449.6305\" font-family=\"Times,serif\" font-size=\"14.00\" fill=\"#000000\">leaf_index: 12</text>\n<text text-anchor=\"middle\" x=\"249.8061\" y=\"-434.6305\" font-family=\"Times,serif\" font-size=\"14.00\" fill=\"#000000\">leaf_value: &#45;0.07987236378024962</text>\n</g>\n<!-- split12&#45;&gt;leaf12 -->\n<g id=\"edge7\" class=\"edge\">\n<title>split12&#45;&gt;leaf12</title>\n<path fill=\"none\" stroke=\"#000000\" d=\"M457.2687,-526.0137C417.2104,-510.5314 365.3312,-490.4804 323.4733,-474.3025\"/>\n<polygon fill=\"#000000\" stroke=\"#000000\" points=\"324.4739,-470.937 313.8845,-470.5965 321.9503,-477.4663 324.4739,-470.937\"/>\n<text text-anchor=\"middle\" x=\"410.3061\" y=\"-494.5006\" font-family=\"Times,serif\" font-size=\"14.00\" fill=\"#000000\">&lt;=</text>\n</g>\n<!-- split17 -->\n<g id=\"node15\" class=\"node\">\n<title>split17</title>\n<ellipse fill=\"none\" stroke=\"#000000\" cx=\"575.8061\" cy=\"-445.8305\" rx=\"147.5709\" ry=\"26.7407\"/>\n<text text-anchor=\"middle\" x=\"575.8061\" y=\"-449.6305\" font-family=\"Times,serif\" font-size=\"14.00\" fill=\"#000000\">split_feature_name: device_id</text>\n<text text-anchor=\"middle\" x=\"575.8061\" y=\"-434.6305\" font-family=\"Times,serif\" font-size=\"14.00\" fill=\"#000000\">threshold: 0.3069284682966034</text>\n</g>\n<!-- split12&#45;&gt;split17 -->\n<g id=\"edge14\" class=\"edge\">\n<title>split12&#45;&gt;split17</title>\n<path fill=\"none\" stroke=\"#000000\" d=\"M534.97,-523.5975C541.642,-510.8915 549.6959,-495.5539 556.8818,-481.8694\"/>\n<polygon fill=\"#000000\" stroke=\"#000000\" points=\"560.1399,-483.1931 561.6903,-472.7123 553.9424,-479.9387 560.1399,-483.1931\"/>\n<text text-anchor=\"middle\" x=\"556.3061\" y=\"-494.5006\" font-family=\"Times,serif\" font-size=\"14.00\" fill=\"#000000\">&gt;</text>\n</g>\n<!-- split24 -->\n<g id=\"node16\" class=\"node\">\n<title>split24</title>\n<ellipse fill=\"none\" stroke=\"#000000\" cx=\"270.8061\" cy=\"-341.0904\" rx=\"152.9705\" ry=\"26.7407\"/>\n<text text-anchor=\"middle\" x=\"270.8061\" y=\"-344.8904\" font-family=\"Times,serif\" font-size=\"14.00\" fill=\"#000000\">split_feature_name: device_ip</text>\n<text text-anchor=\"middle\" x=\"270.8061\" y=\"-329.8904\" font-family=\"Times,serif\" font-size=\"14.00\" fill=\"#000000\">threshold: 0.24613391789557595</text>\n</g>\n<!-- split17&#45;&gt;split24 -->\n<g id=\"edge12\" class=\"edge\">\n<title>split17&#45;&gt;split24</title>\n<path fill=\"none\" stroke=\"#000000\" d=\"M506.5969,-422.0634C460.0487,-406.0782 398.5659,-384.9644 350.054,-368.3049\"/>\n<polygon fill=\"#000000\" stroke=\"#000000\" points=\"351.1275,-364.973 340.5328,-365.0353 348.8539,-371.5935 351.1275,-364.973\"/>\n<text text-anchor=\"middle\" x=\"450.3061\" y=\"-389.7605\" font-family=\"Times,serif\" font-size=\"14.00\" fill=\"#000000\">&lt;=</text>\n</g>\n<!-- leaf18 -->\n<g id=\"node21\" class=\"node\">\n<title>leaf18</title>\n<ellipse fill=\"none\" stroke=\"#000000\" cx=\"597.8061\" cy=\"-341.0904\" rx=\"156.0415\" ry=\"26.7407\"/>\n<text text-anchor=\"middle\" x=\"597.8061\" y=\"-344.8904\" font-family=\"Times,serif\" font-size=\"14.00\" fill=\"#000000\">leaf_index: 18</text>\n<text text-anchor=\"middle\" x=\"597.8061\" y=\"-329.8904\" font-family=\"Times,serif\" font-size=\"14.00\" fill=\"#000000\">leaf_value: 0.18142540887439074</text>\n</g>\n<!-- split17&#45;&gt;leaf18 -->\n<g id=\"edge13\" class=\"edge\">\n<title>split17&#45;&gt;leaf18</title>\n<path fill=\"none\" stroke=\"#000000\" d=\"M581.4717,-418.8573C584.0892,-406.3957 587.2384,-391.4027 590.0702,-377.9206\"/>\n<polygon fill=\"#000000\" stroke=\"#000000\" points=\"593.5294,-378.4781 592.1598,-367.9722 586.6789,-377.0392 593.5294,-378.4781\"/>\n<text text-anchor=\"middle\" x=\"593.3061\" y=\"-389.7605\" font-family=\"Times,serif\" font-size=\"14.00\" fill=\"#000000\">&gt;</text>\n</g>\n<!-- split27 -->\n<g id=\"node17\" class=\"node\">\n<title>split27</title>\n<ellipse fill=\"none\" stroke=\"#000000\" cx=\"171.8061\" cy=\"-236.3503\" rx=\"152.9705\" ry=\"26.7407\"/>\n<text text-anchor=\"middle\" x=\"171.8061\" y=\"-240.1503\" font-family=\"Times,serif\" font-size=\"14.00\" fill=\"#000000\">split_feature_name: C14</text>\n<text text-anchor=\"middle\" x=\"171.8061\" y=\"-225.1503\" font-family=\"Times,serif\" font-size=\"14.00\" fill=\"#000000\">threshold: 0.08053899497102385</text>\n</g>\n<!-- split24&#45;&gt;split27 -->\n<g id=\"edge10\" class=\"edge\">\n<title>split24&#45;&gt;split27</title>\n<path fill=\"none\" stroke=\"#000000\" d=\"M245.5681,-314.389C233.0006,-301.0929 217.6612,-284.864 204.2323,-270.6565\"/>\n<polygon fill=\"#000000\" stroke=\"#000000\" points=\"206.4108,-267.8661 196.9981,-263.0029 201.3236,-272.6745 206.4108,-267.8661\"/>\n<text text-anchor=\"middle\" x=\"236.3061\" y=\"-285.0203\" font-family=\"Times,serif\" font-size=\"14.00\" fill=\"#000000\">&lt;=</text>\n</g>\n<!-- leaf25 -->\n<g id=\"node20\" class=\"node\">\n<title>leaf25</title>\n<ellipse fill=\"none\" stroke=\"#000000\" cx=\"498.8061\" cy=\"-236.3503\" rx=\"156.0415\" ry=\"26.7407\"/>\n<text text-anchor=\"middle\" x=\"498.8061\" y=\"-240.1503\" font-family=\"Times,serif\" font-size=\"14.00\" fill=\"#000000\">leaf_index: 25</text>\n<text text-anchor=\"middle\" x=\"498.8061\" y=\"-225.1503\" font-family=\"Times,serif\" font-size=\"14.00\" fill=\"#000000\">leaf_value: 0.02596010698194596</text>\n</g>\n<!-- split24&#45;&gt;leaf25 -->\n<g id=\"edge11\" class=\"edge\">\n<title>split24&#45;&gt;leaf25</title>\n<path fill=\"none\" stroke=\"#000000\" d=\"M325.708,-315.8692C358.4687,-300.8194 400.2295,-281.635 434.5246,-265.8803\"/>\n<polygon fill=\"#000000\" stroke=\"#000000\" points=\"436.36,-268.8889 443.986,-261.5339 433.4379,-262.528 436.36,-268.8889\"/>\n<text text-anchor=\"middle\" x=\"403.3061\" y=\"-285.0203\" font-family=\"Times,serif\" font-size=\"14.00\" fill=\"#000000\">&gt;</text>\n</g>\n<!-- leaf13 -->\n<g id=\"node18\" class=\"node\">\n<title>leaf13</title>\n<ellipse fill=\"none\" stroke=\"#000000\" cx=\"159.8061\" cy=\"-131.6102\" rx=\"159.6125\" ry=\"26.7407\"/>\n<text text-anchor=\"middle\" x=\"159.8061\" y=\"-135.4102\" font-family=\"Times,serif\" font-size=\"14.00\" fill=\"#000000\">leaf_index: 13</text>\n<text text-anchor=\"middle\" x=\"159.8061\" y=\"-120.4102\" font-family=\"Times,serif\" font-size=\"14.00\" fill=\"#000000\">leaf_value: &#45;0.06533624300598555</text>\n</g>\n<!-- split27&#45;&gt;leaf13 -->\n<g id=\"edge8\" class=\"edge\">\n<title>split27&#45;&gt;leaf13</title>\n<path fill=\"none\" stroke=\"#000000\" d=\"M168.7158,-209.3771C167.2881,-196.9155 165.5704,-181.9225 164.0257,-168.4403\"/>\n<polygon fill=\"#000000\" stroke=\"#000000\" points=\"167.5015,-168.0285 162.886,-158.4919 160.547,-168.8254 167.5015,-168.0285\"/>\n<text text-anchor=\"middle\" x=\"175.3061\" y=\"-180.2802\" font-family=\"Times,serif\" font-size=\"14.00\" fill=\"#000000\">&lt;=</text>\n</g>\n<!-- leaf28 -->\n<g id=\"node19\" class=\"node\">\n<title>leaf28</title>\n<ellipse fill=\"none\" stroke=\"#000000\" cx=\"497.8061\" cy=\"-131.6102\" rx=\"159.6125\" ry=\"26.7407\"/>\n<text text-anchor=\"middle\" x=\"497.8061\" y=\"-135.4102\" font-family=\"Times,serif\" font-size=\"14.00\" fill=\"#000000\">leaf_index: 28</text>\n<text text-anchor=\"middle\" x=\"497.8061\" y=\"-120.4102\" font-family=\"Times,serif\" font-size=\"14.00\" fill=\"#000000\">leaf_value: &#45;0.02445745525035084</text>\n</g>\n<!-- split27&#45;&gt;leaf28 -->\n<g id=\"edge9\" class=\"edge\">\n<title>split27&#45;&gt;leaf28</title>\n<path fill=\"none\" stroke=\"#000000\" d=\"M245.3734,-212.714C295.4934,-196.611 361.9524,-175.2584 414.0979,-158.5047\"/>\n<polygon fill=\"#000000\" stroke=\"#000000\" points=\"415.2108,-161.8234 423.6609,-155.4322 413.0696,-155.1589 415.2108,-161.8234\"/>\n<text text-anchor=\"middle\" x=\"359.3061\" y=\"-180.2802\" font-family=\"Times,serif\" font-size=\"14.00\" fill=\"#000000\">&gt;</text>\n</g>\n<!-- leaf4 -->\n<g id=\"node24\" class=\"node\">\n<title>leaf4</title>\n<ellipse fill=\"none\" stroke=\"#000000\" cx=\"936.8061\" cy=\"-655.3107\" rx=\"159.6125\" ry=\"26.7407\"/>\n<text text-anchor=\"middle\" x=\"936.8061\" y=\"-659.1107\" font-family=\"Times,serif\" font-size=\"14.00\" fill=\"#000000\">leaf_index: 4</text>\n<text text-anchor=\"middle\" x=\"936.8061\" y=\"-644.1107\" font-family=\"Times,serif\" font-size=\"14.00\" fill=\"#000000\">leaf_value: &#45;0.04689518141801921</text>\n</g>\n<!-- split8&#45;&gt;leaf4 -->\n<g id=\"edge19\" class=\"edge\">\n<title>split8&#45;&gt;leaf4</title>\n<path fill=\"none\" stroke=\"#000000\" d=\"M1193.5233,-736.5451C1142.5632,-720.4196 1074.8232,-698.9842 1021.7235,-682.1816\"/>\n<polygon fill=\"#000000\" stroke=\"#000000\" points=\"1022.5763,-678.7805 1011.9863,-679.1004 1020.4644,-685.4543 1022.5763,-678.7805\"/>\n<text text-anchor=\"middle\" x=\"1131.3061\" y=\"-703.9808\" font-family=\"Times,serif\" font-size=\"14.00\" fill=\"#000000\">&lt;=</text>\n</g>\n<!-- split9 -->\n<g id=\"node25\" class=\"node\">\n<title>split9</title>\n<ellipse fill=\"none\" stroke=\"#000000\" cx=\"1267.8061\" cy=\"-655.3107\" rx=\"152.9705\" ry=\"26.7407\"/>\n<text text-anchor=\"middle\" x=\"1267.8061\" y=\"-659.1107\" font-family=\"Times,serif\" font-size=\"14.00\" fill=\"#000000\">split_feature_name: device_id</text>\n<text text-anchor=\"middle\" x=\"1267.8061\" y=\"-644.1107\" font-family=\"Times,serif\" font-size=\"14.00\" fill=\"#000000\">threshold: 0.07692336310693572</text>\n</g>\n<!-- split8&#45;&gt;split9 -->\n<g id=\"edge34\" class=\"edge\">\n<title>split8&#45;&gt;split9</title>\n<path fill=\"none\" stroke=\"#000000\" d=\"M1267.8061,-733.0777C1267.8061,-720.7382 1267.8061,-705.9168 1267.8061,-692.5379\"/>\n<polygon fill=\"#000000\" stroke=\"#000000\" points=\"1271.3062,-692.1925 1267.8061,-682.1925 1264.3062,-692.1926 1271.3062,-692.1925\"/>\n<text text-anchor=\"middle\" x=\"1272.3061\" y=\"-703.9808\" font-family=\"Times,serif\" font-size=\"14.00\" fill=\"#000000\">&gt;</text>\n</g>\n<!-- leaf9 -->\n<g id=\"node26\" class=\"node\">\n<title>leaf9</title>\n<ellipse fill=\"none\" stroke=\"#000000\" cx=\"939.8061\" cy=\"-550.5706\" rx=\"159.1981\" ry=\"26.7407\"/>\n<text text-anchor=\"middle\" x=\"939.8061\" y=\"-554.3706\" font-family=\"Times,serif\" font-size=\"14.00\" fill=\"#000000\">leaf_index: 9</text>\n<text text-anchor=\"middle\" x=\"939.8061\" y=\"-539.3706\" font-family=\"Times,serif\" font-size=\"14.00\" fill=\"#000000\">leaf_value: &#45;0.11803438258259169</text>\n</g>\n<!-- split9&#45;&gt;leaf9 -->\n<g id=\"edge20\" class=\"edge\">\n<title>split9&#45;&gt;leaf9</title>\n<path fill=\"none\" stroke=\"#000000\" d=\"M1193.7876,-631.6744C1143.3601,-615.5714 1076.4933,-594.2189 1024.0279,-577.4651\"/>\n<polygon fill=\"#000000\" stroke=\"#000000\" points=\"1024.9971,-574.1006 1014.4063,-574.3927 1022.8677,-580.7688 1024.9971,-574.1006\"/>\n<text text-anchor=\"middle\" x=\"1132.3061\" y=\"-599.2407\" font-family=\"Times,serif\" font-size=\"14.00\" fill=\"#000000\">&lt;=</text>\n</g>\n<!-- split10 -->\n<g id=\"node27\" class=\"node\">\n<title>split10</title>\n<ellipse fill=\"none\" stroke=\"#000000\" cx=\"1264.8061\" cy=\"-550.5706\" rx=\"147.5709\" ry=\"26.7407\"/>\n<text text-anchor=\"middle\" x=\"1264.8061\" y=\"-554.3706\" font-family=\"Times,serif\" font-size=\"14.00\" fill=\"#000000\">split_feature_name: app_id</text>\n<text text-anchor=\"middle\" x=\"1264.8061\" y=\"-539.3706\" font-family=\"Times,serif\" font-size=\"14.00\" fill=\"#000000\">threshold: 0.2473747736095052</text>\n</g>\n<!-- split9&#45;&gt;split10 -->\n<g id=\"edge33\" class=\"edge\">\n<title>split9&#45;&gt;split10</title>\n<path fill=\"none\" stroke=\"#000000\" d=\"M1267.0336,-628.3376C1266.6801,-615.9981 1266.2556,-601.1767 1265.8724,-587.7978\"/>\n<polygon fill=\"#000000\" stroke=\"#000000\" points=\"1269.3611,-587.3481 1265.5761,-577.4524 1262.3639,-587.5486 1269.3611,-587.3481\"/>\n<text text-anchor=\"middle\" x=\"1271.3061\" y=\"-599.2407\" font-family=\"Times,serif\" font-size=\"14.00\" fill=\"#000000\">&gt;</text>\n</g>\n<!-- split13 -->\n<g id=\"node28\" class=\"node\">\n<title>split13</title>\n<ellipse fill=\"none\" stroke=\"#000000\" cx=\"1260.8061\" cy=\"-445.8305\" rx=\"152.9705\" ry=\"26.7407\"/>\n<text text-anchor=\"middle\" x=\"1260.8061\" y=\"-449.6305\" font-family=\"Times,serif\" font-size=\"14.00\" fill=\"#000000\">split_feature_name: device_ip</text>\n<text text-anchor=\"middle\" x=\"1260.8061\" y=\"-434.6305\" font-family=\"Times,serif\" font-size=\"14.00\" fill=\"#000000\">threshold: 0.24613391789557595</text>\n</g>\n<!-- split10&#45;&gt;split13 -->\n<g id=\"edge29\" class=\"edge\">\n<title>split10&#45;&gt;split13</title>\n<path fill=\"none\" stroke=\"#000000\" d=\"M1263.776,-523.5975C1263.3048,-511.258 1262.7388,-496.4365 1262.2278,-483.0577\"/>\n<polygon fill=\"#000000\" stroke=\"#000000\" points=\"1265.7119,-482.5714 1261.8327,-472.7123 1258.717,-482.8386 1265.7119,-482.5714\"/>\n<text text-anchor=\"middle\" x=\"1272.3061\" y=\"-494.5006\" font-family=\"Times,serif\" font-size=\"14.00\" fill=\"#000000\">&lt;=</text>\n</g>\n<!-- split18 -->\n<g id=\"node37\" class=\"node\">\n<title>split18</title>\n<ellipse fill=\"none\" stroke=\"#000000\" cx=\"1591.8061\" cy=\"-445.8305\" rx=\"147.5709\" ry=\"26.7407\"/>\n<text text-anchor=\"middle\" x=\"1591.8061\" y=\"-449.6305\" font-family=\"Times,serif\" font-size=\"14.00\" fill=\"#000000\">split_feature_name: app_id</text>\n<text text-anchor=\"middle\" x=\"1591.8061\" y=\"-434.6305\" font-family=\"Times,serif\" font-size=\"14.00\" fill=\"#000000\">threshold: 0.4282515595449512</text>\n</g>\n<!-- split10&#45;&gt;split18 -->\n<g id=\"edge32\" class=\"edge\">\n<title>split10&#45;&gt;split18</title>\n<path fill=\"none\" stroke=\"#000000\" d=\"M1337.7843,-527.1953C1388.5527,-510.9339 1456.3244,-489.2262 1509.097,-472.3228\"/>\n<polygon fill=\"#000000\" stroke=\"#000000\" points=\"1510.313,-475.6085 1518.7688,-469.2248 1508.1777,-468.9421 1510.313,-475.6085\"/>\n<text text-anchor=\"middle\" x=\"1453.3061\" y=\"-494.5006\" font-family=\"Times,serif\" font-size=\"14.00\" fill=\"#000000\">&gt;</text>\n</g>\n<!-- split15 -->\n<g id=\"node29\" class=\"node\">\n<title>split15</title>\n<ellipse fill=\"none\" stroke=\"#000000\" cx=\"934.8061\" cy=\"-341.0904\" rx=\"152.0559\" ry=\"26.7407\"/>\n<text text-anchor=\"middle\" x=\"934.8061\" y=\"-344.8904\" font-family=\"Times,serif\" font-size=\"14.00\" fill=\"#000000\">split_feature_name: app_id</text>\n<text text-anchor=\"middle\" x=\"934.8061\" y=\"-329.8904\" font-family=\"Times,serif\" font-size=\"14.00\" fill=\"#000000\">threshold: 0.09282267358110056</text>\n</g>\n<!-- split13&#45;&gt;split15 -->\n<g id=\"edge27\" class=\"edge\">\n<title>split13&#45;&gt;split15</title>\n<path fill=\"none\" stroke=\"#000000\" d=\"M1187.2389,-422.1942C1136.8537,-406.006 1069.9561,-384.5126 1017.6879,-367.7194\"/>\n<polygon fill=\"#000000\" stroke=\"#000000\" points=\"1018.6971,-364.3675 1008.1057,-364.6407 1016.5558,-371.0319 1018.6971,-364.3675\"/>\n<text text-anchor=\"middle\" x=\"1126.3061\" y=\"-389.7605\" font-family=\"Times,serif\" font-size=\"14.00\" fill=\"#000000\">&lt;=</text>\n</g>\n<!-- leaf14 -->\n<g id=\"node36\" class=\"node\">\n<title>leaf14</title>\n<ellipse fill=\"none\" stroke=\"#000000\" cx=\"1260.8061\" cy=\"-341.0904\" rx=\"156.0415\" ry=\"26.7407\"/>\n<text text-anchor=\"middle\" x=\"1260.8061\" y=\"-344.8904\" font-family=\"Times,serif\" font-size=\"14.00\" fill=\"#000000\">leaf_index: 14</text>\n<text text-anchor=\"middle\" x=\"1260.8061\" y=\"-329.8904\" font-family=\"Times,serif\" font-size=\"14.00\" fill=\"#000000\">leaf_value: 0.07672038502961265</text>\n</g>\n<!-- split13&#45;&gt;leaf14 -->\n<g id=\"edge28\" class=\"edge\">\n<title>split13&#45;&gt;leaf14</title>\n<path fill=\"none\" stroke=\"#000000\" d=\"M1260.8061,-418.8573C1260.8061,-406.5179 1260.8061,-391.6964 1260.8061,-378.3175\"/>\n<polygon fill=\"#000000\" stroke=\"#000000\" points=\"1264.3062,-377.9721 1260.8061,-367.9722 1257.3062,-377.9722 1264.3062,-377.9721\"/>\n<text text-anchor=\"middle\" x=\"1265.3061\" y=\"-389.7605\" font-family=\"Times,serif\" font-size=\"14.00\" fill=\"#000000\">&gt;</text>\n</g>\n<!-- leaf10 -->\n<g id=\"node30\" class=\"node\">\n<title>leaf10</title>\n<ellipse fill=\"none\" stroke=\"#000000\" cx=\"838.8061\" cy=\"-236.3503\" rx=\"159.6125\" ry=\"26.7407\"/>\n<text text-anchor=\"middle\" x=\"838.8061\" y=\"-240.1503\" font-family=\"Times,serif\" font-size=\"14.00\" fill=\"#000000\">leaf_index: 10</text>\n<text text-anchor=\"middle\" x=\"838.8061\" y=\"-225.1503\" font-family=\"Times,serif\" font-size=\"14.00\" fill=\"#000000\">leaf_value: &#45;0.06172090899563492</text>\n</g>\n<!-- split15&#45;&gt;leaf10 -->\n<g id=\"edge21\" class=\"edge\">\n<title>split15&#45;&gt;leaf10</title>\n<path fill=\"none\" stroke=\"#000000\" d=\"M910.3329,-314.389C898.1463,-301.0929 883.2716,-284.864 870.2497,-270.6565\"/>\n<polygon fill=\"#000000\" stroke=\"#000000\" points=\"872.5717,-268.01 863.2347,-263.0029 867.4113,-272.7398 872.5717,-268.01\"/>\n<text text-anchor=\"middle\" x=\"901.3061\" y=\"-285.0203\" font-family=\"Times,serif\" font-size=\"14.00\" fill=\"#000000\">&lt;=</text>\n</g>\n<!-- split21 -->\n<g id=\"node31\" class=\"node\">\n<title>split21</title>\n<ellipse fill=\"none\" stroke=\"#000000\" cx=\"1169.8061\" cy=\"-236.3503\" rx=\"152.9705\" ry=\"26.7407\"/>\n<text text-anchor=\"middle\" x=\"1169.8061\" y=\"-240.1503\" font-family=\"Times,serif\" font-size=\"14.00\" fill=\"#000000\">split_feature_name: device_model</text>\n<text text-anchor=\"middle\" x=\"1169.8061\" y=\"-225.1503\" font-family=\"Times,serif\" font-size=\"14.00\" fill=\"#000000\">threshold: 0.14256780401947314</text>\n</g>\n<!-- split15&#45;&gt;split21 -->\n<g id=\"edge26\" class=\"edge\">\n<title>split15&#45;&gt;split21</title>\n<path fill=\"none\" stroke=\"#000000\" d=\"M991.0945,-316.0025C1025.1233,-300.8358 1068.6552,-281.4335 1104.2349,-265.5756\"/>\n<polygon fill=\"#000000\" stroke=\"#000000\" points=\"1105.8613,-268.6826 1113.5703,-261.4147 1103.0116,-262.2889 1105.8613,-268.6826\"/>\n<text text-anchor=\"middle\" x=\"1071.3061\" y=\"-285.0203\" font-family=\"Times,serif\" font-size=\"14.00\" fill=\"#000000\">&gt;</text>\n</g>\n<!-- leaf16 -->\n<g id=\"node32\" class=\"node\">\n<title>leaf16</title>\n<ellipse fill=\"none\" stroke=\"#000000\" cx=\"984.8061\" cy=\"-131.6102\" rx=\"164.5121\" ry=\"26.7407\"/>\n<text text-anchor=\"middle\" x=\"984.8061\" y=\"-135.4102\" font-family=\"Times,serif\" font-size=\"14.00\" fill=\"#000000\">leaf_index: 16</text>\n<text text-anchor=\"middle\" x=\"984.8061\" y=\"-120.4102\" font-family=\"Times,serif\" font-size=\"14.00\" fill=\"#000000\">leaf_value: &#45;0.012030772538426944</text>\n</g>\n<!-- split21&#45;&gt;leaf16 -->\n<g id=\"edge22\" class=\"edge\">\n<title>split21&#45;&gt;leaf16</title>\n<path fill=\"none\" stroke=\"#000000\" d=\"M1124.0758,-210.4595C1098.5046,-195.982 1066.4621,-177.8407 1039.5608,-162.6102\"/>\n<polygon fill=\"#000000\" stroke=\"#000000\" points=\"1041.0781,-159.4473 1030.6516,-157.5662 1037.6293,-165.5387 1041.0781,-159.4473\"/>\n<text text-anchor=\"middle\" x=\"1097.3061\" y=\"-180.2802\" font-family=\"Times,serif\" font-size=\"14.00\" fill=\"#000000\">&lt;=</text>\n</g>\n<!-- split26 -->\n<g id=\"node33\" class=\"node\">\n<title>split26</title>\n<ellipse fill=\"none\" stroke=\"#000000\" cx=\"1319.8061\" cy=\"-131.6102\" rx=\"152.9705\" ry=\"26.7407\"/>\n<text text-anchor=\"middle\" x=\"1319.8061\" y=\"-135.4102\" font-family=\"Times,serif\" font-size=\"14.00\" fill=\"#000000\">split_feature_name: device_id</text>\n<text text-anchor=\"middle\" x=\"1319.8061\" y=\"-120.4102\" font-family=\"Times,serif\" font-size=\"14.00\" fill=\"#000000\">threshold: 0.37971368658132826</text>\n</g>\n<!-- split21&#45;&gt;split26 -->\n<g id=\"edge25\" class=\"edge\">\n<title>split21&#45;&gt;split26</title>\n<path fill=\"none\" stroke=\"#000000\" d=\"M1207.2705,-210.1901C1227.4946,-196.0683 1252.6249,-178.5207 1274.0041,-163.5922\"/>\n<polygon fill=\"#000000\" stroke=\"#000000\" points=\"1276.1043,-166.3946 1282.2995,-157.7999 1272.0967,-160.6553 1276.1043,-166.3946\"/>\n<text text-anchor=\"middle\" x=\"1258.3061\" y=\"-180.2802\" font-family=\"Times,serif\" font-size=\"14.00\" fill=\"#000000\">&gt;</text>\n</g>\n<!-- leaf22 -->\n<g id=\"node34\" class=\"node\">\n<title>leaf22</title>\n<ellipse fill=\"none\" stroke=\"#000000\" cx=\"1151.8061\" cy=\"-26.8701\" rx=\"161.8549\" ry=\"26.7407\"/>\n<text text-anchor=\"middle\" x=\"1151.8061\" y=\"-30.6701\" font-family=\"Times,serif\" font-size=\"14.00\" fill=\"#000000\">leaf_index: 22</text>\n<text text-anchor=\"middle\" x=\"1151.8061\" y=\"-15.6701\" font-family=\"Times,serif\" font-size=\"14.00\" fill=\"#000000\">leaf_value: 0.031599609886193855</text>\n</g>\n<!-- split26&#45;&gt;leaf22 -->\n<g id=\"edge23\" class=\"edge\">\n<title>split26&#45;&gt;leaf22</title>\n<path fill=\"none\" stroke=\"#000000\" d=\"M1278.278,-105.7194C1255.3451,-91.4217 1226.6806,-73.5508 1202.4418,-58.439\"/>\n<polygon fill=\"#000000\" stroke=\"#000000\" points=\"1204.0684,-55.3286 1193.7308,-53.0081 1200.365,-61.2688 1204.0684,-55.3286\"/>\n<text text-anchor=\"middle\" x=\"1255.3061\" y=\"-75.5401\" font-family=\"Times,serif\" font-size=\"14.00\" fill=\"#000000\">&lt;=</text>\n</g>\n<!-- leaf27 -->\n<g id=\"node35\" class=\"node\">\n<title>leaf27</title>\n<ellipse fill=\"none\" stroke=\"#000000\" cx=\"1487.8061\" cy=\"-26.8701\" rx=\"156.0415\" ry=\"26.7407\"/>\n<text text-anchor=\"middle\" x=\"1487.8061\" y=\"-30.6701\" font-family=\"Times,serif\" font-size=\"14.00\" fill=\"#000000\">leaf_index: 27</text>\n<text text-anchor=\"middle\" x=\"1487.8061\" y=\"-15.6701\" font-family=\"Times,serif\" font-size=\"14.00\" fill=\"#000000\">leaf_value: 0.24980498382149646</text>\n</g>\n<!-- split26&#45;&gt;leaf27 -->\n<g id=\"edge24\" class=\"edge\">\n<title>split26&#45;&gt;leaf27</title>\n<path fill=\"none\" stroke=\"#000000\" d=\"M1361.3342,-105.7194C1384.3538,-91.3678 1413.1481,-73.4159 1437.4447,-58.2681\"/>\n<polygon fill=\"#000000\" stroke=\"#000000\" points=\"1439.5393,-61.0867 1446.1735,-52.826 1435.8359,-55.1466 1439.5393,-61.0867\"/>\n<text text-anchor=\"middle\" x=\"1419.3061\" y=\"-75.5401\" font-family=\"Times,serif\" font-size=\"14.00\" fill=\"#000000\">&gt;</text>\n</g>\n<!-- leaf11 -->\n<g id=\"node38\" class=\"node\">\n<title>leaf11</title>\n<ellipse fill=\"none\" stroke=\"#000000\" cx=\"1591.8061\" cy=\"-341.0904\" rx=\"156.0415\" ry=\"26.7407\"/>\n<text text-anchor=\"middle\" x=\"1591.8061\" y=\"-344.8904\" font-family=\"Times,serif\" font-size=\"14.00\" fill=\"#000000\">leaf_index: 11</text>\n<text text-anchor=\"middle\" x=\"1591.8061\" y=\"-329.8904\" font-family=\"Times,serif\" font-size=\"14.00\" fill=\"#000000\">leaf_value: 0.09018296785190119</text>\n</g>\n<!-- split18&#45;&gt;leaf11 -->\n<g id=\"edge30\" class=\"edge\">\n<title>split18&#45;&gt;leaf11</title>\n<path fill=\"none\" stroke=\"#000000\" d=\"M1591.8061,-418.8573C1591.8061,-406.5179 1591.8061,-391.6964 1591.8061,-378.3175\"/>\n<polygon fill=\"#000000\" stroke=\"#000000\" points=\"1595.3062,-377.9721 1591.8061,-367.9722 1588.3062,-377.9722 1595.3062,-377.9721\"/>\n<text text-anchor=\"middle\" x=\"1600.3061\" y=\"-389.7605\" font-family=\"Times,serif\" font-size=\"14.00\" fill=\"#000000\">&lt;=</text>\n</g>\n<!-- leaf19 -->\n<g id=\"node39\" class=\"node\">\n<title>leaf19</title>\n<ellipse fill=\"none\" stroke=\"#000000\" cx=\"1916.8061\" cy=\"-341.0904\" rx=\"150.7276\" ry=\"26.7407\"/>\n<text text-anchor=\"middle\" x=\"1916.8061\" y=\"-344.8904\" font-family=\"Times,serif\" font-size=\"14.00\" fill=\"#000000\">leaf_index: 19</text>\n<text text-anchor=\"middle\" x=\"1916.8061\" y=\"-329.8904\" font-family=\"Times,serif\" font-size=\"14.00\" fill=\"#000000\">leaf_value: 0.2527411805971979</text>\n</g>\n<!-- split18&#45;&gt;leaf19 -->\n<g id=\"edge31\" class=\"edge\">\n<title>split18&#45;&gt;leaf19</title>\n<path fill=\"none\" stroke=\"#000000\" d=\"M1664.7425,-422.3248C1715.0431,-406.1141 1781.9939,-384.5373 1834.253,-367.6954\"/>\n<polygon fill=\"#000000\" stroke=\"#000000\" points=\"1835.3883,-371.0069 1843.8326,-364.6081 1833.2411,-364.3443 1835.3883,-371.0069\"/>\n<text text-anchor=\"middle\" x=\"1778.3061\" y=\"-389.7605\" font-family=\"Times,serif\" font-size=\"14.00\" fill=\"#000000\">&gt;</text>\n</g>\n<!-- split20 -->\n<g id=\"node41\" class=\"node\">\n<title>split20</title>\n<ellipse fill=\"none\" stroke=\"#000000\" cx=\"1756.8061\" cy=\"-760.0509\" rx=\"147.5709\" ry=\"26.7407\"/>\n<text text-anchor=\"middle\" x=\"1756.8061\" y=\"-763.8509\" font-family=\"Times,serif\" font-size=\"14.00\" fill=\"#000000\">split_feature_name: C14</text>\n<text text-anchor=\"middle\" x=\"1756.8061\" y=\"-748.8509\" font-family=\"Times,serif\" font-size=\"14.00\" fill=\"#000000\">threshold: 0.3134138774947434</text>\n</g>\n<!-- split4&#45;&gt;split20 -->\n<g id=\"edge43\" class=\"edge\">\n<title>split4&#45;&gt;split20</title>\n<path fill=\"none\" stroke=\"#000000\" d=\"M1756.8061,-837.8178C1756.8061,-825.4784 1756.8061,-810.6569 1756.8061,-797.278\"/>\n<polygon fill=\"#000000\" stroke=\"#000000\" points=\"1760.3062,-796.9326 1756.8061,-786.9326 1753.3062,-796.9327 1760.3062,-796.9326\"/>\n<text text-anchor=\"middle\" x=\"1765.3061\" y=\"-808.7209\" font-family=\"Times,serif\" font-size=\"14.00\" fill=\"#000000\">&lt;=</text>\n</g>\n<!-- split22 -->\n<g id=\"node48\" class=\"node\">\n<title>split22</title>\n<ellipse fill=\"none\" stroke=\"#000000\" cx=\"2240.8061\" cy=\"-760.0509\" rx=\"147.5709\" ry=\"26.7407\"/>\n<text text-anchor=\"middle\" x=\"2240.8061\" y=\"-763.8509\" font-family=\"Times,serif\" font-size=\"14.00\" fill=\"#000000\">split_feature_name: site_id</text>\n<text text-anchor=\"middle\" x=\"2240.8061\" y=\"-748.8509\" font-family=\"Times,serif\" font-size=\"14.00\" fill=\"#000000\">threshold: 0.5065771999720418</text>\n</g>\n<!-- split4&#45;&gt;split22 -->\n<g id=\"edge48\" class=\"edge\">\n<title>split4&#45;&gt;split22</title>\n<path fill=\"none\" stroke=\"#000000\" d=\"M1853.0076,-843.9725C1934.6837,-826.2973 2051.6853,-800.9776 2135.7819,-782.7787\"/>\n<polygon fill=\"#000000\" stroke=\"#000000\" points=\"2136.5786,-786.1874 2145.612,-780.6514 2135.098,-779.3457 2136.5786,-786.1874\"/>\n<text text-anchor=\"middle\" x=\"2032.3061\" y=\"-808.7209\" font-family=\"Times,serif\" font-size=\"14.00\" fill=\"#000000\">&gt;</text>\n</g>\n<!-- split28 -->\n<g id=\"node42\" class=\"node\">\n<title>split28</title>\n<ellipse fill=\"none\" stroke=\"#000000\" cx=\"1595.8061\" cy=\"-655.3107\" rx=\"152.0559\" ry=\"26.7407\"/>\n<text text-anchor=\"middle\" x=\"1595.8061\" y=\"-659.1107\" font-family=\"Times,serif\" font-size=\"14.00\" fill=\"#000000\">split_feature_name: device_model</text>\n<text text-anchor=\"middle\" x=\"1595.8061\" y=\"-644.1107\" font-family=\"Times,serif\" font-size=\"14.00\" fill=\"#000000\">threshold: 0.13783192331175145</text>\n</g>\n<!-- split20&#45;&gt;split28 -->\n<g id=\"edge41\" class=\"edge\">\n<title>split20&#45;&gt;split28</title>\n<path fill=\"none\" stroke=\"#000000\" d=\"M1717.0084,-734.16C1695.0448,-719.8714 1667.5954,-702.0139 1644.3758,-686.9082\"/>\n<polygon fill=\"#000000\" stroke=\"#000000\" points=\"1645.995,-683.7861 1635.704,-681.2667 1642.1777,-689.6538 1645.995,-683.7861\"/>\n<text text-anchor=\"middle\" x=\"1695.3061\" y=\"-703.9808\" font-family=\"Times,serif\" font-size=\"14.00\" fill=\"#000000\">&lt;=</text>\n</g>\n<!-- leaf21 -->\n<g id=\"node47\" class=\"node\">\n<title>leaf21</title>\n<ellipse fill=\"none\" stroke=\"#000000\" cx=\"1916.8061\" cy=\"-655.3107\" rx=\"151.1419\" ry=\"26.7407\"/>\n<text text-anchor=\"middle\" x=\"1916.8061\" y=\"-659.1107\" font-family=\"Times,serif\" font-size=\"14.00\" fill=\"#000000\">leaf_index: 21</text>\n<text text-anchor=\"middle\" x=\"1916.8061\" y=\"-644.1107\" font-family=\"Times,serif\" font-size=\"14.00\" fill=\"#000000\">leaf_value: 0.1263125081335568</text>\n</g>\n<!-- split20&#45;&gt;leaf21 -->\n<g id=\"edge42\" class=\"edge\">\n<title>split20&#45;&gt;leaf21</title>\n<path fill=\"none\" stroke=\"#000000\" d=\"M1796.3567,-734.16C1818.1839,-719.8714 1845.4628,-702.0139 1868.5381,-686.9082\"/>\n<polygon fill=\"#000000\" stroke=\"#000000\" points=\"1870.7063,-689.6722 1877.156,-681.2667 1866.8723,-683.8155 1870.7063,-689.6722\"/>\n<text text-anchor=\"middle\" x=\"1851.3061\" y=\"-703.9808\" font-family=\"Times,serif\" font-size=\"14.00\" fill=\"#000000\">&gt;</text>\n</g>\n<!-- leaf3 -->\n<g id=\"node43\" class=\"node\">\n<title>leaf3</title>\n<ellipse fill=\"none\" stroke=\"#000000\" cx=\"1586.8061\" cy=\"-550.5706\" rx=\"156.0415\" ry=\"26.7407\"/>\n<text text-anchor=\"middle\" x=\"1586.8061\" y=\"-554.3706\" font-family=\"Times,serif\" font-size=\"14.00\" fill=\"#000000\">leaf_index: 3</text>\n<text text-anchor=\"middle\" x=\"1586.8061\" y=\"-539.3706\" font-family=\"Times,serif\" font-size=\"14.00\" fill=\"#000000\">leaf_value: 0.03036098637133818</text>\n</g>\n<!-- split28&#45;&gt;leaf3 -->\n<g id=\"edge37\" class=\"edge\">\n<title>split28&#45;&gt;leaf3</title>\n<path fill=\"none\" stroke=\"#000000\" d=\"M1593.4884,-628.3376C1592.4281,-615.9981 1591.1546,-601.1767 1590.0049,-587.7978\"/>\n<polygon fill=\"#000000\" stroke=\"#000000\" points=\"1593.4594,-587.116 1589.116,-577.4524 1586.4851,-587.7154 1593.4594,-587.116\"/>\n<text text-anchor=\"middle\" x=\"1601.3061\" y=\"-599.2407\" font-family=\"Times,serif\" font-size=\"14.00\" fill=\"#000000\">&lt;=</text>\n</g>\n<!-- split29 -->\n<g id=\"node44\" class=\"node\">\n<title>split29</title>\n<ellipse fill=\"none\" stroke=\"#000000\" cx=\"1913.8061\" cy=\"-550.5706\" rx=\"152.9705\" ry=\"26.7407\"/>\n<text text-anchor=\"middle\" x=\"1913.8061\" y=\"-554.3706\" font-family=\"Times,serif\" font-size=\"14.00\" fill=\"#000000\">split_feature_name: site_domain</text>\n<text text-anchor=\"middle\" x=\"1913.8061\" y=\"-539.3706\" font-family=\"Times,serif\" font-size=\"14.00\" fill=\"#000000\">threshold: 0.31233465608465366</text>\n</g>\n<!-- split28&#45;&gt;split29 -->\n<g id=\"edge40\" class=\"edge\">\n<title>split28&#45;&gt;split29</title>\n<path fill=\"none\" stroke=\"#000000\" d=\"M1667.9653,-631.5436C1716.7708,-615.4684 1781.3233,-594.2067 1832.0336,-577.5042\"/>\n<polygon fill=\"#000000\" stroke=\"#000000\" points=\"1833.2548,-580.787 1841.6579,-574.3342 1831.0649,-574.1383 1833.2548,-580.787\"/>\n<text text-anchor=\"middle\" x=\"1779.3061\" y=\"-599.2407\" font-family=\"Times,serif\" font-size=\"14.00\" fill=\"#000000\">&gt;</text>\n</g>\n<!-- leaf29 -->\n<g id=\"node45\" class=\"node\">\n<title>leaf29</title>\n<ellipse fill=\"none\" stroke=\"#000000\" cx=\"1913.8061\" cy=\"-445.8305\" rx=\"156.0415\" ry=\"26.7407\"/>\n<text text-anchor=\"middle\" x=\"1913.8061\" y=\"-449.6305\" font-family=\"Times,serif\" font-size=\"14.00\" fill=\"#000000\">leaf_index: 29</text>\n<text text-anchor=\"middle\" x=\"1913.8061\" y=\"-434.6305\" font-family=\"Times,serif\" font-size=\"14.00\" fill=\"#000000\">leaf_value: 0.06888843925380617</text>\n</g>\n<!-- split29&#45;&gt;leaf29 -->\n<g id=\"edge38\" class=\"edge\">\n<title>split29&#45;&gt;leaf29</title>\n<path fill=\"none\" stroke=\"#000000\" d=\"M1913.8061,-523.5975C1913.8061,-511.258 1913.8061,-496.4365 1913.8061,-483.0577\"/>\n<polygon fill=\"#000000\" stroke=\"#000000\" points=\"1917.3062,-482.7123 1913.8061,-472.7123 1910.3062,-482.7123 1917.3062,-482.7123\"/>\n<text text-anchor=\"middle\" x=\"1922.3061\" y=\"-494.5006\" font-family=\"Times,serif\" font-size=\"14.00\" fill=\"#000000\">&lt;=</text>\n</g>\n<!-- leaf30 -->\n<g id=\"node46\" class=\"node\">\n<title>leaf30</title>\n<ellipse fill=\"none\" stroke=\"#000000\" cx=\"2244.8061\" cy=\"-445.8305\" rx=\"156.0415\" ry=\"26.7407\"/>\n<text text-anchor=\"middle\" x=\"2244.8061\" y=\"-449.6305\" font-family=\"Times,serif\" font-size=\"14.00\" fill=\"#000000\">leaf_index: 30</text>\n<text text-anchor=\"middle\" x=\"2244.8061\" y=\"-434.6305\" font-family=\"Times,serif\" font-size=\"14.00\" fill=\"#000000\">leaf_value: 0.13716196570030043</text>\n</g>\n<!-- split29&#45;&gt;leaf30 -->\n<g id=\"edge39\" class=\"edge\">\n<title>split29&#45;&gt;leaf30</title>\n<path fill=\"none\" stroke=\"#000000\" d=\"M1988.089,-527.0649C2039.1388,-510.911 2107.0276,-489.4285 2160.1691,-472.6127\"/>\n<polygon fill=\"#000000\" stroke=\"#000000\" points=\"2161.4347,-475.8833 2169.9128,-469.5294 2159.3228,-469.2095 2161.4347,-475.8833\"/>\n<text text-anchor=\"middle\" x=\"2104.3061\" y=\"-494.5006\" font-family=\"Times,serif\" font-size=\"14.00\" fill=\"#000000\">&gt;</text>\n</g>\n<!-- split25 -->\n<g id=\"node49\" class=\"node\">\n<title>split25</title>\n<ellipse fill=\"none\" stroke=\"#000000\" cx=\"2240.8061\" cy=\"-655.3107\" rx=\"152.9705\" ry=\"26.7407\"/>\n<text text-anchor=\"middle\" x=\"2240.8061\" y=\"-659.1107\" font-family=\"Times,serif\" font-size=\"14.00\" fill=\"#000000\">split_feature_name: C14</text>\n<text text-anchor=\"middle\" x=\"2240.8061\" y=\"-644.1107\" font-family=\"Times,serif\" font-size=\"14.00\" fill=\"#000000\">threshold: 0.47234814370743883</text>\n</g>\n<!-- split22&#45;&gt;split25 -->\n<g id=\"edge46\" class=\"edge\">\n<title>split22&#45;&gt;split25</title>\n<path fill=\"none\" stroke=\"#000000\" d=\"M2240.8061,-733.0777C2240.8061,-720.7382 2240.8061,-705.9168 2240.8061,-692.5379\"/>\n<polygon fill=\"#000000\" stroke=\"#000000\" points=\"2244.3062,-692.1925 2240.8061,-682.1925 2237.3062,-692.1926 2244.3062,-692.1925\"/>\n<text text-anchor=\"middle\" x=\"2249.3061\" y=\"-703.9808\" font-family=\"Times,serif\" font-size=\"14.00\" fill=\"#000000\">&lt;=</text>\n</g>\n<!-- leaf23 -->\n<g id=\"node52\" class=\"node\">\n<title>leaf23</title>\n<ellipse fill=\"none\" stroke=\"#000000\" cx=\"2567.8061\" cy=\"-655.3107\" rx=\"156.0415\" ry=\"26.7407\"/>\n<text text-anchor=\"middle\" x=\"2567.8061\" y=\"-659.1107\" font-family=\"Times,serif\" font-size=\"14.00\" fill=\"#000000\">leaf_index: 23</text>\n<text text-anchor=\"middle\" x=\"2567.8061\" y=\"-644.1107\" font-family=\"Times,serif\" font-size=\"14.00\" fill=\"#000000\">leaf_value: 0.23587383591026942</text>\n</g>\n<!-- split22&#45;&gt;leaf23 -->\n<g id=\"edge47\" class=\"edge\">\n<title>split22&#45;&gt;leaf23</title>\n<path fill=\"none\" stroke=\"#000000\" d=\"M2313.7843,-736.6755C2364.1983,-720.5276 2431.379,-699.0092 2483.9896,-682.1577\"/>\n<polygon fill=\"#000000\" stroke=\"#000000\" points=\"2485.1806,-685.4515 2493.6363,-679.0678 2483.0452,-678.7851 2485.1806,-685.4515\"/>\n<text text-anchor=\"middle\" x=\"2429.3061\" y=\"-703.9808\" font-family=\"Times,serif\" font-size=\"14.00\" fill=\"#000000\">&gt;</text>\n</g>\n<!-- leaf5 -->\n<g id=\"node50\" class=\"node\">\n<title>leaf5</title>\n<ellipse fill=\"none\" stroke=\"#000000\" cx=\"2240.8061\" cy=\"-550.5706\" rx=\"156.0415\" ry=\"26.7407\"/>\n<text text-anchor=\"middle\" x=\"2240.8061\" y=\"-554.3706\" font-family=\"Times,serif\" font-size=\"14.00\" fill=\"#000000\">leaf_index: 5</text>\n<text text-anchor=\"middle\" x=\"2240.8061\" y=\"-539.3706\" font-family=\"Times,serif\" font-size=\"14.00\" fill=\"#000000\">leaf_value: 0.13469185250192015</text>\n</g>\n<!-- split25&#45;&gt;leaf5 -->\n<g id=\"edge44\" class=\"edge\">\n<title>split25&#45;&gt;leaf5</title>\n<path fill=\"none\" stroke=\"#000000\" d=\"M2240.8061,-628.3376C2240.8061,-615.9981 2240.8061,-601.1767 2240.8061,-587.7978\"/>\n<polygon fill=\"#000000\" stroke=\"#000000\" points=\"2244.3062,-587.4524 2240.8061,-577.4524 2237.3062,-587.4524 2244.3062,-587.4524\"/>\n<text text-anchor=\"middle\" x=\"2249.3061\" y=\"-599.2407\" font-family=\"Times,serif\" font-size=\"14.00\" fill=\"#000000\">&lt;=</text>\n</g>\n<!-- leaf26 -->\n<g id=\"node51\" class=\"node\">\n<title>leaf26</title>\n<ellipse fill=\"none\" stroke=\"#000000\" cx=\"2571.8061\" cy=\"-550.5706\" rx=\"156.0415\" ry=\"26.7407\"/>\n<text text-anchor=\"middle\" x=\"2571.8061\" y=\"-554.3706\" font-family=\"Times,serif\" font-size=\"14.00\" fill=\"#000000\">leaf_index: 26</text>\n<text text-anchor=\"middle\" x=\"2571.8061\" y=\"-539.3706\" font-family=\"Times,serif\" font-size=\"14.00\" fill=\"#000000\">leaf_value: 0.20037783835845777</text>\n</g>\n<!-- split25&#45;&gt;leaf26 -->\n<g id=\"edge45\" class=\"edge\">\n<title>split25&#45;&gt;leaf26</title>\n<path fill=\"none\" stroke=\"#000000\" d=\"M2315.089,-631.805C2366.1388,-615.6511 2434.0276,-594.1686 2487.1691,-577.3528\"/>\n<polygon fill=\"#000000\" stroke=\"#000000\" points=\"2488.4347,-580.6234 2496.9128,-574.2695 2486.3228,-573.9496 2488.4347,-580.6234\"/>\n<text text-anchor=\"middle\" x=\"2431.3061\" y=\"-599.2407\" font-family=\"Times,serif\" font-size=\"14.00\" fill=\"#000000\">&gt;</text>\n</g>\n<!-- split14 -->\n<g id=\"node54\" class=\"node\">\n<title>split14</title>\n<ellipse fill=\"none\" stroke=\"#000000\" cx=\"2569.8061\" cy=\"-864.791\" rx=\"152.9705\" ry=\"26.7407\"/>\n<text text-anchor=\"middle\" x=\"2569.8061\" y=\"-868.591\" font-family=\"Times,serif\" font-size=\"14.00\" fill=\"#000000\">split_feature_name: site_id</text>\n<text text-anchor=\"middle\" x=\"2569.8061\" y=\"-853.591\" font-family=\"Times,serif\" font-size=\"14.00\" fill=\"#000000\">threshold: 0.09131495689684078</text>\n</g>\n<!-- split5&#45;&gt;split14 -->\n<g id=\"edge59\" class=\"edge\">\n<title>split5&#45;&gt;split14</title>\n<path fill=\"none\" stroke=\"#000000\" d=\"M2569.8061,-942.5579C2569.8061,-930.2185 2569.8061,-915.397 2569.8061,-902.0181\"/>\n<polygon fill=\"#000000\" stroke=\"#000000\" points=\"2573.3062,-901.6727 2569.8061,-891.6728 2566.3062,-901.6728 2573.3062,-901.6727\"/>\n<text text-anchor=\"middle\" x=\"2578.3061\" y=\"-913.461\" font-family=\"Times,serif\" font-size=\"14.00\" fill=\"#000000\">&lt;=</text>\n</g>\n<!-- leaf6 -->\n<g id=\"node63\" class=\"node\">\n<title>leaf6</title>\n<ellipse fill=\"none\" stroke=\"#000000\" cx=\"2885.8061\" cy=\"-864.791\" rx=\"145.8282\" ry=\"26.7407\"/>\n<text text-anchor=\"middle\" x=\"2885.8061\" y=\"-868.591\" font-family=\"Times,serif\" font-size=\"14.00\" fill=\"#000000\">leaf_index: 6</text>\n<text text-anchor=\"middle\" x=\"2885.8061\" y=\"-853.591\" font-family=\"Times,serif\" font-size=\"14.00\" fill=\"#000000\">leaf_value: 0.354683989170554</text>\n</g>\n<!-- split5&#45;&gt;leaf6 -->\n<g id=\"edge60\" class=\"edge\">\n<title>split5&#45;&gt;leaf6</title>\n<path fill=\"none\" stroke=\"#000000\" d=\"M2641.1167,-945.8948C2689.855,-929.7402 2754.5328,-908.3023 2805.1513,-891.5245\"/>\n<polygon fill=\"#000000\" stroke=\"#000000\" points=\"2806.364,-894.8099 2814.755,-888.3413 2804.1616,-888.1654 2806.364,-894.8099\"/>\n<text text-anchor=\"middle\" x=\"2751.3061\" y=\"-913.461\" font-family=\"Times,serif\" font-size=\"14.00\" fill=\"#000000\">&gt;</text>\n</g>\n<!-- leaf2 -->\n<g id=\"node55\" class=\"node\">\n<title>leaf2</title>\n<ellipse fill=\"none\" stroke=\"#000000\" cx=\"2569.8061\" cy=\"-760.0509\" rx=\"156.0415\" ry=\"26.7407\"/>\n<text text-anchor=\"middle\" x=\"2569.8061\" y=\"-763.8509\" font-family=\"Times,serif\" font-size=\"14.00\" fill=\"#000000\">leaf_index: 2</text>\n<text text-anchor=\"middle\" x=\"2569.8061\" y=\"-748.8509\" font-family=\"Times,serif\" font-size=\"14.00\" fill=\"#000000\">leaf_value: 0.03395165841007285</text>\n</g>\n<!-- split14&#45;&gt;leaf2 -->\n<g id=\"edge51\" class=\"edge\">\n<title>split14&#45;&gt;leaf2</title>\n<path fill=\"none\" stroke=\"#000000\" d=\"M2569.8061,-837.8178C2569.8061,-825.4784 2569.8061,-810.6569 2569.8061,-797.278\"/>\n<polygon fill=\"#000000\" stroke=\"#000000\" points=\"2573.3062,-796.9326 2569.8061,-786.9326 2566.3062,-796.9327 2573.3062,-796.9326\"/>\n<text text-anchor=\"middle\" x=\"2578.3061\" y=\"-808.7209\" font-family=\"Times,serif\" font-size=\"14.00\" fill=\"#000000\">&lt;=</text>\n</g>\n<!-- split16 -->\n<g id=\"node56\" class=\"node\">\n<title>split16</title>\n<ellipse fill=\"none\" stroke=\"#000000\" cx=\"2904.8061\" cy=\"-760.0509\" rx=\"152.9705\" ry=\"26.7407\"/>\n<text text-anchor=\"middle\" x=\"2904.8061\" y=\"-763.8509\" font-family=\"Times,serif\" font-size=\"14.00\" fill=\"#000000\">split_feature_name: site_domain</text>\n<text text-anchor=\"middle\" x=\"2904.8061\" y=\"-748.8509\" font-family=\"Times,serif\" font-size=\"14.00\" fill=\"#000000\">threshold: 0.26520870735733343</text>\n</g>\n<!-- split14&#45;&gt;split16 -->\n<g id=\"edge58\" class=\"edge\">\n<title>split14&#45;&gt;split16</title>\n<path fill=\"none\" stroke=\"#000000\" d=\"M2644.9867,-841.2853C2697.0335,-825.0124 2766.3747,-803.3324 2820.3311,-786.4626\"/>\n<polygon fill=\"#000000\" stroke=\"#000000\" points=\"2821.3766,-789.8029 2829.8765,-783.4781 2819.2877,-783.1218 2821.3766,-789.8029\"/>\n<text text-anchor=\"middle\" x=\"2762.3061\" y=\"-808.7209\" font-family=\"Times,serif\" font-size=\"14.00\" fill=\"#000000\">&gt;</text>\n</g>\n<!-- split19 -->\n<g id=\"node57\" class=\"node\">\n<title>split19</title>\n<ellipse fill=\"none\" stroke=\"#000000\" cx=\"2904.8061\" cy=\"-655.3107\" rx=\"152.9705\" ry=\"26.7407\"/>\n<text text-anchor=\"middle\" x=\"2904.8061\" y=\"-659.1107\" font-family=\"Times,serif\" font-size=\"14.00\" fill=\"#000000\">split_feature_name: device_id</text>\n<text text-anchor=\"middle\" x=\"2904.8061\" y=\"-644.1107\" font-family=\"Times,serif\" font-size=\"14.00\" fill=\"#000000\">threshold: 0.07417593566707327</text>\n</g>\n<!-- split16&#45;&gt;split19 -->\n<g id=\"edge56\" class=\"edge\">\n<title>split16&#45;&gt;split19</title>\n<path fill=\"none\" stroke=\"#000000\" d=\"M2904.8061,-733.0777C2904.8061,-720.7382 2904.8061,-705.9168 2904.8061,-692.5379\"/>\n<polygon fill=\"#000000\" stroke=\"#000000\" points=\"2908.3062,-692.1925 2904.8061,-682.1925 2901.3062,-692.1926 2908.3062,-692.1925\"/>\n<text text-anchor=\"middle\" x=\"2913.3061\" y=\"-703.9808\" font-family=\"Times,serif\" font-size=\"14.00\" fill=\"#000000\">&lt;=</text>\n</g>\n<!-- leaf17 -->\n<g id=\"node62\" class=\"node\">\n<title>leaf17</title>\n<ellipse fill=\"none\" stroke=\"#000000\" cx=\"3231.8061\" cy=\"-655.3107\" rx=\"156.0415\" ry=\"26.7407\"/>\n<text text-anchor=\"middle\" x=\"3231.8061\" y=\"-659.1107\" font-family=\"Times,serif\" font-size=\"14.00\" fill=\"#000000\">leaf_index: 17</text>\n<text text-anchor=\"middle\" x=\"3231.8061\" y=\"-644.1107\" font-family=\"Times,serif\" font-size=\"14.00\" fill=\"#000000\">leaf_value: 0.26613920855431394</text>\n</g>\n<!-- split16&#45;&gt;leaf17 -->\n<g id=\"edge57\" class=\"edge\">\n<title>split16&#45;&gt;leaf17</title>\n<path fill=\"none\" stroke=\"#000000\" d=\"M2978.599,-736.4145C3028.9614,-720.2832 3095.7709,-698.8837 3148.1177,-682.1167\"/>\n<polygon fill=\"#000000\" stroke=\"#000000\" points=\"3149.2608,-685.4258 3157.7165,-679.0421 3147.1255,-678.7594 3149.2608,-685.4258\"/>\n<text text-anchor=\"middle\" x=\"3093.3061\" y=\"-703.9808\" font-family=\"Times,serif\" font-size=\"14.00\" fill=\"#000000\">&gt;</text>\n</g>\n<!-- leaf15 -->\n<g id=\"node58\" class=\"node\">\n<title>leaf15</title>\n<ellipse fill=\"none\" stroke=\"#000000\" cx=\"2904.8061\" cy=\"-550.5706\" rx=\"159.1981\" ry=\"26.7407\"/>\n<text text-anchor=\"middle\" x=\"2904.8061\" y=\"-554.3706\" font-family=\"Times,serif\" font-size=\"14.00\" fill=\"#000000\">leaf_index: 15</text>\n<text text-anchor=\"middle\" x=\"2904.8061\" y=\"-539.3706\" font-family=\"Times,serif\" font-size=\"14.00\" fill=\"#000000\">leaf_value: &#45;0.11737581966343774</text>\n</g>\n<!-- split19&#45;&gt;leaf15 -->\n<g id=\"edge52\" class=\"edge\">\n<title>split19&#45;&gt;leaf15</title>\n<path fill=\"none\" stroke=\"#000000\" d=\"M2904.8061,-628.3376C2904.8061,-615.9981 2904.8061,-601.1767 2904.8061,-587.7978\"/>\n<polygon fill=\"#000000\" stroke=\"#000000\" points=\"2908.3062,-587.4524 2904.8061,-577.4524 2901.3062,-587.4524 2908.3062,-587.4524\"/>\n<text text-anchor=\"middle\" x=\"2913.3061\" y=\"-599.2407\" font-family=\"Times,serif\" font-size=\"14.00\" fill=\"#000000\">&lt;=</text>\n</g>\n<!-- split23 -->\n<g id=\"node59\" class=\"node\">\n<title>split23</title>\n<ellipse fill=\"none\" stroke=\"#000000\" cx=\"3229.8061\" cy=\"-550.5706\" rx=\"147.5709\" ry=\"26.7407\"/>\n<text text-anchor=\"middle\" x=\"3229.8061\" y=\"-554.3706\" font-family=\"Times,serif\" font-size=\"14.00\" fill=\"#000000\">split_feature_name: device_ip</text>\n<text text-anchor=\"middle\" x=\"3229.8061\" y=\"-539.3706\" font-family=\"Times,serif\" font-size=\"14.00\" fill=\"#000000\">threshold: 0.5485808210731921</text>\n</g>\n<!-- split19&#45;&gt;split23 -->\n<g id=\"edge55\" class=\"edge\">\n<title>split19&#45;&gt;split23</title>\n<path fill=\"none\" stroke=\"#000000\" d=\"M2978.1477,-631.6744C3028.4664,-615.4578 3095.3048,-593.9174 3147.4528,-577.1113\"/>\n<polygon fill=\"#000000\" stroke=\"#000000\" points=\"3148.5674,-580.4294 3157.0117,-574.0306 3146.4201,-573.7668 3148.5674,-580.4294\"/>\n<text text-anchor=\"middle\" x=\"3091.3061\" y=\"-599.2407\" font-family=\"Times,serif\" font-size=\"14.00\" fill=\"#000000\">&gt;</text>\n</g>\n<!-- leaf20 -->\n<g id=\"node60\" class=\"node\">\n<title>leaf20</title>\n<ellipse fill=\"none\" stroke=\"#000000\" cx=\"3063.8061\" cy=\"-445.8305\" rx=\"156.0415\" ry=\"26.7407\"/>\n<text text-anchor=\"middle\" x=\"3063.8061\" y=\"-449.6305\" font-family=\"Times,serif\" font-size=\"14.00\" fill=\"#000000\">leaf_index: 20</text>\n<text text-anchor=\"middle\" x=\"3063.8061\" y=\"-434.6305\" font-family=\"Times,serif\" font-size=\"14.00\" fill=\"#000000\">leaf_value: 0.16328090674176055</text>\n</g>\n<!-- split23&#45;&gt;leaf20 -->\n<g id=\"edge53\" class=\"edge\">\n<title>split23&#45;&gt;leaf20</title>\n<path fill=\"none\" stroke=\"#000000\" d=\"M3188.7724,-524.6798C3166.0269,-510.3282 3137.5754,-492.3763 3113.5681,-477.2285\"/>\n<polygon fill=\"#000000\" stroke=\"#000000\" points=\"3115.2681,-474.1627 3104.9431,-471.7865 3111.5327,-480.0828 3115.2681,-474.1627\"/>\n<text text-anchor=\"middle\" x=\"3165.3061\" y=\"-494.5006\" font-family=\"Times,serif\" font-size=\"14.00\" fill=\"#000000\">&lt;=</text>\n</g>\n<!-- leaf24 -->\n<g id=\"node61\" class=\"node\">\n<title>leaf24</title>\n<ellipse fill=\"none\" stroke=\"#000000\" cx=\"3394.8061\" cy=\"-445.8305\" rx=\"156.0415\" ry=\"26.7407\"/>\n<text text-anchor=\"middle\" x=\"3394.8061\" y=\"-449.6305\" font-family=\"Times,serif\" font-size=\"14.00\" fill=\"#000000\">leaf_index: 24</text>\n<text text-anchor=\"middle\" x=\"3394.8061\" y=\"-434.6305\" font-family=\"Times,serif\" font-size=\"14.00\" fill=\"#000000\">leaf_value: 0.24214459561427068</text>\n</g>\n<!-- split23&#45;&gt;leaf24 -->\n<g id=\"edge54\" class=\"edge\">\n<title>split23&#45;&gt;leaf24</title>\n<path fill=\"none\" stroke=\"#000000\" d=\"M3270.5927,-524.6798C3293.2011,-510.3282 3321.4813,-492.3763 3345.344,-477.2285\"/>\n<polygon fill=\"#000000\" stroke=\"#000000\" points=\"3347.3501,-480.1008 3353.917,-471.7865 3343.5985,-474.1909 3347.3501,-480.1008\"/>\n<text text-anchor=\"middle\" x=\"3327.3061\" y=\"-494.5006\" font-family=\"Times,serif\" font-size=\"14.00\" fill=\"#000000\">&gt;</text>\n</g>\n</g>\n</svg>\n"
          },
          "metadata": {
            "tags": []
          },
          "execution_count": 69
        }
      ]
    }
  ]
}